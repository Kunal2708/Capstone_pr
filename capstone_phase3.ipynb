{
 "cells": [
  {
   "cell_type": "markdown",
   "id": "23bbf51d",
   "metadata": {},
   "source": [
    "Name : Kunal Mody\n",
    "\n",
    "Batch : DS0623\n"
   ]
  },
  {
   "cell_type": "markdown",
   "id": "2beb039c",
   "metadata": {},
   "source": [
    "### Phase  3                                                                   \n",
    "\n",
    "Now make only 1 dataframe of 3 csv file using concat/merge /join operation of pandas and start doing EDA . Do the complete EDA in details to explore the insights of data and write the detailed observations of each analysis . \n",
    "\n",
    "\n",
    "\n",
    "### Phase 4                                               \n",
    "\n",
    "\n",
    "Write the complete Machine learning code to make predictions of buy  total  price , carpet area  and property type. \n",
    "Use appropriate models on their label basis. Remember you need to make 3 different predictions: buy total price, carpet area, property type. Apply all the best techniques of scaling ,hyperparameter tuning , avoid underfitting or overfitting (bias/variance)\n",
    "\n",
    "\n",
    "At the end save the best model and convey on which basis you have chosen that model.   \n"
   ]
  },
  {
   "cell_type": "code",
   "execution_count": 21,
   "id": "3520d3ff",
   "metadata": {},
   "outputs": [],
   "source": [
    "# Importing all libraties\n",
    "# Pandas and Numpy have been used for Data Manipulation and numerical Calculations\n",
    "# Matplotlib and Seaborn have been used for Data visualizations. \n",
    "\n",
    "import pandas as pd\n",
    "import numpy as np\n",
    "import seaborn as sns\n",
    "import matplotlib.pyplot as plt\n",
    "import warnings\n",
    "warnings.filterwarnings('ignore')"
   ]
  },
  {
   "cell_type": "code",
   "execution_count": 22,
   "id": "597bd6af",
   "metadata": {},
   "outputs": [
    {
     "data": {
      "text/html": [
       "<div>\n",
       "<style scoped>\n",
       "    .dataframe tbody tr th:only-of-type {\n",
       "        vertical-align: middle;\n",
       "    }\n",
       "\n",
       "    .dataframe tbody tr th {\n",
       "        vertical-align: top;\n",
       "    }\n",
       "\n",
       "    .dataframe thead th {\n",
       "        text-align: right;\n",
       "    }\n",
       "</style>\n",
       "<table border=\"1\" class=\"dataframe\">\n",
       "  <thead>\n",
       "    <tr style=\"text-align: right;\">\n",
       "      <th></th>\n",
       "      <th>S.No.</th>\n",
       "      <th>Property_Name</th>\n",
       "      <th>Price_in_INR</th>\n",
       "      <th>No_of_Bedroom</th>\n",
       "      <th>Property_type</th>\n",
       "      <th>No_of_Bathroom</th>\n",
       "      <th>Carpet_Area(Sq Ft)</th>\n",
       "      <th>Garden</th>\n",
       "      <th>Property Status</th>\n",
       "      <th>Parking</th>\n",
       "      <th>Council_Tax</th>\n",
       "    </tr>\n",
       "  </thead>\n",
       "  <tbody>\n",
       "    <tr>\n",
       "      <th>0</th>\n",
       "      <td>0</td>\n",
       "      <td>Beaumont Avenue, Fulham</td>\n",
       "      <td>98059250</td>\n",
       "      <td>3</td>\n",
       "      <td>Flat</td>\n",
       "      <td>2</td>\n",
       "      <td>0</td>\n",
       "      <td>Ask agent</td>\n",
       "      <td>TENURE\\nShare of Freehold</td>\n",
       "      <td>Ask agent</td>\n",
       "      <td>Ask agent</td>\n",
       "    </tr>\n",
       "    <tr>\n",
       "      <th>1</th>\n",
       "      <td>1</td>\n",
       "      <td>One Hyde Park, Knightsbridge</td>\n",
       "      <td>2147483648</td>\n",
       "      <td>5</td>\n",
       "      <td>Apartment</td>\n",
       "      <td>5</td>\n",
       "      <td>0</td>\n",
       "      <td>Terrace</td>\n",
       "      <td>TENURE\\nLeasehold</td>\n",
       "      <td>Garage</td>\n",
       "      <td>Ask agent</td>\n",
       "    </tr>\n",
       "    <tr>\n",
       "      <th>2</th>\n",
       "      <td>2</td>\n",
       "      <td>Buckingham Gate, Westminster, SW1E</td>\n",
       "      <td>2147483648</td>\n",
       "      <td>8</td>\n",
       "      <td>Terraced</td>\n",
       "      <td>9</td>\n",
       "      <td>0</td>\n",
       "      <td>Communal garden</td>\n",
       "      <td>-</td>\n",
       "      <td>Garage</td>\n",
       "      <td>Ask agent</td>\n",
       "    </tr>\n",
       "    <tr>\n",
       "      <th>3</th>\n",
       "      <td>3</td>\n",
       "      <td>Buckingham Gate, SW1</td>\n",
       "      <td>2147483648</td>\n",
       "      <td>9</td>\n",
       "      <td>Terraced</td>\n",
       "      <td>9</td>\n",
       "      <td>15000</td>\n",
       "      <td>Ask agent</td>\n",
       "      <td>-</td>\n",
       "      <td>Yes</td>\n",
       "      <td>Band: H</td>\n",
       "    </tr>\n",
       "    <tr>\n",
       "      <th>4</th>\n",
       "      <td>5</td>\n",
       "      <td>Wilton Crescent, London, SW1X</td>\n",
       "      <td>2147483648</td>\n",
       "      <td>8</td>\n",
       "      <td>Terraced</td>\n",
       "      <td>8</td>\n",
       "      <td>9000</td>\n",
       "      <td>Ask agent</td>\n",
       "      <td>-</td>\n",
       "      <td>Yes</td>\n",
       "      <td>Band: H</td>\n",
       "    </tr>\n",
       "    <tr>\n",
       "      <th>...</th>\n",
       "      <td>...</td>\n",
       "      <td>...</td>\n",
       "      <td>...</td>\n",
       "      <td>...</td>\n",
       "      <td>...</td>\n",
       "      <td>...</td>\n",
       "      <td>...</td>\n",
       "      <td>...</td>\n",
       "      <td>...</td>\n",
       "      <td>...</td>\n",
       "      <td>...</td>\n",
       "    </tr>\n",
       "    <tr>\n",
       "      <th>3068</th>\n",
       "      <td>3245</td>\n",
       "      <td>St. Saviours Place, York, YO1 7PJ</td>\n",
       "      <td>68906500</td>\n",
       "      <td>3</td>\n",
       "      <td>Apartment</td>\n",
       "      <td>3</td>\n",
       "      <td>1000</td>\n",
       "      <td>Ask agent</td>\n",
       "      <td>TENURE\\nLeasehold</td>\n",
       "      <td>Yes</td>\n",
       "      <td>Band: G</td>\n",
       "    </tr>\n",
       "    <tr>\n",
       "      <th>3069</th>\n",
       "      <td>3246</td>\n",
       "      <td>Mount Terrace, York, North Yorkshire, YO24</td>\n",
       "      <td>68906500</td>\n",
       "      <td>3</td>\n",
       "      <td>Terraced</td>\n",
       "      <td>2</td>\n",
       "      <td>1000</td>\n",
       "      <td>Yes</td>\n",
       "      <td>-</td>\n",
       "      <td>Ask agent</td>\n",
       "      <td>Band: E</td>\n",
       "    </tr>\n",
       "    <tr>\n",
       "      <th>3070</th>\n",
       "      <td>3247</td>\n",
       "      <td>47 Holgate Road, York</td>\n",
       "      <td>68906500</td>\n",
       "      <td>4</td>\n",
       "      <td>House</td>\n",
       "      <td>2</td>\n",
       "      <td>2000</td>\n",
       "      <td>Yes</td>\n",
       "      <td>-</td>\n",
       "      <td>Yes</td>\n",
       "      <td>Band: C</td>\n",
       "    </tr>\n",
       "    <tr>\n",
       "      <th>3071</th>\n",
       "      <td>3248</td>\n",
       "      <td>Grosvenor Road, Off Bootham, York</td>\n",
       "      <td>68906500</td>\n",
       "      <td>3</td>\n",
       "      <td>Semi-Detached</td>\n",
       "      <td>2</td>\n",
       "      <td>0</td>\n",
       "      <td>Yes</td>\n",
       "      <td>-</td>\n",
       "      <td>Yes</td>\n",
       "      <td>Band: TBC</td>\n",
       "    </tr>\n",
       "    <tr>\n",
       "      <th>3072</th>\n",
       "      <td>3249</td>\n",
       "      <td>Carousel House Joseph Terry Grove, North Yorks...</td>\n",
       "      <td>68906500</td>\n",
       "      <td>2</td>\n",
       "      <td>Penthouse</td>\n",
       "      <td>2</td>\n",
       "      <td>0</td>\n",
       "      <td>Ask agent</td>\n",
       "      <td>-</td>\n",
       "      <td>Yes</td>\n",
       "      <td>Band: TBC</td>\n",
       "    </tr>\n",
       "  </tbody>\n",
       "</table>\n",
       "<p>3073 rows × 11 columns</p>\n",
       "</div>"
      ],
      "text/plain": [
       "      S.No.                                      Property_Name  Price_in_INR  \\\n",
       "0         0                            Beaumont Avenue, Fulham      98059250   \n",
       "1         1                       One Hyde Park, Knightsbridge    2147483648   \n",
       "2         2                 Buckingham Gate, Westminster, SW1E    2147483648   \n",
       "3         3                               Buckingham Gate, SW1    2147483648   \n",
       "4         5                      Wilton Crescent, London, SW1X    2147483648   \n",
       "...     ...                                                ...           ...   \n",
       "3068   3245                  St. Saviours Place, York, YO1 7PJ      68906500   \n",
       "3069   3246         Mount Terrace, York, North Yorkshire, YO24      68906500   \n",
       "3070   3247                              47 Holgate Road, York      68906500   \n",
       "3071   3248                  Grosvenor Road, Off Bootham, York      68906500   \n",
       "3072   3249  Carousel House Joseph Terry Grove, North Yorks...      68906500   \n",
       "\n",
       "      No_of_Bedroom  Property_type  No_of_Bathroom  Carpet_Area(Sq Ft)  \\\n",
       "0                 3           Flat               2                   0   \n",
       "1                 5      Apartment               5                   0   \n",
       "2                 8       Terraced               9                   0   \n",
       "3                 9       Terraced               9               15000   \n",
       "4                 8       Terraced               8                9000   \n",
       "...             ...            ...             ...                 ...   \n",
       "3068              3      Apartment               3                1000   \n",
       "3069              3       Terraced               2                1000   \n",
       "3070              4          House               2                2000   \n",
       "3071              3  Semi-Detached               2                   0   \n",
       "3072              2      Penthouse               2                   0   \n",
       "\n",
       "               Garden            Property Status    Parking Council_Tax  \n",
       "0           Ask agent  TENURE\\nShare of Freehold  Ask agent   Ask agent  \n",
       "1             Terrace          TENURE\\nLeasehold     Garage   Ask agent  \n",
       "2     Communal garden                          -     Garage   Ask agent  \n",
       "3           Ask agent                          -        Yes     Band: H  \n",
       "4           Ask agent                          -        Yes     Band: H  \n",
       "...               ...                        ...        ...         ...  \n",
       "3068        Ask agent          TENURE\\nLeasehold        Yes     Band: G  \n",
       "3069              Yes                          -  Ask agent     Band: E  \n",
       "3070              Yes                          -        Yes     Band: C  \n",
       "3071              Yes                          -        Yes   Band: TBC  \n",
       "3072        Ask agent                          -        Yes   Band: TBC  \n",
       "\n",
       "[3073 rows x 11 columns]"
      ]
     },
     "execution_count": 22,
     "metadata": {},
     "output_type": "execute_result"
    }
   ],
   "source": [
    "#reading data\n",
    "df =pd.read_csv('UK_Property_Details.csv')\n",
    "df"
   ]
  },
  {
   "cell_type": "code",
   "execution_count": 23,
   "id": "05a17cdc",
   "metadata": {},
   "outputs": [
    {
     "data": {
      "text/html": [
       "<div>\n",
       "<style scoped>\n",
       "    .dataframe tbody tr th:only-of-type {\n",
       "        vertical-align: middle;\n",
       "    }\n",
       "\n",
       "    .dataframe tbody tr th {\n",
       "        vertical-align: top;\n",
       "    }\n",
       "\n",
       "    .dataframe thead th {\n",
       "        text-align: right;\n",
       "    }\n",
       "</style>\n",
       "<table border=\"1\" class=\"dataframe\">\n",
       "  <thead>\n",
       "    <tr style=\"text-align: right;\">\n",
       "      <th></th>\n",
       "      <th>S.No.</th>\n",
       "      <th>Property_Name</th>\n",
       "      <th>Price_in_INR</th>\n",
       "      <th>No_of_Bedroom</th>\n",
       "      <th>Property_type</th>\n",
       "      <th>No_of_Bathroom</th>\n",
       "      <th>Carpet_Area(Sq Ft)</th>\n",
       "      <th>Garden</th>\n",
       "      <th>Property Status</th>\n",
       "      <th>Parking</th>\n",
       "      <th>Council_Tax</th>\n",
       "    </tr>\n",
       "  </thead>\n",
       "  <tbody>\n",
       "    <tr>\n",
       "      <th>3011</th>\n",
       "      <td>3185</td>\n",
       "      <td>Albemarle Road, York, YO23</td>\n",
       "      <td>95409000</td>\n",
       "      <td>6</td>\n",
       "      <td>Terraced</td>\n",
       "      <td>7</td>\n",
       "      <td>2000</td>\n",
       "      <td>Ask agent</td>\n",
       "      <td>-</td>\n",
       "      <td>Ask agent</td>\n",
       "      <td>Band: TBC</td>\n",
       "    </tr>\n",
       "    <tr>\n",
       "      <th>1717</th>\n",
       "      <td>1817</td>\n",
       "      <td>Eleanor Way, Warley, Brentwood, Essex</td>\n",
       "      <td>126681950</td>\n",
       "      <td>4</td>\n",
       "      <td>Detached</td>\n",
       "      <td>3</td>\n",
       "      <td>2000</td>\n",
       "      <td>Yes</td>\n",
       "      <td>-</td>\n",
       "      <td>Yes</td>\n",
       "      <td>Band: TBC</td>\n",
       "    </tr>\n",
       "    <tr>\n",
       "      <th>2010</th>\n",
       "      <td>2119</td>\n",
       "      <td>Goldings Crescent, Hatfield</td>\n",
       "      <td>31803000</td>\n",
       "      <td>3</td>\n",
       "      <td>Terraced</td>\n",
       "      <td>1</td>\n",
       "      <td>0</td>\n",
       "      <td>Back garden,</td>\n",
       "      <td>-</td>\n",
       "      <td>Off street</td>\n",
       "      <td>Band: B</td>\n",
       "    </tr>\n",
       "    <tr>\n",
       "      <th>1015</th>\n",
       "      <td>1056</td>\n",
       "      <td>Worrall Road, Clifton, Bristol, BS8</td>\n",
       "      <td>63075950</td>\n",
       "      <td>3</td>\n",
       "      <td>Terraced</td>\n",
       "      <td>1</td>\n",
       "      <td>0</td>\n",
       "      <td>Yes</td>\n",
       "      <td>-</td>\n",
       "      <td>Ask agent</td>\n",
       "      <td>Band: D</td>\n",
       "    </tr>\n",
       "    <tr>\n",
       "      <th>254</th>\n",
       "      <td>262</td>\n",
       "      <td>Chelsea</td>\n",
       "      <td>1378130000</td>\n",
       "      <td>5</td>\n",
       "      <td>Apartment</td>\n",
       "      <td>4</td>\n",
       "      <td>0</td>\n",
       "      <td>Ask agent</td>\n",
       "      <td>TENURE\\nShare of Freehold</td>\n",
       "      <td>Ask agent</td>\n",
       "      <td>Ask agent</td>\n",
       "    </tr>\n",
       "    <tr>\n",
       "      <th>659</th>\n",
       "      <td>682</td>\n",
       "      <td>Elliston Road | Redland</td>\n",
       "      <td>105479950</td>\n",
       "      <td>4</td>\n",
       "      <td>Maisonette</td>\n",
       "      <td>3</td>\n",
       "      <td>0</td>\n",
       "      <td>Yes</td>\n",
       "      <td>-</td>\n",
       "      <td>Yes</td>\n",
       "      <td>Band: E</td>\n",
       "    </tr>\n",
       "    <tr>\n",
       "      <th>2901</th>\n",
       "      <td>3069</td>\n",
       "      <td>Bullingdon road, Cowley, Oxford, OX4</td>\n",
       "      <td>73676950</td>\n",
       "      <td>4</td>\n",
       "      <td>Terraced</td>\n",
       "      <td>1</td>\n",
       "      <td>0</td>\n",
       "      <td>Yes</td>\n",
       "      <td>-</td>\n",
       "      <td>Ask agent</td>\n",
       "      <td>Band: D</td>\n",
       "    </tr>\n",
       "    <tr>\n",
       "      <th>2744</th>\n",
       "      <td>2909</td>\n",
       "      <td>Abingdon Road, Oxford, Oxfordshire, OX1</td>\n",
       "      <td>121911500</td>\n",
       "      <td>5</td>\n",
       "      <td>End of Terrace</td>\n",
       "      <td>3</td>\n",
       "      <td>1000</td>\n",
       "      <td>Yes</td>\n",
       "      <td>-</td>\n",
       "      <td>Yes</td>\n",
       "      <td>Band: B</td>\n",
       "    </tr>\n",
       "    <tr>\n",
       "      <th>2119</th>\n",
       "      <td>2238</td>\n",
       "      <td>Cambridge, Cambridgeshire</td>\n",
       "      <td>79507500</td>\n",
       "      <td>3</td>\n",
       "      <td>Terraced</td>\n",
       "      <td>1</td>\n",
       "      <td>0</td>\n",
       "      <td>Yes</td>\n",
       "      <td>-</td>\n",
       "      <td>On street,</td>\n",
       "      <td>Band: D</td>\n",
       "    </tr>\n",
       "    <tr>\n",
       "      <th>2473</th>\n",
       "      <td>2620</td>\n",
       "      <td>Wetherby Road, Scarcroft, Leeds, West Yorkshire</td>\n",
       "      <td>116611000</td>\n",
       "      <td>4</td>\n",
       "      <td>Detached</td>\n",
       "      <td>3</td>\n",
       "      <td>0</td>\n",
       "      <td>Yes</td>\n",
       "      <td>-</td>\n",
       "      <td>Yes</td>\n",
       "      <td>Band: TBC</td>\n",
       "    </tr>\n",
       "    <tr>\n",
       "      <th>868</th>\n",
       "      <td>901</td>\n",
       "      <td>Sates Way, Bristol, BS9</td>\n",
       "      <td>73676950</td>\n",
       "      <td>4</td>\n",
       "      <td>Detached</td>\n",
       "      <td>1</td>\n",
       "      <td>0</td>\n",
       "      <td>Yes</td>\n",
       "      <td>-</td>\n",
       "      <td>Yes</td>\n",
       "      <td>Band: F</td>\n",
       "    </tr>\n",
       "    <tr>\n",
       "      <th>240</th>\n",
       "      <td>248</td>\n",
       "      <td>Beaufort Gardens, London, SW3</td>\n",
       "      <td>1431135000</td>\n",
       "      <td>3</td>\n",
       "      <td>Parking</td>\n",
       "      <td>7</td>\n",
       "      <td>0</td>\n",
       "      <td>Yes</td>\n",
       "      <td>-</td>\n",
       "      <td>Ask agent</td>\n",
       "      <td>Band: TBC</td>\n",
       "    </tr>\n",
       "    <tr>\n",
       "      <th>2988</th>\n",
       "      <td>3162</td>\n",
       "      <td>Fulford Road, York</td>\n",
       "      <td>137813000</td>\n",
       "      <td>12</td>\n",
       "      <td>Detached</td>\n",
       "      <td>12</td>\n",
       "      <td>0</td>\n",
       "      <td>Yes</td>\n",
       "      <td>-</td>\n",
       "      <td>Yes</td>\n",
       "      <td>Band: H</td>\n",
       "    </tr>\n",
       "    <tr>\n",
       "      <th>366</th>\n",
       "      <td>377</td>\n",
       "      <td>Lyall Street, London, SW1X</td>\n",
       "      <td>1160809500</td>\n",
       "      <td>4</td>\n",
       "      <td>End of Terrace</td>\n",
       "      <td>4</td>\n",
       "      <td>3000</td>\n",
       "      <td>Ask agent</td>\n",
       "      <td>TENURE\\nLeasehold</td>\n",
       "      <td>Ask agent</td>\n",
       "      <td>Ask agent</td>\n",
       "    </tr>\n",
       "    <tr>\n",
       "      <th>2220</th>\n",
       "      <td>2355</td>\n",
       "      <td>Chester Road, Manchester, Greater Manchester</td>\n",
       "      <td>48764600</td>\n",
       "      <td>2</td>\n",
       "      <td>Apartment</td>\n",
       "      <td>2</td>\n",
       "      <td>0</td>\n",
       "      <td>Ask agent</td>\n",
       "      <td>TENURE\\nLeasehold</td>\n",
       "      <td>Yes</td>\n",
       "      <td>Band: TBC</td>\n",
       "    </tr>\n",
       "    <tr>\n",
       "      <th>1691</th>\n",
       "      <td>1791</td>\n",
       "      <td>Headley Chase, Brentwood</td>\n",
       "      <td>137813000</td>\n",
       "      <td>4</td>\n",
       "      <td>Detached</td>\n",
       "      <td>4</td>\n",
       "      <td>2000</td>\n",
       "      <td>Private garden</td>\n",
       "      <td>-</td>\n",
       "      <td>Off street</td>\n",
       "      <td>Ask agent</td>\n",
       "    </tr>\n",
       "    <tr>\n",
       "      <th>2777</th>\n",
       "      <td>2942</td>\n",
       "      <td>Wootton Village, Oxford Ref: AJR/FD</td>\n",
       "      <td>100709500</td>\n",
       "      <td>5</td>\n",
       "      <td>Detached</td>\n",
       "      <td>3</td>\n",
       "      <td>0</td>\n",
       "      <td>Yes</td>\n",
       "      <td>-</td>\n",
       "      <td>Yes</td>\n",
       "      <td>Band: F</td>\n",
       "    </tr>\n",
       "    <tr>\n",
       "      <th>2537</th>\n",
       "      <td>2686</td>\n",
       "      <td>Larkfield Road, Rawdon, Leeds, West Yorkshire,...</td>\n",
       "      <td>94878950</td>\n",
       "      <td>4</td>\n",
       "      <td>Semi-Detached</td>\n",
       "      <td>2</td>\n",
       "      <td>2000</td>\n",
       "      <td>Yes</td>\n",
       "      <td>-</td>\n",
       "      <td>Yes</td>\n",
       "      <td>Band: G</td>\n",
       "    </tr>\n",
       "    <tr>\n",
       "      <th>689</th>\n",
       "      <td>712</td>\n",
       "      <td>Eastnor House, Sheepwood Road, Bristol</td>\n",
       "      <td>98059250</td>\n",
       "      <td>4</td>\n",
       "      <td>Detached</td>\n",
       "      <td>2</td>\n",
       "      <td>0</td>\n",
       "      <td>Yes</td>\n",
       "      <td>-</td>\n",
       "      <td>Yes</td>\n",
       "      <td>Ask agent</td>\n",
       "    </tr>\n",
       "    <tr>\n",
       "      <th>2059</th>\n",
       "      <td>2170</td>\n",
       "      <td>Guest Road, Cambridge, Cambridgeshire</td>\n",
       "      <td>132512500</td>\n",
       "      <td>5</td>\n",
       "      <td>Terraced</td>\n",
       "      <td>2</td>\n",
       "      <td>2000</td>\n",
       "      <td>Yes</td>\n",
       "      <td>-</td>\n",
       "      <td>Ask agent</td>\n",
       "      <td>Band: F</td>\n",
       "    </tr>\n",
       "    <tr>\n",
       "      <th>883</th>\n",
       "      <td>916</td>\n",
       "      <td>The Quays, Cumberland Road, Bristol, BS1</td>\n",
       "      <td>71556750</td>\n",
       "      <td>2</td>\n",
       "      <td>Flat</td>\n",
       "      <td>2</td>\n",
       "      <td>0</td>\n",
       "      <td>Ask agent</td>\n",
       "      <td>TENURE\\nLeasehold</td>\n",
       "      <td>Yes</td>\n",
       "      <td>Band: TBC</td>\n",
       "    </tr>\n",
       "    <tr>\n",
       "      <th>2663</th>\n",
       "      <td>2823</td>\n",
       "      <td>Road through Elsfield, Oxford, OX3</td>\n",
       "      <td>185517500</td>\n",
       "      <td>5</td>\n",
       "      <td>Detached</td>\n",
       "      <td>2</td>\n",
       "      <td>2000</td>\n",
       "      <td>Private garden</td>\n",
       "      <td>-</td>\n",
       "      <td>Yes</td>\n",
       "      <td>Band: C</td>\n",
       "    </tr>\n",
       "    <tr>\n",
       "      <th>1917</th>\n",
       "      <td>2023</td>\n",
       "      <td>Daisy Drive, Hatfield, Hertfordshire</td>\n",
       "      <td>51414850</td>\n",
       "      <td>3</td>\n",
       "      <td>Detached</td>\n",
       "      <td>2</td>\n",
       "      <td>0</td>\n",
       "      <td>Yes</td>\n",
       "      <td>-</td>\n",
       "      <td>Yes</td>\n",
       "      <td>Band: E</td>\n",
       "    </tr>\n",
       "    <tr>\n",
       "      <th>462</th>\n",
       "      <td>476</td>\n",
       "      <td>Holland Street, London, W8</td>\n",
       "      <td>1033597500</td>\n",
       "      <td>6</td>\n",
       "      <td>Terraced</td>\n",
       "      <td>6</td>\n",
       "      <td>0</td>\n",
       "      <td>Yes</td>\n",
       "      <td>-</td>\n",
       "      <td>Yes</td>\n",
       "      <td>Band: H</td>\n",
       "    </tr>\n",
       "    <tr>\n",
       "      <th>2256</th>\n",
       "      <td>2392</td>\n",
       "      <td>Victoria Residence, 16 Silvercroft Street, Man...</td>\n",
       "      <td>43464100</td>\n",
       "      <td>2</td>\n",
       "      <td>Apartment</td>\n",
       "      <td>2</td>\n",
       "      <td>888000</td>\n",
       "      <td>Yes</td>\n",
       "      <td>TENURE\\nLeasehold</td>\n",
       "      <td>Ask agent</td>\n",
       "      <td>Band: D</td>\n",
       "    </tr>\n",
       "  </tbody>\n",
       "</table>\n",
       "</div>"
      ],
      "text/plain": [
       "      S.No.                                      Property_Name  Price_in_INR  \\\n",
       "3011   3185                         Albemarle Road, York, YO23      95409000   \n",
       "1717   1817              Eleanor Way, Warley, Brentwood, Essex     126681950   \n",
       "2010   2119                        Goldings Crescent, Hatfield      31803000   \n",
       "1015   1056                Worrall Road, Clifton, Bristol, BS8      63075950   \n",
       "254     262                                            Chelsea    1378130000   \n",
       "659     682                            Elliston Road | Redland     105479950   \n",
       "2901   3069               Bullingdon road, Cowley, Oxford, OX4      73676950   \n",
       "2744   2909            Abingdon Road, Oxford, Oxfordshire, OX1     121911500   \n",
       "2119   2238                          Cambridge, Cambridgeshire      79507500   \n",
       "2473   2620    Wetherby Road, Scarcroft, Leeds, West Yorkshire     116611000   \n",
       "868     901                            Sates Way, Bristol, BS9      73676950   \n",
       "240     248                      Beaufort Gardens, London, SW3    1431135000   \n",
       "2988   3162                                 Fulford Road, York     137813000   \n",
       "366     377                         Lyall Street, London, SW1X    1160809500   \n",
       "2220   2355       Chester Road, Manchester, Greater Manchester      48764600   \n",
       "1691   1791                           Headley Chase, Brentwood     137813000   \n",
       "2777   2942                Wootton Village, Oxford Ref: AJR/FD     100709500   \n",
       "2537   2686  Larkfield Road, Rawdon, Leeds, West Yorkshire,...      94878950   \n",
       "689     712             Eastnor House, Sheepwood Road, Bristol      98059250   \n",
       "2059   2170              Guest Road, Cambridge, Cambridgeshire     132512500   \n",
       "883     916           The Quays, Cumberland Road, Bristol, BS1      71556750   \n",
       "2663   2823                 Road through Elsfield, Oxford, OX3     185517500   \n",
       "1917   2023               Daisy Drive, Hatfield, Hertfordshire      51414850   \n",
       "462     476                         Holland Street, London, W8    1033597500   \n",
       "2256   2392  Victoria Residence, 16 Silvercroft Street, Man...      43464100   \n",
       "\n",
       "      No_of_Bedroom   Property_type  No_of_Bathroom  Carpet_Area(Sq Ft)  \\\n",
       "3011              6        Terraced               7                2000   \n",
       "1717              4        Detached               3                2000   \n",
       "2010              3        Terraced               1                   0   \n",
       "1015              3        Terraced               1                   0   \n",
       "254               5       Apartment               4                   0   \n",
       "659               4      Maisonette               3                   0   \n",
       "2901              4        Terraced               1                   0   \n",
       "2744              5  End of Terrace               3                1000   \n",
       "2119              3        Terraced               1                   0   \n",
       "2473              4        Detached               3                   0   \n",
       "868               4        Detached               1                   0   \n",
       "240               3         Parking               7                   0   \n",
       "2988             12        Detached              12                   0   \n",
       "366               4  End of Terrace               4                3000   \n",
       "2220              2       Apartment               2                   0   \n",
       "1691              4        Detached               4                2000   \n",
       "2777              5        Detached               3                   0   \n",
       "2537              4   Semi-Detached               2                2000   \n",
       "689               4        Detached               2                   0   \n",
       "2059              5        Terraced               2                2000   \n",
       "883               2            Flat               2                   0   \n",
       "2663              5        Detached               2                2000   \n",
       "1917              3        Detached               2                   0   \n",
       "462               6        Terraced               6                   0   \n",
       "2256              2       Apartment               2              888000   \n",
       "\n",
       "              Garden            Property Status     Parking Council_Tax  \n",
       "3011       Ask agent                          -   Ask agent   Band: TBC  \n",
       "1717             Yes                          -         Yes   Band: TBC  \n",
       "2010    Back garden,                          -  Off street     Band: B  \n",
       "1015             Yes                          -   Ask agent     Band: D  \n",
       "254        Ask agent  TENURE\\nShare of Freehold   Ask agent   Ask agent  \n",
       "659              Yes                          -         Yes     Band: E  \n",
       "2901             Yes                          -   Ask agent     Band: D  \n",
       "2744             Yes                          -         Yes     Band: B  \n",
       "2119             Yes                          -  On street,     Band: D  \n",
       "2473             Yes                          -         Yes   Band: TBC  \n",
       "868              Yes                          -         Yes     Band: F  \n",
       "240              Yes                          -   Ask agent   Band: TBC  \n",
       "2988             Yes                          -         Yes     Band: H  \n",
       "366        Ask agent          TENURE\\nLeasehold   Ask agent   Ask agent  \n",
       "2220       Ask agent          TENURE\\nLeasehold         Yes   Band: TBC  \n",
       "1691  Private garden                          -  Off street   Ask agent  \n",
       "2777             Yes                          -         Yes     Band: F  \n",
       "2537             Yes                          -         Yes     Band: G  \n",
       "689              Yes                          -         Yes   Ask agent  \n",
       "2059             Yes                          -   Ask agent     Band: F  \n",
       "883        Ask agent          TENURE\\nLeasehold         Yes   Band: TBC  \n",
       "2663  Private garden                          -         Yes     Band: C  \n",
       "1917             Yes                          -         Yes     Band: E  \n",
       "462              Yes                          -         Yes     Band: H  \n",
       "2256             Yes          TENURE\\nLeasehold   Ask agent     Band: D  "
      ]
     },
     "execution_count": 23,
     "metadata": {},
     "output_type": "execute_result"
    }
   ],
   "source": [
    "df.sample(25)"
   ]
  },
  {
   "cell_type": "markdown",
   "id": "2398a823",
   "metadata": {},
   "source": [
    " Analyzing the Data\n",
    " \n",
    "df.info() helps to understand the data type and information about data, including the number of records in each column, data having null or not null, Data type, the memory usage of the dataset\n",
    " "
   ]
  },
  {
   "cell_type": "code",
   "execution_count": 24,
   "id": "f8b82672",
   "metadata": {},
   "outputs": [
    {
     "name": "stdout",
     "output_type": "stream",
     "text": [
      "<class 'pandas.core.frame.DataFrame'>\n",
      "RangeIndex: 3073 entries, 0 to 3072\n",
      "Data columns (total 11 columns):\n",
      " #   Column              Non-Null Count  Dtype \n",
      "---  ------              --------------  ----- \n",
      " 0   S.No.               3073 non-null   int64 \n",
      " 1   Property_Name       3073 non-null   object\n",
      " 2   Price_in_INR        3073 non-null   int64 \n",
      " 3   No_of_Bedroom       3073 non-null   int64 \n",
      " 4   Property_type       3073 non-null   object\n",
      " 5   No_of_Bathroom      3073 non-null   int64 \n",
      " 6   Carpet_Area(Sq Ft)  3073 non-null   int64 \n",
      " 7   Garden              3073 non-null   object\n",
      " 8   Property Status     3073 non-null   object\n",
      " 9   Parking             3073 non-null   object\n",
      " 10  Council_Tax         3073 non-null   object\n",
      "dtypes: int64(5), object(6)\n",
      "memory usage: 264.2+ KB\n"
     ]
    }
   ],
   "source": [
    "df.info()"
   ]
  },
  {
   "cell_type": "markdown",
   "id": "c942452f",
   "metadata": {},
   "source": [
    "Missing Values Calculation\n",
    "\n",
    "data.isnull().sum() returns the number of missing records in each column"
   ]
  },
  {
   "cell_type": "code",
   "execution_count": 25,
   "id": "2a979f17",
   "metadata": {
    "scrolled": true
   },
   "outputs": [
    {
     "data": {
      "text/plain": [
       "S.No.                 0\n",
       "Property_Name         0\n",
       "Price_in_INR          0\n",
       "No_of_Bedroom         0\n",
       "Property_type         0\n",
       "No_of_Bathroom        0\n",
       "Carpet_Area(Sq Ft)    0\n",
       "Garden                0\n",
       "Property Status       0\n",
       "Parking               0\n",
       "Council_Tax           0\n",
       "dtype: int64"
      ]
     },
     "execution_count": 25,
     "metadata": {},
     "output_type": "execute_result"
    }
   ],
   "source": [
    "df.isnull().sum()"
   ]
  },
  {
   "cell_type": "code",
   "execution_count": 26,
   "id": "12a9b7c0",
   "metadata": {},
   "outputs": [
    {
     "data": {
      "text/plain": [
       "S.No.                 0.0\n",
       "Property_Name         0.0\n",
       "Price_in_INR          0.0\n",
       "No_of_Bedroom         0.0\n",
       "Property_type         0.0\n",
       "No_of_Bathroom        0.0\n",
       "Carpet_Area(Sq Ft)    0.0\n",
       "Garden                0.0\n",
       "Property Status       0.0\n",
       "Parking               0.0\n",
       "Council_Tax           0.0\n",
       "dtype: float64"
      ]
     },
     "execution_count": 26,
     "metadata": {},
     "output_type": "execute_result"
    }
   ],
   "source": [
    "# we know that we have no null in our data but if there is any null then, below code helps to \n",
    "# calculate the percentage of missing values in each column\n",
    "\n",
    "(df.isnull().sum()/(len(df)))*100"
   ]
  },
  {
   "cell_type": "code",
   "execution_count": 27,
   "id": "c57415a5",
   "metadata": {},
   "outputs": [
    {
     "data": {
      "text/plain": [
       "<Axes: >"
      ]
     },
     "execution_count": 27,
     "metadata": {},
     "output_type": "execute_result"
    },
    {
     "data": {
      "image/png": "[encoded data removed]",
      "text/plain": [
       "<Figure size 640x480 with 2 Axes>"
      ]
     },
     "metadata": {},
     "output_type": "display_data"
    }
   ],
   "source": [
    "sns.heatmap(df.isnull())"
   ]
  },
  {
   "cell_type": "markdown",
   "id": "ad73e971",
   "metadata": {},
   "source": [
    "Check for Duplication\n",
    "\n",
    "nunique() based on several unique values in each column and the data description, we can identify the continuous and categorical columns in the data. Duplicated data can be handled or removed based on further analysis"
   ]
  },
  {
   "cell_type": "code",
   "execution_count": 28,
   "id": "46b783fd",
   "metadata": {},
   "outputs": [
    {
     "data": {
      "text/html": [
       "<div>\n",
       "<style scoped>\n",
       "    .dataframe tbody tr th:only-of-type {\n",
       "        vertical-align: middle;\n",
       "    }\n",
       "\n",
       "    .dataframe tbody tr th {\n",
       "        vertical-align: top;\n",
       "    }\n",
       "\n",
       "    .dataframe thead th {\n",
       "        text-align: right;\n",
       "    }\n",
       "</style>\n",
       "<table border=\"1\" class=\"dataframe\">\n",
       "  <thead>\n",
       "    <tr style=\"text-align: right;\">\n",
       "      <th></th>\n",
       "      <th>No of Unique values</th>\n",
       "    </tr>\n",
       "  </thead>\n",
       "  <tbody>\n",
       "    <tr>\n",
       "      <th>S.No.</th>\n",
       "      <td>3073</td>\n",
       "    </tr>\n",
       "    <tr>\n",
       "      <th>Property_Name</th>\n",
       "      <td>2609</td>\n",
       "    </tr>\n",
       "    <tr>\n",
       "      <th>Price_in_INR</th>\n",
       "      <td>434</td>\n",
       "    </tr>\n",
       "    <tr>\n",
       "      <th>No_of_Bedroom</th>\n",
       "      <td>22</td>\n",
       "    </tr>\n",
       "    <tr>\n",
       "      <th>Property_type</th>\n",
       "      <td>35</td>\n",
       "    </tr>\n",
       "    <tr>\n",
       "      <th>No_of_Bathroom</th>\n",
       "      <td>57</td>\n",
       "    </tr>\n",
       "    <tr>\n",
       "      <th>Carpet_Area(Sq Ft)</th>\n",
       "      <td>157</td>\n",
       "    </tr>\n",
       "    <tr>\n",
       "      <th>Garden</th>\n",
       "      <td>19</td>\n",
       "    </tr>\n",
       "    <tr>\n",
       "      <th>Property Status</th>\n",
       "      <td>3</td>\n",
       "    </tr>\n",
       "    <tr>\n",
       "      <th>Parking</th>\n",
       "      <td>25</td>\n",
       "    </tr>\n",
       "    <tr>\n",
       "      <th>Council_Tax</th>\n",
       "      <td>14</td>\n",
       "    </tr>\n",
       "  </tbody>\n",
       "</table>\n",
       "</div>"
      ],
      "text/plain": [
       "                    No of Unique values\n",
       "S.No.                              3073\n",
       "Property_Name                      2609\n",
       "Price_in_INR                        434\n",
       "No_of_Bedroom                        22\n",
       "Property_type                        35\n",
       "No_of_Bathroom                       57\n",
       "Carpet_Area(Sq Ft)                  157\n",
       "Garden                               19\n",
       "Property Status                       3\n",
       "Parking                              25\n",
       "Council_Tax                          14"
      ]
     },
     "execution_count": 28,
     "metadata": {},
     "output_type": "execute_result"
    }
   ],
   "source": [
    "df.nunique().to_frame('No of Unique values')"
   ]
  },
  {
   "cell_type": "markdown",
   "id": "d84c8516",
   "metadata": {},
   "source": [
    "Data Reduction\n",
    "\n",
    "Some columns or variables can be dropped if they do not add value to our analysis.\n",
    "\n",
    "In our dataset, the column S.No have only ID values, assuming they don’t have any predictive power to predict the dependent variable."
   ]
  },
  {
   "cell_type": "code",
   "execution_count": 29,
   "id": "c742ff4d",
   "metadata": {},
   "outputs": [
    {
     "name": "stdout",
     "output_type": "stream",
     "text": [
      "<class 'pandas.core.frame.DataFrame'>\n",
      "RangeIndex: 3073 entries, 0 to 3072\n",
      "Data columns (total 10 columns):\n",
      " #   Column              Non-Null Count  Dtype \n",
      "---  ------              --------------  ----- \n",
      " 0   Property_Name       3073 non-null   object\n",
      " 1   Price_in_INR        3073 non-null   int64 \n",
      " 2   No_of_Bedroom       3073 non-null   int64 \n",
      " 3   Property_type       3073 non-null   object\n",
      " 4   No_of_Bathroom      3073 non-null   int64 \n",
      " 5   Carpet_Area(Sq Ft)  3073 non-null   int64 \n",
      " 6   Garden              3073 non-null   object\n",
      " 7   Property Status     3073 non-null   object\n",
      " 8   Parking             3073 non-null   object\n",
      " 9   Council_Tax         3073 non-null   object\n",
      "dtypes: int64(4), object(6)\n",
      "memory usage: 240.2+ KB\n"
     ]
    }
   ],
   "source": [
    "df = df.drop(['S.No.'], axis = 1)\n",
    "df.info()"
   ]
  },
  {
   "cell_type": "markdown",
   "id": "10b5a156",
   "metadata": {},
   "source": [
    " same way Council Tax don't play much importent role in pricing in UK market so we will drop that column as well"
   ]
  },
  {
   "cell_type": "code",
   "execution_count": 30,
   "id": "cdbca399",
   "metadata": {},
   "outputs": [
    {
     "name": "stdout",
     "output_type": "stream",
     "text": [
      "<class 'pandas.core.frame.DataFrame'>\n",
      "RangeIndex: 3073 entries, 0 to 3072\n",
      "Data columns (total 9 columns):\n",
      " #   Column              Non-Null Count  Dtype \n",
      "---  ------              --------------  ----- \n",
      " 0   Property_Name       3073 non-null   object\n",
      " 1   Price_in_INR        3073 non-null   int64 \n",
      " 2   No_of_Bedroom       3073 non-null   int64 \n",
      " 3   Property_type       3073 non-null   object\n",
      " 4   No_of_Bathroom      3073 non-null   int64 \n",
      " 5   Carpet_Area(Sq Ft)  3073 non-null   int64 \n",
      " 6   Garden              3073 non-null   object\n",
      " 7   Property Status     3073 non-null   object\n",
      " 8   Parking             3073 non-null   object\n",
      "dtypes: int64(4), object(5)\n",
      "memory usage: 216.2+ KB\n"
     ]
    }
   ],
   "source": [
    "df = df.drop(['Council_Tax'], axis = 1)\n",
    "df.info()"
   ]
  },
  {
   "cell_type": "code",
   "execution_count": 31,
   "id": "7f4c6e38",
   "metadata": {},
   "outputs": [
    {
     "name": "stdout",
     "output_type": "stream",
     "text": [
      "<class 'pandas.core.frame.DataFrame'>\n",
      "RangeIndex: 3073 entries, 0 to 3072\n",
      "Data columns (total 9 columns):\n",
      " #   Column              Non-Null Count  Dtype \n",
      "---  ------              --------------  ----- \n",
      " 0   Property_Name       3073 non-null   object\n",
      " 1   Price_in_INR        3073 non-null   int64 \n",
      " 2   No_of_Bedroom       3073 non-null   int64 \n",
      " 3   Property_type       3073 non-null   object\n",
      " 4   No_of_Bathroom      3073 non-null   int64 \n",
      " 5   Carpet_Area(Sq Ft)  3073 non-null   int64 \n",
      " 6   Garden              3073 non-null   object\n",
      " 7   Property Status     3073 non-null   object\n",
      " 8   Parking             3073 non-null   object\n",
      "dtypes: int64(4), object(5)\n",
      "memory usage: 216.2+ KB\n"
     ]
    }
   ],
   "source": [
    "df.info()"
   ]
  },
  {
   "cell_type": "markdown",
   "id": "89246b3d",
   "metadata": {},
   "source": [
    "df['City'] = df.Property_Name.str.split().str.get(1)\n"
   ]
  },
  {
   "cell_type": "code",
   "execution_count": 32,
   "id": "27957d9f",
   "metadata": {},
   "outputs": [
    {
     "data": {
      "text/plain": [
       "0                                 Beaumont Avenue, Fulham\n",
       "1                            One Hyde Park, Knightsbridge\n",
       "2                      Buckingham Gate, Westminster, SW1E\n",
       "3                                    Buckingham Gate, SW1\n",
       "4                           Wilton Crescent, London, SW1X\n",
       "                              ...                        \n",
       "3068                    St. Saviours Place, York, YO1 7PJ\n",
       "3069           Mount Terrace, York, North Yorkshire, YO24\n",
       "3070                                47 Holgate Road, York\n",
       "3071                    Grosvenor Road, Off Bootham, York\n",
       "3072    Carousel House Joseph Terry Grove, North Yorks...\n",
       "Name: Property_Name, Length: 3073, dtype: object"
      ]
     },
     "execution_count": 32,
     "metadata": {},
     "output_type": "execute_result"
    }
   ],
   "source": [
    "df['Property_Name']"
   ]
  },
  {
   "cell_type": "code",
   "execution_count": 115,
   "id": "737a043b",
   "metadata": {},
   "outputs": [],
   "source": [
    "df1=df.copy()"
   ]
  },
  {
   "cell_type": "code",
   "execution_count": 116,
   "id": "e211ffe3",
   "metadata": {},
   "outputs": [
    {
     "data": {
      "text/html": [
       "<div>\n",
       "<style scoped>\n",
       "    .dataframe tbody tr th:only-of-type {\n",
       "        vertical-align: middle;\n",
       "    }\n",
       "\n",
       "    .dataframe tbody tr th {\n",
       "        vertical-align: top;\n",
       "    }\n",
       "\n",
       "    .dataframe thead th {\n",
       "        text-align: right;\n",
       "    }\n",
       "</style>\n",
       "<table border=\"1\" class=\"dataframe\">\n",
       "  <thead>\n",
       "    <tr style=\"text-align: right;\">\n",
       "      <th></th>\n",
       "      <th>Property_Name</th>\n",
       "      <th>Price_in_INR</th>\n",
       "      <th>No_of_Bedroom</th>\n",
       "      <th>Property_type</th>\n",
       "      <th>No_of_Bathroom</th>\n",
       "      <th>Carpet_Area(Sq Ft)</th>\n",
       "      <th>Garden</th>\n",
       "      <th>Property Status</th>\n",
       "      <th>Parking</th>\n",
       "    </tr>\n",
       "  </thead>\n",
       "  <tbody>\n",
       "    <tr>\n",
       "      <th>0</th>\n",
       "      <td>Beaumont Avenue, Fulham</td>\n",
       "      <td>98059250</td>\n",
       "      <td>3</td>\n",
       "      <td>Flat</td>\n",
       "      <td>2</td>\n",
       "      <td>0</td>\n",
       "      <td>Ask agent</td>\n",
       "      <td>TENURE\\nShare of Freehold</td>\n",
       "      <td>Ask agent</td>\n",
       "    </tr>\n",
       "    <tr>\n",
       "      <th>1</th>\n",
       "      <td>One Hyde Park, Knightsbridge</td>\n",
       "      <td>2147483648</td>\n",
       "      <td>5</td>\n",
       "      <td>Apartment</td>\n",
       "      <td>5</td>\n",
       "      <td>0</td>\n",
       "      <td>Terrace</td>\n",
       "      <td>TENURE\\nLeasehold</td>\n",
       "      <td>Garage</td>\n",
       "    </tr>\n",
       "    <tr>\n",
       "      <th>2</th>\n",
       "      <td>Buckingham Gate, Westminster, SW1E</td>\n",
       "      <td>2147483648</td>\n",
       "      <td>8</td>\n",
       "      <td>Terraced</td>\n",
       "      <td>9</td>\n",
       "      <td>0</td>\n",
       "      <td>Communal garden</td>\n",
       "      <td>-</td>\n",
       "      <td>Garage</td>\n",
       "    </tr>\n",
       "    <tr>\n",
       "      <th>3</th>\n",
       "      <td>Buckingham Gate, SW1</td>\n",
       "      <td>2147483648</td>\n",
       "      <td>9</td>\n",
       "      <td>Terraced</td>\n",
       "      <td>9</td>\n",
       "      <td>15000</td>\n",
       "      <td>Ask agent</td>\n",
       "      <td>-</td>\n",
       "      <td>Yes</td>\n",
       "    </tr>\n",
       "    <tr>\n",
       "      <th>4</th>\n",
       "      <td>Wilton Crescent, London, SW1X</td>\n",
       "      <td>2147483648</td>\n",
       "      <td>8</td>\n",
       "      <td>Terraced</td>\n",
       "      <td>8</td>\n",
       "      <td>9000</td>\n",
       "      <td>Ask agent</td>\n",
       "      <td>-</td>\n",
       "      <td>Yes</td>\n",
       "    </tr>\n",
       "  </tbody>\n",
       "</table>\n",
       "</div>"
      ],
      "text/plain": [
       "                        Property_Name  Price_in_INR  No_of_Bedroom  \\\n",
       "0             Beaumont Avenue, Fulham      98059250              3   \n",
       "1        One Hyde Park, Knightsbridge    2147483648              5   \n",
       "2  Buckingham Gate, Westminster, SW1E    2147483648              8   \n",
       "3                Buckingham Gate, SW1    2147483648              9   \n",
       "4       Wilton Crescent, London, SW1X    2147483648              8   \n",
       "\n",
       "  Property_type  No_of_Bathroom  Carpet_Area(Sq Ft)           Garden  \\\n",
       "0          Flat               2                   0        Ask agent   \n",
       "1     Apartment               5                   0          Terrace   \n",
       "2      Terraced               9                   0  Communal garden   \n",
       "3      Terraced               9               15000        Ask agent   \n",
       "4      Terraced               8                9000        Ask agent   \n",
       "\n",
       "             Property Status    Parking  \n",
       "0  TENURE\\nShare of Freehold  Ask agent  \n",
       "1          TENURE\\nLeasehold     Garage  \n",
       "2                          -     Garage  \n",
       "3                          -        Yes  \n",
       "4                          -        Yes  "
      ]
     },
     "execution_count": 116,
     "metadata": {},
     "output_type": "execute_result"
    }
   ],
   "source": [
    "df1.head() "
   ]
  },
  {
   "cell_type": "markdown",
   "id": "f4f50b0d",
   "metadata": {},
   "source": [
    "Data Cleaning/Wrangling\n",
    "\n",
    "Some names of the variables are not relevant and not easy to understand. Some data may have data entry errors, and some variables may need data type conversion. We need to fix this issue in the data."
   ]
  },
  {
   "cell_type": "code",
   "execution_count": 117,
   "id": "a5755598",
   "metadata": {},
   "outputs": [
    {
     "data": {
      "text/html": [
       "<div>\n",
       "<style scoped>\n",
       "    .dataframe tbody tr th:only-of-type {\n",
       "        vertical-align: middle;\n",
       "    }\n",
       "\n",
       "    .dataframe tbody tr th {\n",
       "        vertical-align: top;\n",
       "    }\n",
       "\n",
       "    .dataframe thead th {\n",
       "        text-align: right;\n",
       "    }\n",
       "</style>\n",
       "<table border=\"1\" class=\"dataframe\">\n",
       "  <thead>\n",
       "    <tr style=\"text-align: right;\">\n",
       "      <th></th>\n",
       "      <th>Property_Name</th>\n",
       "      <th>Price_in_INR</th>\n",
       "      <th>No_of_Bedroom</th>\n",
       "      <th>Property_type</th>\n",
       "      <th>No_of_Bathroom</th>\n",
       "      <th>Carpet_Area(Sq Ft)</th>\n",
       "      <th>Garden</th>\n",
       "      <th>Property Status</th>\n",
       "      <th>Parking</th>\n",
       "    </tr>\n",
       "  </thead>\n",
       "  <tbody>\n",
       "    <tr>\n",
       "      <th>1231</th>\n",
       "      <td>Victoria Park, Fishponds, Bristol</td>\n",
       "      <td>52474950</td>\n",
       "      <td>3</td>\n",
       "      <td>Terraced</td>\n",
       "      <td>1</td>\n",
       "      <td>0</td>\n",
       "      <td>Yes</td>\n",
       "      <td>-</td>\n",
       "      <td>Ask agent</td>\n",
       "    </tr>\n",
       "    <tr>\n",
       "      <th>1609</th>\n",
       "      <td>Heronway, Hutton</td>\n",
       "      <td>530050000</td>\n",
       "      <td>5</td>\n",
       "      <td>Detached</td>\n",
       "      <td>4</td>\n",
       "      <td>5000</td>\n",
       "      <td>Yes</td>\n",
       "      <td>-</td>\n",
       "      <td>Yes</td>\n",
       "    </tr>\n",
       "    <tr>\n",
       "      <th>1510</th>\n",
       "      <td>Rowland Way, Hartwell, Aylesbury</td>\n",
       "      <td>38693650</td>\n",
       "      <td>3</td>\n",
       "      <td>Semi-Detached</td>\n",
       "      <td>1</td>\n",
       "      <td>0</td>\n",
       "      <td>Yes</td>\n",
       "      <td>-</td>\n",
       "      <td>Yes</td>\n",
       "    </tr>\n",
       "    <tr>\n",
       "      <th>180</th>\n",
       "      <td>William Street, London, SW1X</td>\n",
       "      <td>1690859500</td>\n",
       "      <td>4</td>\n",
       "      <td>Apartment</td>\n",
       "      <td>4</td>\n",
       "      <td>3000</td>\n",
       "      <td>Terrace</td>\n",
       "      <td>TENURE\\nLeasehold</td>\n",
       "      <td>Ask agent</td>\n",
       "    </tr>\n",
       "    <tr>\n",
       "      <th>2160</th>\n",
       "      <td>Lawrence Weaver Road, Off Huntingdon Road, Cam...</td>\n",
       "      <td>69436019</td>\n",
       "      <td>4</td>\n",
       "      <td>House</td>\n",
       "      <td>2</td>\n",
       "      <td>0</td>\n",
       "      <td>Yes</td>\n",
       "      <td>-</td>\n",
       "      <td>Yes</td>\n",
       "    </tr>\n",
       "    <tr>\n",
       "      <th>1112</th>\n",
       "      <td>Lansdown Place, Clifton, BS8</td>\n",
       "      <td>58305500</td>\n",
       "      <td>2</td>\n",
       "      <td>Flat</td>\n",
       "      <td>1</td>\n",
       "      <td>777000</td>\n",
       "      <td>Yes</td>\n",
       "      <td>TENURE\\nShare of Freehold</td>\n",
       "      <td>Ask agent</td>\n",
       "    </tr>\n",
       "    <tr>\n",
       "      <th>1645</th>\n",
       "      <td>Ashwells Road, Pilgrims Hatch, Brentwood, CM15...</td>\n",
       "      <td>206719500</td>\n",
       "      <td>7</td>\n",
       "      <td>Barn Conversion</td>\n",
       "      <td>7</td>\n",
       "      <td>4000</td>\n",
       "      <td>Yes</td>\n",
       "      <td>-</td>\n",
       "      <td>Yes</td>\n",
       "    </tr>\n",
       "    <tr>\n",
       "      <th>141</th>\n",
       "      <td>Lancer Square, Kensington Church St, London W8...</td>\n",
       "      <td>1876377000</td>\n",
       "      <td>3</td>\n",
       "      <td>Penthouse</td>\n",
       "      <td>3</td>\n",
       "      <td>0</td>\n",
       "      <td>No</td>\n",
       "      <td>TENURE\\nLeasehold</td>\n",
       "      <td>Yes</td>\n",
       "    </tr>\n",
       "    <tr>\n",
       "      <th>977</th>\n",
       "      <td>Horse Shoe Drive, Bristol, BS9</td>\n",
       "      <td>65196150</td>\n",
       "      <td>3</td>\n",
       "      <td>Semi-Detached</td>\n",
       "      <td>1</td>\n",
       "      <td>0</td>\n",
       "      <td>Yes</td>\n",
       "      <td>-</td>\n",
       "      <td>Yes</td>\n",
       "    </tr>\n",
       "    <tr>\n",
       "      <th>872</th>\n",
       "      <td>Hanbury Road, Bristol</td>\n",
       "      <td>73676950</td>\n",
       "      <td>5</td>\n",
       "      <td>Maisonette</td>\n",
       "      <td>1</td>\n",
       "      <td>0</td>\n",
       "      <td>Yes</td>\n",
       "      <td>-</td>\n",
       "      <td>Ask agent</td>\n",
       "    </tr>\n",
       "    <tr>\n",
       "      <th>2464</th>\n",
       "      <td>Spofforth Hill, Wetherby, West Yorkshire, LS22...</td>\n",
       "      <td>121911500</td>\n",
       "      <td>5</td>\n",
       "      <td>Detached</td>\n",
       "      <td>2</td>\n",
       "      <td>3000</td>\n",
       "      <td>Yes</td>\n",
       "      <td>-</td>\n",
       "      <td>Garage</td>\n",
       "    </tr>\n",
       "    <tr>\n",
       "      <th>849</th>\n",
       "      <td>Long Wood Meadows, Bristol, BS16</td>\n",
       "      <td>74207000</td>\n",
       "      <td>4</td>\n",
       "      <td>Detached</td>\n",
       "      <td>2</td>\n",
       "      <td>0</td>\n",
       "      <td>Private garden</td>\n",
       "      <td>-</td>\n",
       "      <td>Garage,</td>\n",
       "    </tr>\n",
       "    <tr>\n",
       "      <th>527</th>\n",
       "      <td>Albion Riverside</td>\n",
       "      <td>954090000</td>\n",
       "      <td>6</td>\n",
       "      <td>Penthouse</td>\n",
       "      <td>7</td>\n",
       "      <td>5000</td>\n",
       "      <td>No</td>\n",
       "      <td>TENURE\\nLeasehold</td>\n",
       "      <td>Yes</td>\n",
       "    </tr>\n",
       "    <tr>\n",
       "      <th>1906</th>\n",
       "      <td>MillGreen, Hatfield, AL9</td>\n",
       "      <td>53005000</td>\n",
       "      <td>2</td>\n",
       "      <td>Cottage</td>\n",
       "      <td>1</td>\n",
       "      <td>0</td>\n",
       "      <td>No</td>\n",
       "      <td>-</td>\n",
       "      <td>Yes</td>\n",
       "    </tr>\n",
       "    <tr>\n",
       "      <th>2058</th>\n",
       "      <td>Knights Park, Eddington Avenue, Cambridge</td>\n",
       "      <td>137807699</td>\n",
       "      <td>4</td>\n",
       "      <td>Terraced</td>\n",
       "      <td>2092</td>\n",
       "      <td>0</td>\n",
       "      <td>Yes</td>\n",
       "      <td>-</td>\n",
       "      <td>Yes</td>\n",
       "    </tr>\n",
       "    <tr>\n",
       "      <th>20</th>\n",
       "      <td>Cambridge Park, Twickenham, Richmond, TW1.</td>\n",
       "      <td>2147483648</td>\n",
       "      <td>9</td>\n",
       "      <td>Detached</td>\n",
       "      <td>10</td>\n",
       "      <td>18000</td>\n",
       "      <td>Yes</td>\n",
       "      <td>-</td>\n",
       "      <td>Yes</td>\n",
       "    </tr>\n",
       "    <tr>\n",
       "      <th>463</th>\n",
       "      <td>Roedean Crescent, London, SW15</td>\n",
       "      <td>1033597500</td>\n",
       "      <td>8</td>\n",
       "      <td>Detached</td>\n",
       "      <td>7</td>\n",
       "      <td>11000</td>\n",
       "      <td>Yes</td>\n",
       "      <td>-</td>\n",
       "      <td>Yes</td>\n",
       "    </tr>\n",
       "    <tr>\n",
       "      <th>1114</th>\n",
       "      <td>Rodney Road, Kingswood, Bristol, BS15</td>\n",
       "      <td>58305500</td>\n",
       "      <td>5</td>\n",
       "      <td>Semi-Detached</td>\n",
       "      <td>2</td>\n",
       "      <td>0</td>\n",
       "      <td>Yes</td>\n",
       "      <td>-</td>\n",
       "      <td>Ask agent</td>\n",
       "    </tr>\n",
       "    <tr>\n",
       "      <th>3050</th>\n",
       "      <td>Bootham Terrace, York</td>\n",
       "      <td>74207000</td>\n",
       "      <td>3</td>\n",
       "      <td>Town House</td>\n",
       "      <td>2</td>\n",
       "      <td>0</td>\n",
       "      <td>Yes</td>\n",
       "      <td>-</td>\n",
       "      <td>Ask agent</td>\n",
       "    </tr>\n",
       "    <tr>\n",
       "      <th>549</th>\n",
       "      <td>Gloucester Gate, Regent's Park, London, NW1</td>\n",
       "      <td>948789500</td>\n",
       "      <td>5</td>\n",
       "      <td>Terraced</td>\n",
       "      <td>5</td>\n",
       "      <td>4000</td>\n",
       "      <td>No</td>\n",
       "      <td>TENURE\\nLeasehold</td>\n",
       "      <td>Yes</td>\n",
       "    </tr>\n",
       "    <tr>\n",
       "      <th>2617</th>\n",
       "      <td>Longwater Avenue, Green Park, Reading RG2 6BN</td>\n",
       "      <td>43994150</td>\n",
       "      <td>2</td>\n",
       "      <td>Apartment</td>\n",
       "      <td>2</td>\n",
       "      <td>707000</td>\n",
       "      <td>Ask developer</td>\n",
       "      <td>TENURE\\nLeasehold</td>\n",
       "      <td>Yes</td>\n",
       "    </tr>\n",
       "    <tr>\n",
       "      <th>171</th>\n",
       "      <td>Hyde Park Gate, London, SW7</td>\n",
       "      <td>1696160000</td>\n",
       "      <td>8</td>\n",
       "      <td>Penthouse</td>\n",
       "      <td>8</td>\n",
       "      <td>9000</td>\n",
       "      <td>Yes</td>\n",
       "      <td>TENURE\\nShare of Freehold</td>\n",
       "      <td>Yes</td>\n",
       "    </tr>\n",
       "    <tr>\n",
       "      <th>1111</th>\n",
       "      <td>Beaufort Road, Clifton</td>\n",
       "      <td>58305500</td>\n",
       "      <td>2</td>\n",
       "      <td>Flat</td>\n",
       "      <td>1</td>\n",
       "      <td>0</td>\n",
       "      <td>Yes</td>\n",
       "      <td>TENURE\\nLeasehold</td>\n",
       "      <td>Ask agent</td>\n",
       "    </tr>\n",
       "    <tr>\n",
       "      <th>1792</th>\n",
       "      <td>Doddinghurst Road, Doddinghurst, Brentwood, Es...</td>\n",
       "      <td>95409000</td>\n",
       "      <td>4</td>\n",
       "      <td>Detached</td>\n",
       "      <td>4</td>\n",
       "      <td>0</td>\n",
       "      <td>Yes</td>\n",
       "      <td>-</td>\n",
       "      <td>Yes</td>\n",
       "    </tr>\n",
       "    <tr>\n",
       "      <th>1775</th>\n",
       "      <td>Hall Green Lane, Brentwood, CM13</td>\n",
       "      <td>98059250</td>\n",
       "      <td>5</td>\n",
       "      <td>Detached</td>\n",
       "      <td>3</td>\n",
       "      <td>0</td>\n",
       "      <td>Yes</td>\n",
       "      <td>-</td>\n",
       "      <td>Yes</td>\n",
       "    </tr>\n",
       "  </tbody>\n",
       "</table>\n",
       "</div>"
      ],
      "text/plain": [
       "                                          Property_Name  Price_in_INR  \\\n",
       "1231                  Victoria Park, Fishponds, Bristol      52474950   \n",
       "1609                                   Heronway, Hutton     530050000   \n",
       "1510                   Rowland Way, Hartwell, Aylesbury      38693650   \n",
       "180                        William Street, London, SW1X    1690859500   \n",
       "2160  Lawrence Weaver Road, Off Huntingdon Road, Cam...      69436019   \n",
       "1112                       Lansdown Place, Clifton, BS8      58305500   \n",
       "1645  Ashwells Road, Pilgrims Hatch, Brentwood, CM15...     206719500   \n",
       "141   Lancer Square, Kensington Church St, London W8...    1876377000   \n",
       "977                      Horse Shoe Drive, Bristol, BS9      65196150   \n",
       "872                               Hanbury Road, Bristol      73676950   \n",
       "2464  Spofforth Hill, Wetherby, West Yorkshire, LS22...     121911500   \n",
       "849                    Long Wood Meadows, Bristol, BS16      74207000   \n",
       "527                                    Albion Riverside     954090000   \n",
       "1906                           MillGreen, Hatfield, AL9      53005000   \n",
       "2058          Knights Park, Eddington Avenue, Cambridge     137807699   \n",
       "20           Cambridge Park, Twickenham, Richmond, TW1.    2147483648   \n",
       "463                      Roedean Crescent, London, SW15    1033597500   \n",
       "1114              Rodney Road, Kingswood, Bristol, BS15      58305500   \n",
       "3050                              Bootham Terrace, York      74207000   \n",
       "549         Gloucester Gate, Regent's Park, London, NW1     948789500   \n",
       "2617      Longwater Avenue, Green Park, Reading RG2 6BN      43994150   \n",
       "171                         Hyde Park Gate, London, SW7    1696160000   \n",
       "1111                             Beaufort Road, Clifton      58305500   \n",
       "1792  Doddinghurst Road, Doddinghurst, Brentwood, Es...      95409000   \n",
       "1775                   Hall Green Lane, Brentwood, CM13      98059250   \n",
       "\n",
       "      No_of_Bedroom    Property_type  No_of_Bathroom  Carpet_Area(Sq Ft)  \\\n",
       "1231              3         Terraced               1                   0   \n",
       "1609              5         Detached               4                5000   \n",
       "1510              3    Semi-Detached               1                   0   \n",
       "180               4        Apartment               4                3000   \n",
       "2160              4            House               2                   0   \n",
       "1112              2             Flat               1              777000   \n",
       "1645              7  Barn Conversion               7                4000   \n",
       "141               3        Penthouse               3                   0   \n",
       "977               3    Semi-Detached               1                   0   \n",
       "872               5       Maisonette               1                   0   \n",
       "2464              5         Detached               2                3000   \n",
       "849               4         Detached               2                   0   \n",
       "527               6        Penthouse               7                5000   \n",
       "1906              2          Cottage               1                   0   \n",
       "2058              4         Terraced            2092                   0   \n",
       "20                9         Detached              10               18000   \n",
       "463               8         Detached               7               11000   \n",
       "1114              5    Semi-Detached               2                   0   \n",
       "3050              3       Town House               2                   0   \n",
       "549               5         Terraced               5                4000   \n",
       "2617              2        Apartment               2              707000   \n",
       "171               8        Penthouse               8                9000   \n",
       "1111              2             Flat               1                   0   \n",
       "1792              4         Detached               4                   0   \n",
       "1775              5         Detached               3                   0   \n",
       "\n",
       "              Garden            Property Status    Parking  \n",
       "1231             Yes                          -  Ask agent  \n",
       "1609             Yes                          -        Yes  \n",
       "1510             Yes                          -        Yes  \n",
       "180          Terrace          TENURE\\nLeasehold  Ask agent  \n",
       "2160             Yes                          -        Yes  \n",
       "1112             Yes  TENURE\\nShare of Freehold  Ask agent  \n",
       "1645             Yes                          -        Yes  \n",
       "141               No          TENURE\\nLeasehold        Yes  \n",
       "977              Yes                          -        Yes  \n",
       "872              Yes                          -  Ask agent  \n",
       "2464             Yes                          -     Garage  \n",
       "849   Private garden                          -    Garage,  \n",
       "527               No          TENURE\\nLeasehold        Yes  \n",
       "1906              No                          -        Yes  \n",
       "2058             Yes                          -        Yes  \n",
       "20               Yes                          -        Yes  \n",
       "463              Yes                          -        Yes  \n",
       "1114             Yes                          -  Ask agent  \n",
       "3050             Yes                          -  Ask agent  \n",
       "549               No          TENURE\\nLeasehold        Yes  \n",
       "2617   Ask developer          TENURE\\nLeasehold        Yes  \n",
       "171              Yes  TENURE\\nShare of Freehold        Yes  \n",
       "1111             Yes          TENURE\\nLeasehold  Ask agent  \n",
       "1792             Yes                          -        Yes  \n",
       "1775             Yes                          -        Yes  "
      ]
     },
     "execution_count": 117,
     "metadata": {},
     "output_type": "execute_result"
    }
   ],
   "source": [
    "df1['Garden'].replace({'Ask agent': 'No'}, inplace =True)\n",
    "df1.sample(25)"
   ]
  },
  {
   "cell_type": "code",
   "execution_count": 118,
   "id": "57826f8f",
   "metadata": {},
   "outputs": [
    {
     "name": "stdout",
     "output_type": "stream",
     "text": [
      "['No' 'Terrace' 'Communal garden' 'Yes' 'Private garden,' 'Private garden'\n",
      " 'Back garden,' 'Enclosed garden' 'Communal garden,' 'Patio,' 'Patio'\n",
      " 'Rear garden,' 'Back garden' '-' 'Front garden' 'Rear garden' 'On street'\n",
      " 'Ask developer' 'Garage,']\n",
      "19\n"
     ]
    }
   ],
   "source": [
    "print(df1.Garden.unique())\n",
    "print(df1.Garden.nunique())"
   ]
  },
  {
   "cell_type": "code",
   "execution_count": 119,
   "id": "2bfeee50",
   "metadata": {},
   "outputs": [],
   "source": [
    "df1['Garden'].replace({'Terrace': 'Yes', 'Communal garden':'Yes', 'Communal garden,':'Yes',\n",
    "                      'Patio' :'Yes', 'Patio,':'Yes', 'Ask developer' :'No', 'Garage,': 'Yes',\n",
    "                      'On Street':'No', 'Back garden' :'Yes', '-': 'No', 'Front garden' : 'Yes',\n",
    "                      'Rear garden' :'Yes', 'Rear garden,': 'Yes','Back garden,': 'Yes'}, inplace =True)"
   ]
  },
  {
   "cell_type": "code",
   "execution_count": 120,
   "id": "468017fc",
   "metadata": {},
   "outputs": [
    {
     "name": "stdout",
     "output_type": "stream",
     "text": [
      "['No' 'Yes' 'Private garden,' 'Private garden' 'Enclosed garden'\n",
      " 'On street']\n",
      "6\n"
     ]
    }
   ],
   "source": [
    "print(df1.Garden.unique())\n",
    "print(df1.Garden.nunique())"
   ]
  },
  {
   "cell_type": "code",
   "execution_count": 121,
   "id": "2848c0f1",
   "metadata": {},
   "outputs": [],
   "source": [
    "df1['Garden'].replace({'Private garden,' :'Yes', 'Private garden': 'Yes', 'Enclosed garden':'Yes', 'On street':'No'}, inplace =True)"
   ]
  },
  {
   "cell_type": "code",
   "execution_count": 122,
   "id": "afb699d0",
   "metadata": {},
   "outputs": [
    {
     "name": "stdout",
     "output_type": "stream",
     "text": [
      "['No' 'Yes']\n",
      "2\n"
     ]
    }
   ],
   "source": [
    "print(df1.Garden.unique())\n",
    "print(df1.Garden.nunique())"
   ]
  },
  {
   "cell_type": "code",
   "execution_count": 123,
   "id": "9d3455fb",
   "metadata": {},
   "outputs": [
    {
     "data": {
      "text/html": [
       "<div>\n",
       "<style scoped>\n",
       "    .dataframe tbody tr th:only-of-type {\n",
       "        vertical-align: middle;\n",
       "    }\n",
       "\n",
       "    .dataframe tbody tr th {\n",
       "        vertical-align: top;\n",
       "    }\n",
       "\n",
       "    .dataframe thead th {\n",
       "        text-align: right;\n",
       "    }\n",
       "</style>\n",
       "<table border=\"1\" class=\"dataframe\">\n",
       "  <thead>\n",
       "    <tr style=\"text-align: right;\">\n",
       "      <th></th>\n",
       "      <th>Property_Name</th>\n",
       "      <th>Price_in_INR</th>\n",
       "      <th>No_of_Bedroom</th>\n",
       "      <th>Property_type</th>\n",
       "      <th>No_of_Bathroom</th>\n",
       "      <th>Carpet_Area(Sq Ft)</th>\n",
       "      <th>Garden</th>\n",
       "      <th>Property_Status</th>\n",
       "      <th>Parking</th>\n",
       "    </tr>\n",
       "  </thead>\n",
       "  <tbody>\n",
       "    <tr>\n",
       "      <th>0</th>\n",
       "      <td>Beaumont Avenue, Fulham</td>\n",
       "      <td>98059250</td>\n",
       "      <td>3</td>\n",
       "      <td>Flat</td>\n",
       "      <td>2</td>\n",
       "      <td>0</td>\n",
       "      <td>No</td>\n",
       "      <td>TENURE\\nShare of Freehold</td>\n",
       "      <td>Ask agent</td>\n",
       "    </tr>\n",
       "    <tr>\n",
       "      <th>1</th>\n",
       "      <td>One Hyde Park, Knightsbridge</td>\n",
       "      <td>2147483648</td>\n",
       "      <td>5</td>\n",
       "      <td>Apartment</td>\n",
       "      <td>5</td>\n",
       "      <td>0</td>\n",
       "      <td>Yes</td>\n",
       "      <td>TENURE\\nLeasehold</td>\n",
       "      <td>Garage</td>\n",
       "    </tr>\n",
       "    <tr>\n",
       "      <th>2</th>\n",
       "      <td>Buckingham Gate, Westminster, SW1E</td>\n",
       "      <td>2147483648</td>\n",
       "      <td>8</td>\n",
       "      <td>Terraced</td>\n",
       "      <td>9</td>\n",
       "      <td>0</td>\n",
       "      <td>Yes</td>\n",
       "      <td>-</td>\n",
       "      <td>Garage</td>\n",
       "    </tr>\n",
       "    <tr>\n",
       "      <th>3</th>\n",
       "      <td>Buckingham Gate, SW1</td>\n",
       "      <td>2147483648</td>\n",
       "      <td>9</td>\n",
       "      <td>Terraced</td>\n",
       "      <td>9</td>\n",
       "      <td>15000</td>\n",
       "      <td>No</td>\n",
       "      <td>-</td>\n",
       "      <td>Yes</td>\n",
       "    </tr>\n",
       "    <tr>\n",
       "      <th>4</th>\n",
       "      <td>Wilton Crescent, London, SW1X</td>\n",
       "      <td>2147483648</td>\n",
       "      <td>8</td>\n",
       "      <td>Terraced</td>\n",
       "      <td>8</td>\n",
       "      <td>9000</td>\n",
       "      <td>No</td>\n",
       "      <td>-</td>\n",
       "      <td>Yes</td>\n",
       "    </tr>\n",
       "  </tbody>\n",
       "</table>\n",
       "</div>"
      ],
      "text/plain": [
       "                        Property_Name  Price_in_INR  No_of_Bedroom  \\\n",
       "0             Beaumont Avenue, Fulham      98059250              3   \n",
       "1        One Hyde Park, Knightsbridge    2147483648              5   \n",
       "2  Buckingham Gate, Westminster, SW1E    2147483648              8   \n",
       "3                Buckingham Gate, SW1    2147483648              9   \n",
       "4       Wilton Crescent, London, SW1X    2147483648              8   \n",
       "\n",
       "  Property_type  No_of_Bathroom  Carpet_Area(Sq Ft) Garden  \\\n",
       "0          Flat               2                   0     No   \n",
       "1     Apartment               5                   0    Yes   \n",
       "2      Terraced               9                   0    Yes   \n",
       "3      Terraced               9               15000     No   \n",
       "4      Terraced               8                9000     No   \n",
       "\n",
       "             Property_Status    Parking  \n",
       "0  TENURE\\nShare of Freehold  Ask agent  \n",
       "1          TENURE\\nLeasehold     Garage  \n",
       "2                          -     Garage  \n",
       "3                          -        Yes  \n",
       "4                          -        Yes  "
      ]
     },
     "execution_count": 123,
     "metadata": {},
     "output_type": "execute_result"
    }
   ],
   "source": [
    "df1.rename(columns={'Property Status': 'Property_Status'}, inplace=True)\n",
    "df1.head()"
   ]
  },
  {
   "cell_type": "code",
   "execution_count": 124,
   "id": "330f3ac7",
   "metadata": {},
   "outputs": [
    {
     "name": "stdout",
     "output_type": "stream",
     "text": [
      "['TENURE\\nShare of Freehold' 'TENURE\\nLeasehold' '-']\n",
      "3\n"
     ]
    }
   ],
   "source": [
    "print(df1.Property_Status.unique())\n",
    "print(df1.Property_Status.nunique())"
   ]
  },
  {
   "cell_type": "code",
   "execution_count": 125,
   "id": "99cf65b9",
   "metadata": {},
   "outputs": [],
   "source": [
    "df1['Property_Status'].replace({'TENURE\\nShare of Freehold' :'Freehold', 'TENURE\\nLeasehold': 'Leasehold','-':'Freehold'}, inplace =True)"
   ]
  },
  {
   "cell_type": "code",
   "execution_count": 126,
   "id": "4bbac2b7",
   "metadata": {},
   "outputs": [
    {
     "name": "stdout",
     "output_type": "stream",
     "text": [
      "['Freehold' 'Leasehold']\n",
      "2\n"
     ]
    }
   ],
   "source": [
    "print(df1.Property_Status.unique())\n",
    "print(df1.Property_Status.nunique())"
   ]
  },
  {
   "cell_type": "code",
   "execution_count": 127,
   "id": "23023eab",
   "metadata": {},
   "outputs": [
    {
     "name": "stdout",
     "output_type": "stream",
     "text": [
      "['Ask agent' 'Garage' 'Yes' 'Off street' 'Covered' 'Garage,' 'Private'\n",
      " 'Permit,' 'Underground,' '-' 'Underground' 'Permit' 'Allocated'\n",
      " 'On street,' 'Residents' 'Driveway' 'Private,' 'On street' 'Driveway,'\n",
      " 'Gated' 'Ask developer' 'Allocated,' 'Secure,' 'No disabled parking,'\n",
      " 'Residents,']\n",
      "25\n"
     ]
    }
   ],
   "source": [
    "print(df1.Parking.unique())\n",
    "print(df1.Parking.nunique())"
   ]
  },
  {
   "cell_type": "code",
   "execution_count": 128,
   "id": "0830c7ea",
   "metadata": {},
   "outputs": [],
   "source": [
    "df1['Parking'].replace({'Ask agent' :'No', 'Garage': 'Yes','Off street':'Yes',\n",
    "                       'Covered':'Yes','Private':'Yes', 'Permit': 'Yes', 'Underground':'Yes',\n",
    "                       'Permit,': 'Yes', 'Allocated':'Yes','On Street' :'No', 'Residents':'Yes', 'Driveway':'Yes',\n",
    "                       'Private,':'Yes', 'On street,':'No', 'Driveway,':'Yes', 'Gated':'Yes',\n",
    "                       'Ask developer' :'No', 'Allocated,':'Yes', 'Secure,':'Yes', \n",
    "                       'No disabled parking,': 'Yes', 'Residents,':'Yes'}, inplace =True)"
   ]
  },
  {
   "cell_type": "code",
   "execution_count": 129,
   "id": "025cd2f3",
   "metadata": {},
   "outputs": [
    {
     "name": "stdout",
     "output_type": "stream",
     "text": [
      "['No' 'Yes' 'Garage,' 'Underground,' '-' 'On street']\n",
      "6\n"
     ]
    }
   ],
   "source": [
    "print(df1.Parking.unique())\n",
    "print(df1.Parking.nunique())"
   ]
  },
  {
   "cell_type": "code",
   "execution_count": 130,
   "id": "293b01c1",
   "metadata": {},
   "outputs": [],
   "source": [
    "df1['Parking'].replace({'Garage,': 'Yes',\n",
    "                       'Underground,':'Yes',\n",
    "                       '-': 'No', 'On street' :'No'}, inplace =True)"
   ]
  },
  {
   "cell_type": "code",
   "execution_count": 131,
   "id": "2a8bcdce",
   "metadata": {},
   "outputs": [
    {
     "name": "stdout",
     "output_type": "stream",
     "text": [
      "['No' 'Yes']\n",
      "2\n"
     ]
    }
   ],
   "source": [
    "print(df1.Parking.unique())\n",
    "print(df1.Parking.nunique())"
   ]
  },
  {
   "cell_type": "code",
   "execution_count": 132,
   "id": "32f9dac7",
   "metadata": {},
   "outputs": [
    {
     "name": "stdout",
     "output_type": "stream",
     "text": [
      "['Flat' 'Apartment' 'Terraced' 'Detached' 'House' 'Maisonette' 'Mews'\n",
      " 'Penthouse' 'Block of Apartments' 'Semi-Detached' 'Duplex' 'Town House'\n",
      " 'End of Terrace' 'Villa' 'Equestrian Facility' 'Parking'\n",
      " 'Link Detached House' '3' 'Coach House' 'Ground Maisonette'\n",
      " 'Character Property' 'Retirement Property' 'Detached Bungalow' 'Plot'\n",
      " 'Bungalow' 'Ground Flat' 'Semi-Detached Bungalow' 'Cottage' 'Chalet'\n",
      " 'Barn Conversion' 'Cluster House' 'Mobile Home' 'Farm House'\n",
      " 'House of Multiple Occupation' 'House Share']\n",
      "35\n"
     ]
    }
   ],
   "source": [
    "print(df1.Property_type.unique())\n",
    "print(df1.Property_type.nunique())"
   ]
  },
  {
   "cell_type": "code",
   "execution_count": 133,
   "id": "bbef5aa7",
   "metadata": {},
   "outputs": [
    {
     "name": "stdout",
     "output_type": "stream",
     "text": [
      "['Beaumont Avenue, Fulham' 'One Hyde Park, Knightsbridge'\n",
      " 'Buckingham Gate, Westminster, SW1E' ... '47 Holgate Road, York'\n",
      " 'Grosvenor Road, Off Bootham, York'\n",
      " 'Carousel House Joseph Terry Grove, North Yorkshire, York, YO23']\n",
      "2609\n"
     ]
    }
   ],
   "source": [
    "print(df1.Property_Name.unique())\n",
    "print(df1.Property_Name.nunique())"
   ]
  },
  {
   "cell_type": "markdown",
   "id": "2ec62d4c",
   "metadata": {},
   "source": [
    " So we have converted some of the data in Yes / No so that it's easy to process\n",
    " \n",
    " Now with lable encoder we will convert this data to numeric values"
   ]
  },
  {
   "cell_type": "code",
   "execution_count": 78,
   "id": "be535c51",
   "metadata": {},
   "outputs": [
    {
     "data": {
      "text/plain": [
       "Property_Name          object\n",
       "Price_in_INR            int64\n",
       "No_of_Bedroom           int64\n",
       "Property_type          object\n",
       "No_of_Bathroom          int64\n",
       "Carpet_Area(Sq Ft)      int64\n",
       "Garden                 object\n",
       "Property_Status        object\n",
       "Parking                object\n",
       "City                  float64\n",
       "dtype: object"
      ]
     },
     "execution_count": 78,
     "metadata": {},
     "output_type": "execute_result"
    }
   ],
   "source": [
    "from sklearn.preprocessing import LabelEncoder\n",
    "df1.dtypes"
   ]
  },
  {
   "cell_type": "code",
   "execution_count": 134,
   "id": "aff83d0b",
   "metadata": {},
   "outputs": [
    {
     "data": {
      "text/html": [
       "<div>\n",
       "<style scoped>\n",
       "    .dataframe tbody tr th:only-of-type {\n",
       "        vertical-align: middle;\n",
       "    }\n",
       "\n",
       "    .dataframe tbody tr th {\n",
       "        vertical-align: top;\n",
       "    }\n",
       "\n",
       "    .dataframe thead th {\n",
       "        text-align: right;\n",
       "    }\n",
       "</style>\n",
       "<table border=\"1\" class=\"dataframe\">\n",
       "  <thead>\n",
       "    <tr style=\"text-align: right;\">\n",
       "      <th></th>\n",
       "      <th>Property_Name</th>\n",
       "      <th>Price_in_INR</th>\n",
       "      <th>No_of_Bedroom</th>\n",
       "      <th>Property_type</th>\n",
       "      <th>No_of_Bathroom</th>\n",
       "      <th>Carpet_Area(Sq Ft)</th>\n",
       "      <th>Garden</th>\n",
       "      <th>Property_Status</th>\n",
       "      <th>Parking</th>\n",
       "    </tr>\n",
       "  </thead>\n",
       "  <tbody>\n",
       "    <tr>\n",
       "      <th>142</th>\n",
       "      <td>2399</td>\n",
       "      <td>1855175000</td>\n",
       "      <td>5</td>\n",
       "      <td>16</td>\n",
       "      <td>6</td>\n",
       "      <td>0</td>\n",
       "      <td>1</td>\n",
       "      <td>1</td>\n",
       "      <td>1</td>\n",
       "    </tr>\n",
       "    <tr>\n",
       "      <th>491</th>\n",
       "      <td>1347</td>\n",
       "      <td>1007095000</td>\n",
       "      <td>7</td>\n",
       "      <td>10</td>\n",
       "      <td>4</td>\n",
       "      <td>4000</td>\n",
       "      <td>1</td>\n",
       "      <td>0</td>\n",
       "      <td>1</td>\n",
       "    </tr>\n",
       "    <tr>\n",
       "      <th>288</th>\n",
       "      <td>2594</td>\n",
       "      <td>1272120000</td>\n",
       "      <td>5</td>\n",
       "      <td>32</td>\n",
       "      <td>5</td>\n",
       "      <td>0</td>\n",
       "      <td>1</td>\n",
       "      <td>0</td>\n",
       "      <td>1</td>\n",
       "    </tr>\n",
       "    <tr>\n",
       "      <th>1822</th>\n",
       "      <td>1301</td>\n",
       "      <td>87458250</td>\n",
       "      <td>4</td>\n",
       "      <td>10</td>\n",
       "      <td>2</td>\n",
       "      <td>1000</td>\n",
       "      <td>1</td>\n",
       "      <td>0</td>\n",
       "      <td>1</td>\n",
       "    </tr>\n",
       "    <tr>\n",
       "      <th>2764</th>\n",
       "      <td>2114</td>\n",
       "      <td>106010000</td>\n",
       "      <td>6</td>\n",
       "      <td>32</td>\n",
       "      <td>2</td>\n",
       "      <td>523000</td>\n",
       "      <td>1</td>\n",
       "      <td>0</td>\n",
       "      <td>0</td>\n",
       "    </tr>\n",
       "    <tr>\n",
       "      <th>1611</th>\n",
       "      <td>2513</td>\n",
       "      <td>530050000</td>\n",
       "      <td>7</td>\n",
       "      <td>10</td>\n",
       "      <td>3</td>\n",
       "      <td>0</td>\n",
       "      <td>1</td>\n",
       "      <td>0</td>\n",
       "      <td>0</td>\n",
       "    </tr>\n",
       "    <tr>\n",
       "      <th>2187</th>\n",
       "      <td>729</td>\n",
       "      <td>68376450</td>\n",
       "      <td>2</td>\n",
       "      <td>1</td>\n",
       "      <td>2</td>\n",
       "      <td>0</td>\n",
       "      <td>1</td>\n",
       "      <td>1</td>\n",
       "      <td>1</td>\n",
       "    </tr>\n",
       "    <tr>\n",
       "      <th>607</th>\n",
       "      <td>1025</td>\n",
       "      <td>35513350</td>\n",
       "      <td>2</td>\n",
       "      <td>8</td>\n",
       "      <td>1</td>\n",
       "      <td>0</td>\n",
       "      <td>0</td>\n",
       "      <td>0</td>\n",
       "      <td>0</td>\n",
       "    </tr>\n",
       "    <tr>\n",
       "      <th>1407</th>\n",
       "      <td>276</td>\n",
       "      <td>46114350</td>\n",
       "      <td>3</td>\n",
       "      <td>30</td>\n",
       "      <td>1</td>\n",
       "      <td>0</td>\n",
       "      <td>1</td>\n",
       "      <td>0</td>\n",
       "      <td>1</td>\n",
       "    </tr>\n",
       "    <tr>\n",
       "      <th>1294</th>\n",
       "      <td>704</td>\n",
       "      <td>68906500</td>\n",
       "      <td>4</td>\n",
       "      <td>10</td>\n",
       "      <td>2</td>\n",
       "      <td>1000</td>\n",
       "      <td>1</td>\n",
       "      <td>0</td>\n",
       "      <td>1</td>\n",
       "    </tr>\n",
       "  </tbody>\n",
       "</table>\n",
       "</div>"
      ],
      "text/plain": [
       "      Property_Name  Price_in_INR  No_of_Bedroom  Property_type  \\\n",
       "142            2399    1855175000              5             16   \n",
       "491            1347    1007095000              7             10   \n",
       "288            2594    1272120000              5             32   \n",
       "1822           1301      87458250              4             10   \n",
       "2764           2114     106010000              6             32   \n",
       "1611           2513     530050000              7             10   \n",
       "2187            729      68376450              2              1   \n",
       "607            1025      35513350              2              8   \n",
       "1407            276      46114350              3             30   \n",
       "1294            704      68906500              4             10   \n",
       "\n",
       "      No_of_Bathroom  Carpet_Area(Sq Ft)  Garden  Property_Status  Parking  \n",
       "142                6                   0       1                1        1  \n",
       "491                4                4000       1                0        1  \n",
       "288                5                   0       1                0        1  \n",
       "1822               2                1000       1                0        1  \n",
       "2764               2              523000       1                0        0  \n",
       "1611               3                   0       1                0        0  \n",
       "2187               2                   0       1                1        1  \n",
       "607                1                   0       0                0        0  \n",
       "1407               1                   0       1                0        1  \n",
       "1294               2                1000       1                0        1  "
      ]
     },
     "execution_count": 134,
     "metadata": {},
     "output_type": "execute_result"
    }
   ],
   "source": [
    "le = LabelEncoder()\n",
    "df1['Garden'] = le.fit_transform(df1['Garden'])\n",
    "df1['Property_Status'] = le.fit_transform(df1['Property_Status'])\n",
    "df1['Parking'] = le.fit_transform(df1['Parking'])\n",
    "df1['Property_type'] = le.fit_transform(df1['Property_type'])\n",
    "df1['Property_Name'] = le.fit_transform(df1['Property_Name'])\n",
    "df1.sample(10)"
   ]
  },
  {
   "cell_type": "code",
   "execution_count": 137,
   "id": "eb5efef3",
   "metadata": {},
   "outputs": [
    {
     "name": "stdout",
     "output_type": "stream",
     "text": [
      "<class 'pandas.core.frame.DataFrame'>\n",
      "RangeIndex: 3073 entries, 0 to 3072\n",
      "Data columns (total 9 columns):\n",
      " #   Column              Non-Null Count  Dtype\n",
      "---  ------              --------------  -----\n",
      " 0   Property_Name       3073 non-null   int32\n",
      " 1   Price_in_INR        3073 non-null   int64\n",
      " 2   No_of_Bedroom       3073 non-null   int64\n",
      " 3   Property_type       3073 non-null   int32\n",
      " 4   No_of_Bathroom      3073 non-null   int64\n",
      " 5   Carpet_Area(Sq Ft)  3073 non-null   int64\n",
      " 6   Garden              3073 non-null   int32\n",
      " 7   Property_Status     3073 non-null   int32\n",
      " 8   Parking             3073 non-null   int32\n",
      "dtypes: int32(5), int64(4)\n",
      "memory usage: 156.2 KB\n"
     ]
    }
   ],
   "source": [
    "df1.info()"
   ]
  },
  {
   "cell_type": "code",
   "execution_count": null,
   "id": "7e051bb0",
   "metadata": {},
   "outputs": [],
   "source": []
  },
  {
   "cell_type": "markdown",
   "id": "7ba305d9",
   "metadata": {},
   "source": [
    "EDA : Exploratory Data Analysis\n",
    "\n",
    "Exploratory Data Analysis refers to the crucial process of performing initial investigations on data to discover patterns to check assumptions with the help of summary statistics and graphical representations.\n",
    "\n",
    "    EDA can be leveraged to check for outliers, patterns, and trends in the given data.\n",
    "    EDA helps to find meaningful patterns in data.\n",
    "    EDA provides in-depth insights into the data sets to solve our business problems.\n",
    "    EDA gives a clue to impute missing values in the dataset \n",
    "\n",
    "Statistics Summary\n",
    "\n",
    "    The information gives a quick and simple description of the data.\n",
    "\n",
    "    Can include Count, Mean, Standard Deviation, median, mode, minimum value, maximum value, range, standard deviation, etc.\n",
    "\n",
    "    Statistics summary gives a high-level idea to identify whether the data has any outliers, data entry error, distribution of data such as the data is normally distributed or left/right skewed\n",
    "\n",
    "\n",
    "describe()– Provide a statistics summary of data belonging to numerical datatype such as int, float"
   ]
  },
  {
   "cell_type": "code",
   "execution_count": 136,
   "id": "43d6f964",
   "metadata": {},
   "outputs": [
    {
     "data": {
      "text/html": [
       "<div>\n",
       "<style scoped>\n",
       "    .dataframe tbody tr th:only-of-type {\n",
       "        vertical-align: middle;\n",
       "    }\n",
       "\n",
       "    .dataframe tbody tr th {\n",
       "        vertical-align: top;\n",
       "    }\n",
       "\n",
       "    .dataframe thead th {\n",
       "        text-align: right;\n",
       "    }\n",
       "</style>\n",
       "<table border=\"1\" class=\"dataframe\">\n",
       "  <thead>\n",
       "    <tr style=\"text-align: right;\">\n",
       "      <th></th>\n",
       "      <th>count</th>\n",
       "      <th>mean</th>\n",
       "      <th>std</th>\n",
       "      <th>min</th>\n",
       "      <th>25%</th>\n",
       "      <th>50%</th>\n",
       "      <th>75%</th>\n",
       "      <th>max</th>\n",
       "    </tr>\n",
       "  </thead>\n",
       "  <tbody>\n",
       "    <tr>\n",
       "      <th>Property_Name</th>\n",
       "      <td>3073.0</td>\n",
       "      <td>1.305591e+03</td>\n",
       "      <td>7.500788e+02</td>\n",
       "      <td>0.0</td>\n",
       "      <td>671.0</td>\n",
       "      <td>1314.0</td>\n",
       "      <td>1944.0</td>\n",
       "      <td>2.608000e+03</td>\n",
       "    </tr>\n",
       "    <tr>\n",
       "      <th>Price_in_INR</th>\n",
       "      <td>3073.0</td>\n",
       "      <td>3.307777e+08</td>\n",
       "      <td>5.548282e+08</td>\n",
       "      <td>9540900.0</td>\n",
       "      <td>57775450.0</td>\n",
       "      <td>84808000.0</td>\n",
       "      <td>159015000.0</td>\n",
       "      <td>2.147484e+09</td>\n",
       "    </tr>\n",
       "    <tr>\n",
       "      <th>No_of_Bedroom</th>\n",
       "      <td>3073.0</td>\n",
       "      <td>4.114546e+00</td>\n",
       "      <td>2.100322e+00</td>\n",
       "      <td>1.0</td>\n",
       "      <td>3.0</td>\n",
       "      <td>4.0</td>\n",
       "      <td>5.0</td>\n",
       "      <td>4.500000e+01</td>\n",
       "    </tr>\n",
       "    <tr>\n",
       "      <th>Property_type</th>\n",
       "      <td>3073.0</td>\n",
       "      <td>1.748942e+01</td>\n",
       "      <td>1.108687e+01</td>\n",
       "      <td>0.0</td>\n",
       "      <td>10.0</td>\n",
       "      <td>13.0</td>\n",
       "      <td>30.0</td>\n",
       "      <td>3.400000e+01</td>\n",
       "    </tr>\n",
       "    <tr>\n",
       "      <th>No_of_Bathroom</th>\n",
       "      <td>3073.0</td>\n",
       "      <td>1.387632e+04</td>\n",
       "      <td>5.425073e+05</td>\n",
       "      <td>1.0</td>\n",
       "      <td>2.0</td>\n",
       "      <td>2.0</td>\n",
       "      <td>3.0</td>\n",
       "      <td>2.194293e+07</td>\n",
       "    </tr>\n",
       "    <tr>\n",
       "      <th>Carpet_Area(Sq Ft)</th>\n",
       "      <td>3073.0</td>\n",
       "      <td>5.802799e+04</td>\n",
       "      <td>2.071394e+05</td>\n",
       "      <td>0.0</td>\n",
       "      <td>0.0</td>\n",
       "      <td>0.0</td>\n",
       "      <td>2000.0</td>\n",
       "      <td>9.990000e+05</td>\n",
       "    </tr>\n",
       "    <tr>\n",
       "      <th>Garden</th>\n",
       "      <td>3073.0</td>\n",
       "      <td>8.128864e-01</td>\n",
       "      <td>3.900661e-01</td>\n",
       "      <td>0.0</td>\n",
       "      <td>1.0</td>\n",
       "      <td>1.0</td>\n",
       "      <td>1.0</td>\n",
       "      <td>1.000000e+00</td>\n",
       "    </tr>\n",
       "    <tr>\n",
       "      <th>Property_Status</th>\n",
       "      <td>3073.0</td>\n",
       "      <td>1.919948e-01</td>\n",
       "      <td>3.939331e-01</td>\n",
       "      <td>0.0</td>\n",
       "      <td>0.0</td>\n",
       "      <td>0.0</td>\n",
       "      <td>0.0</td>\n",
       "      <td>1.000000e+00</td>\n",
       "    </tr>\n",
       "    <tr>\n",
       "      <th>Parking</th>\n",
       "      <td>3073.0</td>\n",
       "      <td>7.731858e-01</td>\n",
       "      <td>4.188396e-01</td>\n",
       "      <td>0.0</td>\n",
       "      <td>1.0</td>\n",
       "      <td>1.0</td>\n",
       "      <td>1.0</td>\n",
       "      <td>1.000000e+00</td>\n",
       "    </tr>\n",
       "  </tbody>\n",
       "</table>\n",
       "</div>"
      ],
      "text/plain": [
       "                     count          mean           std        min         25%  \\\n",
       "Property_Name       3073.0  1.305591e+03  7.500788e+02        0.0       671.0   \n",
       "Price_in_INR        3073.0  3.307777e+08  5.548282e+08  9540900.0  57775450.0   \n",
       "No_of_Bedroom       3073.0  4.114546e+00  2.100322e+00        1.0         3.0   \n",
       "Property_type       3073.0  1.748942e+01  1.108687e+01        0.0        10.0   \n",
       "No_of_Bathroom      3073.0  1.387632e+04  5.425073e+05        1.0         2.0   \n",
       "Carpet_Area(Sq Ft)  3073.0  5.802799e+04  2.071394e+05        0.0         0.0   \n",
       "Garden              3073.0  8.128864e-01  3.900661e-01        0.0         1.0   \n",
       "Property_Status     3073.0  1.919948e-01  3.939331e-01        0.0         0.0   \n",
       "Parking             3073.0  7.731858e-01  4.188396e-01        0.0         1.0   \n",
       "\n",
       "                           50%          75%           max  \n",
       "Property_Name           1314.0       1944.0  2.608000e+03  \n",
       "Price_in_INR        84808000.0  159015000.0  2.147484e+09  \n",
       "No_of_Bedroom              4.0          5.0  4.500000e+01  \n",
       "Property_type             13.0         30.0  3.400000e+01  \n",
       "No_of_Bathroom             2.0          3.0  2.194293e+07  \n",
       "Carpet_Area(Sq Ft)         0.0       2000.0  9.990000e+05  \n",
       "Garden                     1.0          1.0  1.000000e+00  \n",
       "Property_Status            0.0          0.0  1.000000e+00  \n",
       "Parking                    1.0          1.0  1.000000e+00  "
      ]
     },
     "execution_count": 136,
     "metadata": {},
     "output_type": "execute_result"
    }
   ],
   "source": [
    "df1.describe().T"
   ]
  },
  {
   "cell_type": "code",
   "execution_count": 84,
   "id": "3ef12b5d",
   "metadata": {},
   "outputs": [],
   "source": [
    "# Carpet_Area(Sq Ft) has 0 value it must be either data is not available or data entry error"
   ]
  },
  {
   "cell_type": "code",
   "execution_count": 138,
   "id": "a4a91599",
   "metadata": {
    "scrolled": false
   },
   "outputs": [
    {
     "data": {
      "text/html": [
       "<div>\n",
       "<style scoped>\n",
       "    .dataframe tbody tr th:only-of-type {\n",
       "        vertical-align: middle;\n",
       "    }\n",
       "\n",
       "    .dataframe tbody tr th {\n",
       "        vertical-align: top;\n",
       "    }\n",
       "\n",
       "    .dataframe thead th {\n",
       "        text-align: right;\n",
       "    }\n",
       "</style>\n",
       "<table border=\"1\" class=\"dataframe\">\n",
       "  <thead>\n",
       "    <tr style=\"text-align: right;\">\n",
       "      <th></th>\n",
       "      <th>Property_Name</th>\n",
       "      <th>Price_in_INR</th>\n",
       "      <th>No_of_Bedroom</th>\n",
       "      <th>Property_type</th>\n",
       "      <th>No_of_Bathroom</th>\n",
       "      <th>Carpet_Area(Sq Ft)</th>\n",
       "      <th>Garden</th>\n",
       "      <th>Property_Status</th>\n",
       "      <th>Parking</th>\n",
       "    </tr>\n",
       "  </thead>\n",
       "  <tbody>\n",
       "    <tr>\n",
       "      <th>Property_Name</th>\n",
       "      <td>1.000000</td>\n",
       "      <td>-0.032209</td>\n",
       "      <td>-0.021798</td>\n",
       "      <td>-0.046747</td>\n",
       "      <td>-0.010443</td>\n",
       "      <td>-0.033870</td>\n",
       "      <td>0.016392</td>\n",
       "      <td>0.008572</td>\n",
       "      <td>0.003913</td>\n",
       "    </tr>\n",
       "    <tr>\n",
       "      <th>Price_in_INR</th>\n",
       "      <td>-0.032209</td>\n",
       "      <td>1.000000</td>\n",
       "      <td>0.354652</td>\n",
       "      <td>-0.002077</td>\n",
       "      <td>-0.009249</td>\n",
       "      <td>-0.128798</td>\n",
       "      <td>-0.176933</td>\n",
       "      <td>0.133055</td>\n",
       "      <td>-0.083870</td>\n",
       "    </tr>\n",
       "    <tr>\n",
       "      <th>No_of_Bedroom</th>\n",
       "      <td>-0.021798</td>\n",
       "      <td>0.354652</td>\n",
       "      <td>1.000000</td>\n",
       "      <td>0.053495</td>\n",
       "      <td>0.016779</td>\n",
       "      <td>-0.234507</td>\n",
       "      <td>0.068287</td>\n",
       "      <td>-0.277206</td>\n",
       "      <td>0.010301</td>\n",
       "    </tr>\n",
       "    <tr>\n",
       "      <th>Property_type</th>\n",
       "      <td>-0.046747</td>\n",
       "      <td>-0.002077</td>\n",
       "      <td>0.053495</td>\n",
       "      <td>1.000000</td>\n",
       "      <td>0.031157</td>\n",
       "      <td>-0.078821</td>\n",
       "      <td>0.194458</td>\n",
       "      <td>-0.291480</td>\n",
       "      <td>-0.075489</td>\n",
       "    </tr>\n",
       "    <tr>\n",
       "      <th>No_of_Bathroom</th>\n",
       "      <td>-0.010443</td>\n",
       "      <td>-0.009249</td>\n",
       "      <td>0.016779</td>\n",
       "      <td>0.031157</td>\n",
       "      <td>1.000000</td>\n",
       "      <td>-0.007167</td>\n",
       "      <td>0.012188</td>\n",
       "      <td>-0.012454</td>\n",
       "      <td>0.013799</td>\n",
       "    </tr>\n",
       "    <tr>\n",
       "      <th>Carpet_Area(Sq Ft)</th>\n",
       "      <td>-0.033870</td>\n",
       "      <td>-0.128798</td>\n",
       "      <td>-0.234507</td>\n",
       "      <td>-0.078821</td>\n",
       "      <td>-0.007167</td>\n",
       "      <td>1.000000</td>\n",
       "      <td>-0.134510</td>\n",
       "      <td>0.235967</td>\n",
       "      <td>-0.091462</td>\n",
       "    </tr>\n",
       "    <tr>\n",
       "      <th>Garden</th>\n",
       "      <td>0.016392</td>\n",
       "      <td>-0.176933</td>\n",
       "      <td>0.068287</td>\n",
       "      <td>0.194458</td>\n",
       "      <td>0.012188</td>\n",
       "      <td>-0.134510</td>\n",
       "      <td>1.000000</td>\n",
       "      <td>-0.437678</td>\n",
       "      <td>0.212362</td>\n",
       "    </tr>\n",
       "    <tr>\n",
       "      <th>Property_Status</th>\n",
       "      <td>0.008572</td>\n",
       "      <td>0.133055</td>\n",
       "      <td>-0.277206</td>\n",
       "      <td>-0.291480</td>\n",
       "      <td>-0.012454</td>\n",
       "      <td>0.235967</td>\n",
       "      <td>-0.437678</td>\n",
       "      <td>1.000000</td>\n",
       "      <td>-0.171998</td>\n",
       "    </tr>\n",
       "    <tr>\n",
       "      <th>Parking</th>\n",
       "      <td>0.003913</td>\n",
       "      <td>-0.083870</td>\n",
       "      <td>0.010301</td>\n",
       "      <td>-0.075489</td>\n",
       "      <td>0.013799</td>\n",
       "      <td>-0.091462</td>\n",
       "      <td>0.212362</td>\n",
       "      <td>-0.171998</td>\n",
       "      <td>1.000000</td>\n",
       "    </tr>\n",
       "  </tbody>\n",
       "</table>\n",
       "</div>"
      ],
      "text/plain": [
       "                    Property_Name  Price_in_INR  No_of_Bedroom  Property_type  \\\n",
       "Property_Name            1.000000     -0.032209      -0.021798      -0.046747   \n",
       "Price_in_INR            -0.032209      1.000000       0.354652      -0.002077   \n",
       "No_of_Bedroom           -0.021798      0.354652       1.000000       0.053495   \n",
       "Property_type           -0.046747     -0.002077       0.053495       1.000000   \n",
       "No_of_Bathroom          -0.010443     -0.009249       0.016779       0.031157   \n",
       "Carpet_Area(Sq Ft)      -0.033870     -0.128798      -0.234507      -0.078821   \n",
       "Garden                   0.016392     -0.176933       0.068287       0.194458   \n",
       "Property_Status          0.008572      0.133055      -0.277206      -0.291480   \n",
       "Parking                  0.003913     -0.083870       0.010301      -0.075489   \n",
       "\n",
       "                    No_of_Bathroom  Carpet_Area(Sq Ft)    Garden  \\\n",
       "Property_Name            -0.010443           -0.033870  0.016392   \n",
       "Price_in_INR             -0.009249           -0.128798 -0.176933   \n",
       "No_of_Bedroom             0.016779           -0.234507  0.068287   \n",
       "Property_type             0.031157           -0.078821  0.194458   \n",
       "No_of_Bathroom            1.000000           -0.007167  0.012188   \n",
       "Carpet_Area(Sq Ft)       -0.007167            1.000000 -0.134510   \n",
       "Garden                    0.012188           -0.134510  1.000000   \n",
       "Property_Status          -0.012454            0.235967 -0.437678   \n",
       "Parking                   0.013799           -0.091462  0.212362   \n",
       "\n",
       "                    Property_Status   Parking  \n",
       "Property_Name              0.008572  0.003913  \n",
       "Price_in_INR               0.133055 -0.083870  \n",
       "No_of_Bedroom             -0.277206  0.010301  \n",
       "Property_type             -0.291480 -0.075489  \n",
       "No_of_Bathroom            -0.012454  0.013799  \n",
       "Carpet_Area(Sq Ft)         0.235967 -0.091462  \n",
       "Garden                    -0.437678  0.212362  \n",
       "Property_Status            1.000000 -0.171998  \n",
       "Parking                   -0.171998  1.000000  "
      ]
     },
     "execution_count": 138,
     "metadata": {},
     "output_type": "execute_result"
    }
   ],
   "source": [
    "df1.corr()"
   ]
  },
  {
   "cell_type": "code",
   "execution_count": 139,
   "id": "c8a8262e",
   "metadata": {
    "scrolled": false
   },
   "outputs": [
    {
     "data": {
      "text/plain": [
       "<Axes: >"
      ]
     },
     "execution_count": 139,
     "metadata": {},
     "output_type": "execute_result"
    },
    {
     "data": {
      "image/png": "[encoded data removed]",
      "text/plain": [
       "<Figure size 1000x1000 with 2 Axes>"
      ]
     },
     "metadata": {},
     "output_type": "display_data"
    }
   ],
   "source": [
    "plt.figure(figsize=(10,10))\n",
    "sns.heatmap(df1.corr(), annot =True, fmt ='0.2f', linewidth =0.2, linecolor='blue',cmap= 'Spectral')"
   ]
  },
  {
   "cell_type": "code",
   "execution_count": 140,
   "id": "1bcd9b98",
   "metadata": {},
   "outputs": [],
   "source": [
    "# From above we can see that Price is highly corelated with no of bedroom (0.35), Property status (0.13)"
   ]
  },
  {
   "cell_type": "code",
   "execution_count": 141,
   "id": "5b90c31d",
   "metadata": {},
   "outputs": [],
   "source": [
    "# we will check for skewness in data"
   ]
  },
  {
   "cell_type": "code",
   "execution_count": 142,
   "id": "18f3251c",
   "metadata": {},
   "outputs": [
    {
     "data": {
      "text/plain": [
       "Property_Name          0.008005\n",
       "Price_in_INR           2.093265\n",
       "No_of_Bedroom          6.398120\n",
       "Property_type          0.122663\n",
       "No_of_Bathroom        39.240077\n",
       "Carpet_Area(Sq Ft)     3.473869\n",
       "Garden                -1.605319\n",
       "Property_Status        1.564762\n",
       "Parking               -1.305339\n",
       "dtype: float64"
      ]
     },
     "execution_count": 142,
     "metadata": {},
     "output_type": "execute_result"
    }
   ],
   "source": [
    "df1.skew() "
   ]
  },
  {
   "cell_type": "code",
   "execution_count": 143,
   "id": "b2552182",
   "metadata": {},
   "outputs": [
    {
     "data": {
      "image/png": "[encoded data removed]",
      "text/plain": [
       "<Figure size 2500x1500 with 9 Axes>"
      ]
     },
     "metadata": {},
     "output_type": "display_data"
    }
   ],
   "source": [
    "# we will check for data distribution as we know we have skew in our dataset\n",
    "\n",
    "plt.figure(figsize=(25,15), facecolor = 'skyblue')\n",
    "p = 1\n",
    "for x in df1:\n",
    "    if p <=10:\n",
    "        x1= plt.subplot(5,2,p)\n",
    "        sns.distplot(df1[x])\n",
    "        plt.xlabel(x,fontsize=15)\n",
    "        p+=1\n",
    "plt.show()"
   ]
  },
  {
   "cell_type": "code",
   "execution_count": 144,
   "id": "047f4797",
   "metadata": {},
   "outputs": [],
   "source": [
    "#we can see that data is not distrubuted properly\n",
    "#We will use yeojonson method to remove skewness as in some of the columns very high skew presetn"
   ]
  },
  {
   "cell_type": "markdown",
   "id": "e13400bc",
   "metadata": {},
   "source": [
    "#Applying Yeo-Johnson Transformation\n",
    "Ames['YeoJohnson_SalePrice'], _ = yeojohnson(Ames['SalePrice'])\n",
    "print(f\"Skewness after Yeo-Johnson Transformation: {Ames['YeoJohnson_SalePrice'].skew():.5f}\")"
   ]
  },
  {
   "cell_type": "code",
   "execution_count": 148,
   "id": "ba859e93",
   "metadata": {},
   "outputs": [
    {
     "data": {
      "image/png": "[encoded data removed]",
      "text/plain": [
       "<Figure size 2000x2500 with 9 Axes>"
      ]
     },
     "metadata": {},
     "output_type": "display_data"
    }
   ],
   "source": [
    "plt.figure(figsize=(20,25))\n",
    "p=1\n",
    "for i in df1:\n",
    "    if p<=10:\n",
    "        plt.subplot(4,4,p)\n",
    "        sns.boxplot(df1[i], palette = 'Set2_r')\n",
    "        plt.xlabel(i)\n",
    "    p+=1\n",
    "plt.show()"
   ]
  },
  {
   "cell_type": "code",
   "execution_count": 149,
   "id": "db176c24",
   "metadata": {},
   "outputs": [],
   "source": [
    "# we can see that we have high outliners in some of the data so 1st we have to clean it"
   ]
  },
  {
   "cell_type": "code",
   "execution_count": 157,
   "id": "6a2366c3",
   "metadata": {},
   "outputs": [],
   "source": [
    "df2=df1.copy()"
   ]
  },
  {
   "cell_type": "code",
   "execution_count": 158,
   "id": "c2448f82",
   "metadata": {},
   "outputs": [],
   "source": [
    "from sklearn.preprocessing import PowerTransformer"
   ]
  },
  {
   "cell_type": "code",
   "execution_count": 159,
   "id": "e7e5d4c7",
   "metadata": {},
   "outputs": [],
   "source": [
    "power = PowerTransformer(method='yeo-johnson', standardize=True)\n",
    "data_trans = power.fit_transform(df2)"
   ]
  },
  {
   "cell_type": "code",
   "execution_count": 160,
   "id": "87b687d1",
   "metadata": {},
   "outputs": [
    {
     "data": {
      "text/plain": [
       "Property_Name         0.008005\n",
       "Price_in_INR          0.187616\n",
       "No_of_Bedroom         0.025194\n",
       "Property_type         0.122663\n",
       "No_of_Bathroom       -0.032203\n",
       "Carpet_Area(Sq Ft)    0.298875\n",
       "Garden                0.000000\n",
       "Property_Status       1.564762\n",
       "Parking              -1.305339\n",
       "dtype: float64"
      ]
     },
     "execution_count": 160,
     "metadata": {},
     "output_type": "execute_result"
    }
   ],
   "source": [
    "df2.skew()"
   ]
  },
  {
   "cell_type": "code",
   "execution_count": 161,
   "id": "a1185aa0",
   "metadata": {},
   "outputs": [],
   "source": [
    "# so we have bring skewness of our target columns in range of +/-0.5"
   ]
  },
  {
   "cell_type": "code",
   "execution_count": 170,
   "id": "056bb393",
   "metadata": {},
   "outputs": [
    {
     "name": "stdout",
     "output_type": "stream",
     "text": [
      "      Property_Name  Price_in_INR  No_of_Bedroom  Property_type  \\\n",
      "0          1.423537      0.050376       0.550604       0.134363   \n",
      "1          0.488573      1.774411       0.668968       1.487536   \n",
      "2          1.203524      1.774411       1.834167       1.309021   \n",
      "3          1.210191      1.774411       2.132822       1.309021   \n",
      "4          1.636639      1.774411       1.834167       1.309021   \n",
      "...             ...           ...            ...            ...   \n",
      "3068       1.131277      0.385685       0.550604       1.487536   \n",
      "3069       0.376567      0.385685       0.550604       1.309021   \n",
      "3070       1.703553      0.385685       0.130330       0.136271   \n",
      "3071       0.368810      0.385685       0.550604       1.128598   \n",
      "3072       1.132854      0.385685       1.485121       0.857963   \n",
      "\n",
      "      No_of_Bathroom  Carpet_Area(Sq Ft)  Garden  Property_Status   Parking  \n",
      "0           0.178825            0.894376     NaN         0.487458  1.846319  \n",
      "1           1.100043            0.894376     NaN         2.051457  0.541618  \n",
      "2           1.656404            0.894376     NaN         0.487458  0.541618  \n",
      "3           1.656404            1.247272     NaN         0.487458  0.541618  \n",
      "4           1.557848            1.181133     NaN         0.487458  0.541618  \n",
      "...              ...                 ...     ...              ...       ...  \n",
      "3068        0.461024            0.850574     NaN         2.051457  0.541618  \n",
      "3069        0.178825            0.850574     NaN         0.487458  1.846319  \n",
      "3070        0.178825            0.963534     NaN         0.487458  0.541618  \n",
      "3071        0.178825            0.894376     NaN         0.487458  0.541618  \n",
      "3072        0.178825            0.894376     NaN         0.487458  0.541618  \n",
      "\n",
      "[3073 rows x 9 columns]\n"
     ]
    }
   ],
   "source": [
    "from scipy import stats\n",
    "import numpy as np\n",
    "z = np.abs(stats.zscore(df2))\n",
    "print(z)"
   ]
  },
  {
   "cell_type": "code",
   "execution_count": 171,
   "id": "5263a4e8",
   "metadata": {},
   "outputs": [
    {
     "name": "stdout",
     "output_type": "stream",
     "text": [
      "Original DataFrame Shape: (3073, 9)\n",
      "DataFrame Shape after Removing Outliers: (2960, 9)\n"
     ]
    }
   ],
   "source": [
    "threshold_z = 3\n",
    " \n",
    "outlier_indices = np.where(z > threshold_z)[0]\n",
    "no_outliers = df2.drop(outlier_indices)\n",
    "print(\"Original DataFrame Shape:\", df2.shape)\n",
    "print(\"DataFrame Shape after Removing Outliers:\", no_outliers.shape)"
   ]
  },
  {
   "cell_type": "code",
   "execution_count": 175,
   "id": "ffe475af",
   "metadata": {},
   "outputs": [],
   "source": [
    "df1= no_outliers.copy()"
   ]
  },
  {
   "cell_type": "code",
   "execution_count": 176,
   "id": "09c82bc1",
   "metadata": {},
   "outputs": [
    {
     "data": {
      "text/plain": [
       "(2960, 9)"
      ]
     },
     "execution_count": 176,
     "metadata": {},
     "output_type": "execute_result"
    }
   ],
   "source": [
    "df1.shape"
   ]
  },
  {
   "cell_type": "code",
   "execution_count": 177,
   "id": "872bc2a0",
   "metadata": {},
   "outputs": [],
   "source": [
    " # so after removing outliers we have 2960 entry left in our dataset"
   ]
  },
  {
   "cell_type": "code",
   "execution_count": 178,
   "id": "194a5ccd",
   "metadata": {},
   "outputs": [
    {
     "name": "stdout",
     "output_type": "stream",
     "text": [
      "<class 'pandas.core.frame.DataFrame'>\n",
      "Int64Index: 2960 entries, 0 to 3072\n",
      "Data columns (total 9 columns):\n",
      " #   Column              Non-Null Count  Dtype  \n",
      "---  ------              --------------  -----  \n",
      " 0   Property_Name       2960 non-null   int32  \n",
      " 1   Price_in_INR        2960 non-null   float64\n",
      " 2   No_of_Bedroom       2960 non-null   float64\n",
      " 3   Property_type       2960 non-null   int32  \n",
      " 4   No_of_Bathroom      2960 non-null   float64\n",
      " 5   Carpet_Area(Sq Ft)  2960 non-null   float64\n",
      " 6   Garden              2960 non-null   int64  \n",
      " 7   Property_Status     2960 non-null   int32  \n",
      " 8   Parking             2960 non-null   int32  \n",
      "dtypes: float64(4), int32(4), int64(1)\n",
      "memory usage: 185.0 KB\n"
     ]
    }
   ],
   "source": [
    "df1.info()"
   ]
  },
  {
   "cell_type": "code",
   "execution_count": 179,
   "id": "fe9872d7",
   "metadata": {},
   "outputs": [],
   "source": [
    "# Now we will get model ready for ML"
   ]
  },
  {
   "cell_type": "code",
   "execution_count": 180,
   "id": "8fc3b48c",
   "metadata": {},
   "outputs": [],
   "source": [
    "df3 = df1.copy()"
   ]
  },
  {
   "cell_type": "code",
   "execution_count": 181,
   "id": "234f4902",
   "metadata": {},
   "outputs": [
    {
     "data": {
      "text/html": [
       "<div>\n",
       "<style scoped>\n",
       "    .dataframe tbody tr th:only-of-type {\n",
       "        vertical-align: middle;\n",
       "    }\n",
       "\n",
       "    .dataframe tbody tr th {\n",
       "        vertical-align: top;\n",
       "    }\n",
       "\n",
       "    .dataframe thead th {\n",
       "        text-align: right;\n",
       "    }\n",
       "</style>\n",
       "<table border=\"1\" class=\"dataframe\">\n",
       "  <thead>\n",
       "    <tr style=\"text-align: right;\">\n",
       "      <th></th>\n",
       "      <th>Property_Name</th>\n",
       "      <th>No_of_Bedroom</th>\n",
       "      <th>Property_type</th>\n",
       "      <th>No_of_Bathroom</th>\n",
       "      <th>Carpet_Area(Sq Ft)</th>\n",
       "      <th>Garden</th>\n",
       "      <th>Property_Status</th>\n",
       "      <th>Parking</th>\n",
       "    </tr>\n",
       "  </thead>\n",
       "  <tbody>\n",
       "    <tr>\n",
       "      <th>0</th>\n",
       "      <td>238</td>\n",
       "      <td>1.146324</td>\n",
       "      <td>16</td>\n",
       "      <td>0.584010</td>\n",
       "      <td>0.000000</td>\n",
       "      <td>1</td>\n",
       "      <td>0</td>\n",
       "      <td>0</td>\n",
       "    </tr>\n",
       "    <tr>\n",
       "      <th>1</th>\n",
       "      <td>1672</td>\n",
       "      <td>1.713206</td>\n",
       "      <td>1</td>\n",
       "      <td>1.098427</td>\n",
       "      <td>0.000000</td>\n",
       "      <td>1</td>\n",
       "      <td>1</td>\n",
       "      <td>1</td>\n",
       "    </tr>\n",
       "    <tr>\n",
       "      <th>2</th>\n",
       "      <td>403</td>\n",
       "      <td>2.254814</td>\n",
       "      <td>32</td>\n",
       "      <td>1.322220</td>\n",
       "      <td>0.000000</td>\n",
       "      <td>1</td>\n",
       "      <td>0</td>\n",
       "      <td>1</td>\n",
       "    </tr>\n",
       "    <tr>\n",
       "      <th>3</th>\n",
       "      <td>398</td>\n",
       "      <td>2.393635</td>\n",
       "      <td>32</td>\n",
       "      <td>1.322220</td>\n",
       "      <td>5.953506</td>\n",
       "      <td>1</td>\n",
       "      <td>0</td>\n",
       "      <td>1</td>\n",
       "    </tr>\n",
       "    <tr>\n",
       "      <th>4</th>\n",
       "      <td>2533</td>\n",
       "      <td>2.254814</td>\n",
       "      <td>32</td>\n",
       "      <td>1.282577</td>\n",
       "      <td>5.769648</td>\n",
       "      <td>1</td>\n",
       "      <td>0</td>\n",
       "      <td>1</td>\n",
       "    </tr>\n",
       "    <tr>\n",
       "      <th>...</th>\n",
       "      <td>...</td>\n",
       "      <td>...</td>\n",
       "      <td>...</td>\n",
       "      <td>...</td>\n",
       "      <td>...</td>\n",
       "      <td>...</td>\n",
       "      <td>...</td>\n",
       "      <td>...</td>\n",
       "    </tr>\n",
       "    <tr>\n",
       "      <th>3068</th>\n",
       "      <td>2154</td>\n",
       "      <td>1.146324</td>\n",
       "      <td>1</td>\n",
       "      <td>0.841386</td>\n",
       "      <td>4.850737</td>\n",
       "      <td>1</td>\n",
       "      <td>1</td>\n",
       "      <td>1</td>\n",
       "    </tr>\n",
       "    <tr>\n",
       "      <th>3069</th>\n",
       "      <td>1588</td>\n",
       "      <td>1.146324</td>\n",
       "      <td>32</td>\n",
       "      <td>0.584010</td>\n",
       "      <td>4.850737</td>\n",
       "      <td>1</td>\n",
       "      <td>0</td>\n",
       "      <td>0</td>\n",
       "    </tr>\n",
       "    <tr>\n",
       "      <th>3070</th>\n",
       "      <td>28</td>\n",
       "      <td>1.462836</td>\n",
       "      <td>19</td>\n",
       "      <td>0.584010</td>\n",
       "      <td>5.164749</td>\n",
       "      <td>1</td>\n",
       "      <td>0</td>\n",
       "      <td>1</td>\n",
       "    </tr>\n",
       "    <tr>\n",
       "      <th>3071</th>\n",
       "      <td>1029</td>\n",
       "      <td>1.146324</td>\n",
       "      <td>30</td>\n",
       "      <td>0.584010</td>\n",
       "      <td>0.000000</td>\n",
       "      <td>1</td>\n",
       "      <td>0</td>\n",
       "      <td>1</td>\n",
       "    </tr>\n",
       "    <tr>\n",
       "      <th>3072</th>\n",
       "      <td>456</td>\n",
       "      <td>0.711941</td>\n",
       "      <td>27</td>\n",
       "      <td>0.584010</td>\n",
       "      <td>0.000000</td>\n",
       "      <td>1</td>\n",
       "      <td>0</td>\n",
       "      <td>1</td>\n",
       "    </tr>\n",
       "  </tbody>\n",
       "</table>\n",
       "<p>2960 rows × 8 columns</p>\n",
       "</div>"
      ],
      "text/plain": [
       "      Property_Name  No_of_Bedroom  Property_type  No_of_Bathroom  \\\n",
       "0               238       1.146324             16        0.584010   \n",
       "1              1672       1.713206              1        1.098427   \n",
       "2               403       2.254814             32        1.322220   \n",
       "3               398       2.393635             32        1.322220   \n",
       "4              2533       2.254814             32        1.282577   \n",
       "...             ...            ...            ...             ...   \n",
       "3068           2154       1.146324              1        0.841386   \n",
       "3069           1588       1.146324             32        0.584010   \n",
       "3070             28       1.462836             19        0.584010   \n",
       "3071           1029       1.146324             30        0.584010   \n",
       "3072            456       0.711941             27        0.584010   \n",
       "\n",
       "      Carpet_Area(Sq Ft)  Garden  Property_Status  Parking  \n",
       "0               0.000000       1                0        0  \n",
       "1               0.000000       1                1        1  \n",
       "2               0.000000       1                0        1  \n",
       "3               5.953506       1                0        1  \n",
       "4               5.769648       1                0        1  \n",
       "...                  ...     ...              ...      ...  \n",
       "3068            4.850737       1                1        1  \n",
       "3069            4.850737       1                0        0  \n",
       "3070            5.164749       1                0        1  \n",
       "3071            0.000000       1                0        1  \n",
       "3072            0.000000       1                0        1  \n",
       "\n",
       "[2960 rows x 8 columns]"
      ]
     },
     "execution_count": 181,
     "metadata": {},
     "output_type": "execute_result"
    }
   ],
   "source": [
    "x= df1.drop('Price_in_INR', axis =1)\n",
    "y= df1['Price_in_INR']\n",
    "x"
   ]
  },
  {
   "cell_type": "code",
   "execution_count": 182,
   "id": "cc53ac38",
   "metadata": {},
   "outputs": [
    {
     "data": {
      "text/plain": [
       "0       1.912753\n",
       "1       1.912855\n",
       "2       1.912855\n",
       "3       1.912855\n",
       "4       1.912855\n",
       "          ...   \n",
       "3068    1.912727\n",
       "3069    1.912727\n",
       "3070    1.912727\n",
       "3071    1.912727\n",
       "3072    1.912727\n",
       "Name: Price_in_INR, Length: 2960, dtype: float64"
      ]
     },
     "execution_count": 182,
     "metadata": {},
     "output_type": "execute_result"
    }
   ],
   "source": [
    "y"
   ]
  },
  {
   "cell_type": "code",
   "execution_count": 183,
   "id": "2575b983",
   "metadata": {},
   "outputs": [],
   "source": [
    "# checking VIF"
   ]
  },
  {
   "cell_type": "code",
   "execution_count": 184,
   "id": "7aec1977",
   "metadata": {},
   "outputs": [],
   "source": [
    "from statsmodels.stats.outliers_influence import variance_inflation_factor"
   ]
  },
  {
   "cell_type": "code",
   "execution_count": 185,
   "id": "645f9998",
   "metadata": {},
   "outputs": [
    {
     "data": {
      "text/html": [
       "<div>\n",
       "<style scoped>\n",
       "    .dataframe tbody tr th:only-of-type {\n",
       "        vertical-align: middle;\n",
       "    }\n",
       "\n",
       "    .dataframe tbody tr th {\n",
       "        vertical-align: top;\n",
       "    }\n",
       "\n",
       "    .dataframe thead th {\n",
       "        text-align: right;\n",
       "    }\n",
       "</style>\n",
       "<table border=\"1\" class=\"dataframe\">\n",
       "  <thead>\n",
       "    <tr style=\"text-align: right;\">\n",
       "      <th></th>\n",
       "      <th>VIF_values</th>\n",
       "      <th>Features</th>\n",
       "    </tr>\n",
       "  </thead>\n",
       "  <tbody>\n",
       "    <tr>\n",
       "      <th>0</th>\n",
       "      <td>1.006364</td>\n",
       "      <td>Property_Name</td>\n",
       "    </tr>\n",
       "    <tr>\n",
       "      <th>1</th>\n",
       "      <td>2.081536</td>\n",
       "      <td>No_of_Bedroom</td>\n",
       "    </tr>\n",
       "    <tr>\n",
       "      <th>2</th>\n",
       "      <td>1.143579</td>\n",
       "      <td>Property_type</td>\n",
       "    </tr>\n",
       "    <tr>\n",
       "      <th>3</th>\n",
       "      <td>1.850651</td>\n",
       "      <td>No_of_Bathroom</td>\n",
       "    </tr>\n",
       "    <tr>\n",
       "      <th>4</th>\n",
       "      <td>1.077707</td>\n",
       "      <td>Carpet_Area(Sq Ft)</td>\n",
       "    </tr>\n",
       "    <tr>\n",
       "      <th>5</th>\n",
       "      <td>31.442179</td>\n",
       "      <td>Garden</td>\n",
       "    </tr>\n",
       "    <tr>\n",
       "      <th>6</th>\n",
       "      <td>1.445546</td>\n",
       "      <td>Property_Status</td>\n",
       "    </tr>\n",
       "    <tr>\n",
       "      <th>7</th>\n",
       "      <td>1.051584</td>\n",
       "      <td>Parking</td>\n",
       "    </tr>\n",
       "  </tbody>\n",
       "</table>\n",
       "</div>"
      ],
      "text/plain": [
       "   VIF_values            Features\n",
       "0    1.006364       Property_Name\n",
       "1    2.081536       No_of_Bedroom\n",
       "2    1.143579       Property_type\n",
       "3    1.850651      No_of_Bathroom\n",
       "4    1.077707  Carpet_Area(Sq Ft)\n",
       "5   31.442179              Garden\n",
       "6    1.445546     Property_Status\n",
       "7    1.051584             Parking"
      ]
     },
     "execution_count": 185,
     "metadata": {},
     "output_type": "execute_result"
    }
   ],
   "source": [
    "vif = pd.DataFrame()\n",
    "vif['VIF_values'] = [variance_inflation_factor(x.values,i) for i in range (len(x.columns))]\n",
    "vif['Features']=x.columns\n",
    "vif"
   ]
  },
  {
   "cell_type": "code",
   "execution_count": 186,
   "id": "353ff123",
   "metadata": {},
   "outputs": [],
   "source": [
    "from sklearn.preprocessing import StandardScaler"
   ]
  },
  {
   "cell_type": "code",
   "execution_count": 187,
   "id": "7a00879c",
   "metadata": {},
   "outputs": [
    {
     "data": {
      "text/plain": [
       "array([[-1.42760187, -0.67872099, -0.1579094 , ...,  0.        ,\n",
       "        -0.47398172, -1.91348303],\n",
       "       [ 0.484467  ,  0.72608843, -1.52327985, ...,  0.        ,\n",
       "         2.10978602,  0.52260719],\n",
       "       [-1.20759395,  2.06826569,  1.29848575, ...,  0.        ,\n",
       "        -0.47398172,  0.52260719],\n",
       "       ...,\n",
       "       [-1.70761196,  0.10563757,  0.11516469, ...,  0.        ,\n",
       "        -0.47398172,  0.52260719],\n",
       "       [-0.37289722, -0.67872099,  1.11643636, ...,  0.        ,\n",
       "        -0.47398172,  0.52260719],\n",
       "       [-1.13692474, -1.75517808,  0.84336227, ...,  0.        ,\n",
       "        -0.47398172,  0.52260719]])"
      ]
     },
     "execution_count": 187,
     "metadata": {},
     "output_type": "execute_result"
    }
   ],
   "source": [
    "scaler = StandardScaler()\n",
    "x = scaler.fit_transform(x)\n",
    "x"
   ]
  },
  {
   "cell_type": "code",
   "execution_count": 188,
   "id": "5b9b1a87",
   "metadata": {},
   "outputs": [],
   "source": [
    "from sklearn.model_selection import train_test_split\n",
    "from sklearn.metrics import accuracy_score,confusion_matrix, classification_report"
   ]
  },
  {
   "cell_type": "code",
   "execution_count": 189,
   "id": "645d00f4",
   "metadata": {},
   "outputs": [],
   "source": [
    "x_train, x_test, y_train, y_test = train_test_split(x,y,test_size =0.3)"
   ]
  },
  {
   "cell_type": "code",
   "execution_count": 190,
   "id": "8304632b",
   "metadata": {},
   "outputs": [],
   "source": [
    "from sklearn.linear_model import LinearRegression\n",
    "from sklearn.ensemble import RandomForestRegressor\n",
    "from sklearn.tree import DecisionTreeRegressor \n",
    "from sklearn.neighbors import KNeighborsRegressor as KNN\n",
    "from sklearn.linear_model import Lasso,Ridge\n",
    "from sklearn.svm import SVR\n",
    "from sklearn.ensemble import ExtraTreesRegressor\n",
    "from sklearn.preprocessing import StandardScaler\n",
    "from statsmodels.stats.outliers_influence import variance_inflation_factor\n",
    "from sklearn.metrics import mean_squared_error, mean_absolute_error\n",
    "from sklearn.metrics import r2_score\n",
    "from sklearn.ensemble import GradientBoostingRegressor"
   ]
  },
  {
   "cell_type": "code",
   "execution_count": 191,
   "id": "0e7bc947",
   "metadata": {},
   "outputs": [
    {
     "name": "stdout",
     "output_type": "stream",
     "text": [
      "VAlue of MSE is  1.4785916652001883e-09  at Random State  1\n",
      "VAlue of MSE is  1.361309554587642e-09  at Random State  2\n",
      "VAlue of MSE is  1.361309554587642e-09  at Random State  2\n",
      "VAlue of MSE is  1.361309554587642e-09  at Random State  2\n",
      "VAlue of MSE is  1.361309554587642e-09  at Random State  2\n",
      "VAlue of MSE is  1.328936970295397e-09  at Random State  6\n",
      "VAlue of MSE is  1.328936970295397e-09  at Random State  6\n",
      "VAlue of MSE is  1.328936970295397e-09  at Random State  6\n",
      "VAlue of MSE is  1.328936970295397e-09  at Random State  6\n",
      "VAlue of MSE is  1.328936970295397e-09  at Random State  6\n",
      "VAlue of MSE is  1.328936970295397e-09  at Random State  6\n",
      "VAlue of MSE is  1.328936970295397e-09  at Random State  6\n",
      "VAlue of MSE is  1.328936970295397e-09  at Random State  6\n",
      "VAlue of MSE is  1.328936970295397e-09  at Random State  6\n",
      "VAlue of MSE is  1.328936970295397e-09  at Random State  6\n",
      "VAlue of MSE is  1.328936970295397e-09  at Random State  6\n",
      "VAlue of MSE is  1.328936970295397e-09  at Random State  6\n",
      "VAlue of MSE is  1.328936970295397e-09  at Random State  6\n",
      "VAlue of MSE is  1.328936970295397e-09  at Random State  6\n",
      "VAlue of MSE is  1.328936970295397e-09  at Random State  6\n",
      "VAlue of MSE is  1.2898130044289939e-09  at Random State  21\n",
      "VAlue of MSE is  1.2898130044289939e-09  at Random State  21\n",
      "VAlue of MSE is  1.2898130044289939e-09  at Random State  21\n",
      "VAlue of MSE is  1.2898130044289939e-09  at Random State  21\n",
      "VAlue of MSE is  1.2898130044289939e-09  at Random State  21\n",
      "VAlue of MSE is  1.2898130044289939e-09  at Random State  21\n",
      "VAlue of MSE is  1.2898130044289939e-09  at Random State  21\n",
      "VAlue of MSE is  1.2898130044289939e-09  at Random State  21\n",
      "VAlue of MSE is  1.2898130044289939e-09  at Random State  21\n",
      "VAlue of MSE is  1.2898130044289939e-09  at Random State  21\n",
      "VAlue of MSE is  1.2898130044289939e-09  at Random State  21\n",
      "VAlue of MSE is  1.2898130044289939e-09  at Random State  21\n",
      "VAlue of MSE is  1.2898130044289939e-09  at Random State  21\n",
      "VAlue of MSE is  1.2898130044289939e-09  at Random State  21\n",
      "VAlue of MSE is  1.2898130044289939e-09  at Random State  21\n",
      "VAlue of MSE is  1.2898130044289939e-09  at Random State  21\n",
      "VAlue of MSE is  1.2898130044289939e-09  at Random State  21\n",
      "VAlue of MSE is  1.2898130044289939e-09  at Random State  21\n",
      "VAlue of MSE is  1.2898130044289939e-09  at Random State  21\n",
      "VAlue of MSE is  1.2898130044289939e-09  at Random State  21\n",
      "VAlue of MSE is  1.2898130044289939e-09  at Random State  21\n",
      "VAlue of MSE is  1.2898130044289939e-09  at Random State  21\n",
      "VAlue of MSE is  1.2898130044289939e-09  at Random State  21\n",
      "VAlue of MSE is  1.2898130044289939e-09  at Random State  21\n",
      "VAlue of MSE is  1.2898130044289939e-09  at Random State  21\n",
      "VAlue of MSE is  1.2898130044289939e-09  at Random State  21\n",
      "VAlue of MSE is  1.2898130044289939e-09  at Random State  21\n",
      "VAlue of MSE is  1.2898130044289939e-09  at Random State  21\n",
      "VAlue of MSE is  1.2898130044289939e-09  at Random State  21\n",
      "VAlue of MSE is  1.2898130044289939e-09  at Random State  21\n",
      "VAlue of MSE is  1.2898130044289939e-09  at Random State  21\n",
      "VAlue of MSE is  1.2898130044289939e-09  at Random State  21\n",
      "VAlue of MSE is  1.2898130044289939e-09  at Random State  21\n",
      "VAlue of MSE is  1.2898130044289939e-09  at Random State  21\n",
      "VAlue of MSE is  1.2898130044289939e-09  at Random State  21\n",
      "VAlue of MSE is  1.2898130044289939e-09  at Random State  21\n",
      "VAlue of MSE is  1.2898130044289939e-09  at Random State  21\n",
      "VAlue of MSE is  1.2898130044289939e-09  at Random State  21\n",
      "VAlue of MSE is  1.2898130044289939e-09  at Random State  21\n",
      "VAlue of MSE is  1.2898130044289939e-09  at Random State  21\n",
      "VAlue of MSE is  1.2898130044289939e-09  at Random State  21\n",
      "VAlue of MSE is  1.2898130044289939e-09  at Random State  21\n",
      "VAlue of MSE is  1.2898130044289939e-09  at Random State  21\n",
      "VAlue of MSE is  1.2898130044289939e-09  at Random State  21\n",
      "VAlue of MSE is  1.2898130044289939e-09  at Random State  21\n",
      "VAlue of MSE is  1.2898130044289939e-09  at Random State  21\n",
      "VAlue of MSE is  1.2898130044289939e-09  at Random State  21\n",
      "VAlue of MSE is  1.2898130044289939e-09  at Random State  21\n",
      "VAlue of MSE is  1.2898130044289939e-09  at Random State  21\n",
      "VAlue of MSE is  1.2898130044289939e-09  at Random State  21\n",
      "VAlue of MSE is  1.2898130044289939e-09  at Random State  21\n",
      "VAlue of MSE is  1.2898130044289939e-09  at Random State  21\n",
      "VAlue of MSE is  1.2898130044289939e-09  at Random State  21\n",
      "VAlue of MSE is  1.2898130044289939e-09  at Random State  21\n",
      "VAlue of MSE is  1.2898130044289939e-09  at Random State  21\n",
      "VAlue of MSE is  1.2898130044289939e-09  at Random State  21\n",
      "VAlue of MSE is  1.2898130044289939e-09  at Random State  21\n",
      "VAlue of MSE is  1.2898130044289939e-09  at Random State  21\n",
      "VAlue of MSE is  1.2898130044289939e-09  at Random State  21\n",
      "VAlue of MSE is  1.2898130044289939e-09  at Random State  21\n",
      "VAlue of MSE is  1.2898130044289939e-09  at Random State  21\n",
      "VAlue of MSE is  1.2898130044289939e-09  at Random State  21\n",
      "VAlue of MSE is  1.2898130044289939e-09  at Random State  21\n",
      "VAlue of MSE is  1.2898130044289939e-09  at Random State  21\n",
      "VAlue of MSE is  1.2898130044289939e-09  at Random State  21\n",
      "VAlue of MSE is  1.2898130044289939e-09  at Random State  21\n",
      "VAlue of MSE is  1.2898130044289939e-09  at Random State  21\n",
      "VAlue of MSE is  1.2898130044289939e-09  at Random State  21\n",
      "VAlue of MSE is  1.2898130044289939e-09  at Random State  21\n",
      "VAlue of MSE is  1.2898130044289939e-09  at Random State  21\n",
      "VAlue of MSE is  1.2898130044289939e-09  at Random State  21\n",
      "VAlue of MSE is  1.2898130044289939e-09  at Random State  21\n",
      "VAlue of MSE is  1.2898130044289939e-09  at Random State  21\n",
      "VAlue of MSE is  1.2898130044289939e-09  at Random State  21\n",
      "VAlue of MSE is  1.2898130044289939e-09  at Random State  21\n",
      "VAlue of MSE is  1.2898130044289939e-09  at Random State  21\n",
      "VAlue of MSE is  1.2898130044289939e-09  at Random State  21\n",
      "VAlue of MSE is  1.2898130044289939e-09  at Random State  21\n",
      "VAlue of MSE is  1.2898130044289939e-09  at Random State  21\n",
      "Minimum MSE is  1.2898130044289939e-09  at Random State  21\n"
     ]
    }
   ],
   "source": [
    "minMSE = float('inf')\n",
    "\n",
    "for i in range(1,100):\n",
    "    x_train,x_test, y_train,y_test = train_test_split(x,y,test_size = 0.3,random_state =i)\n",
    "    lr  = LinearRegression()\n",
    "    lr.fit(x_train,y_train)\n",
    "    pred = lr.predict(x_test)\n",
    "    current_mse = mean_squared_error(y_test,pred)\n",
    "    \n",
    "    if current_mse <minMSE:\n",
    "        minMSE = current_mse\n",
    "        bestRandomState = i\n",
    "    print(\"VAlue of MSE is \", minMSE, \" at Random State \", bestRandomState)\n",
    "\n",
    "print(\"Minimum MSE is \", minMSE, \" at Random State \", bestRandomState)"
   ]
  },
  {
   "cell_type": "code",
   "execution_count": 192,
   "id": "f8c95ada",
   "metadata": {},
   "outputs": [],
   "source": [
    "# Linear Regression Model"
   ]
  },
  {
   "cell_type": "code",
   "execution_count": 228,
   "id": "e3f9e5d8",
   "metadata": {},
   "outputs": [
    {
     "name": "stdout",
     "output_type": "stream",
     "text": [
      "r2 score 0.5783760522187265\n",
      "r2 score on training data 0.5556389340424694\n",
      "mean absolute error  2.8256909541882526e-05\n",
      "mean square error 1.2898130044289939e-09\n",
      "root square error 3.591396670418061e-05\n"
     ]
    }
   ],
   "source": [
    "x_train,x_test, y_train,y_test = train_test_split(x,y,test_size = 0.3,random_state =21)\n",
    "lr  = LinearRegression()\n",
    "lr.fit(x_train,y_train)\n",
    "pred_lr = lr.predict(x_test)\n",
    "pred_train = lr.predict(x_train)\n",
    "print('r2 score', r2_score(y_test,pred_lr))\n",
    "print('r2 score on training data', r2_score(y_train,pred_train))\n",
    "print('mean absolute error ', mean_absolute_error(y_test,pred_lr))\n",
    "print('mean square error', mean_squared_error(y_test,pred_lr))\n",
    "print('root square error', np.sqrt(mean_squared_error(y_test,pred_lr)))"
   ]
  },
  {
   "cell_type": "code",
   "execution_count": 229,
   "id": "2a3f33a2",
   "metadata": {},
   "outputs": [],
   "source": [
    "# Random Forest Regressor"
   ]
  },
  {
   "cell_type": "code",
   "execution_count": 230,
   "id": "eb8cf6f2",
   "metadata": {},
   "outputs": [
    {
     "name": "stdout",
     "output_type": "stream",
     "text": [
      "r_2 score 0.7570376262319477\n",
      "r_2 score on Training Data 0.964656081810547\n",
      "Mean Absolute Error: 2.0135181898438457e-05\n",
      "Mean Square Error: 7.432595584811095e-10\n",
      "Root Square Error: 2.7262787063708462e-05\n"
     ]
    }
   ],
   "source": [
    "RFR=RandomForestRegressor()\n",
    "RFR.fit(x_train, y_train)\n",
    "pred_RFR=RFR.predict(x_test)\n",
    "pred_train=RFR.predict(x_train)\n",
    "\n",
    "print(\"r_2 score\", r2_score(y_test,pred_RFR ))\n",
    "print(\"r_2 score on Training Data\",r2_score(y_train,pred_train ))\n",
    "print(\"Mean Absolute Error:\", mean_absolute_error(y_test,pred_RFR ))\n",
    "print(\"Mean Square Error:\", mean_squared_error(y_test,pred_RFR))\n",
    "print(\"Root Square Error:\", np.sqrt(mean_squared_error(y_test,pred_RFR)))"
   ]
  },
  {
   "cell_type": "code",
   "execution_count": 231,
   "id": "4829cde4",
   "metadata": {},
   "outputs": [],
   "source": [
    "# KNN"
   ]
  },
  {
   "cell_type": "code",
   "execution_count": 232,
   "id": "c91fd373",
   "metadata": {},
   "outputs": [
    {
     "name": "stdout",
     "output_type": "stream",
     "text": [
      "r_2 score 0.6251752636403356\n",
      "r_2 score on Training Data 0.778641943077065\n",
      "Mean Absolute Error: 2.5496433311553784e-05\n",
      "Mean Square Error: 1.1466469632060996e-09\n",
      "Root Square Error: 3.3862175996325154e-05\n"
     ]
    }
   ],
   "source": [
    "knn=KNN()\n",
    "knn.fit(x_train,y_train)\n",
    "pred_knn=knn.predict(x_test)\n",
    "pred_train=knn.predict(x_train)\n",
    "print(\"r_2 score\", r2_score(y_test,pred_knn ))\n",
    "print(\"r_2 score on Training Data\",r2_score(y_train,pred_train ))\n",
    "print(\"Mean Absolute Error:\", mean_absolute_error(y_test,pred_knn ))\n",
    "print(\"Mean Square Error:\", mean_squared_error(y_test,pred_knn))\n",
    "print(\"Root Square Error:\", np.sqrt(mean_squared_error(y_test,pred_knn)))"
   ]
  },
  {
   "cell_type": "code",
   "execution_count": 233,
   "id": "2debde80",
   "metadata": {},
   "outputs": [],
   "source": [
    "# Gradient Boosting Regressor"
   ]
  },
  {
   "cell_type": "code",
   "execution_count": 234,
   "id": "cfff8140",
   "metadata": {},
   "outputs": [
    {
     "name": "stdout",
     "output_type": "stream",
     "text": [
      "r_2 score 0.7351806421658607\n",
      "r_2 score on Training Data 0.7923881712305682\n",
      "Mean Absolute Error: 2.2048091529177117e-05\n",
      "Mean Square Error: 8.101234603879842e-10\n",
      "Root Square Error: 2.846266783679956e-05\n"
     ]
    }
   ],
   "source": [
    "gbb=GradientBoostingRegressor()\n",
    "gbb.fit(x_train, y_train)\n",
    "pred_gbb=gbb.predict(x_test)\n",
    "pred_train=gbb.predict(x_train)\n",
    "print(\"r_2 score\", r2_score(y_test,pred_gbb ))\n",
    "print(\"r_2 score on Training Data\",r2_score(y_train,pred_train ))\n",
    "print(\"Mean Absolute Error:\", mean_absolute_error(y_test,pred_gbb ))\n",
    "print(\"Mean Square Error:\", mean_squared_error(y_test,pred_gbb))\n",
    "print(\"Root Square Error:\", np.sqrt(mean_squared_error(y_test,pred_gbb)))"
   ]
  },
  {
   "cell_type": "code",
   "execution_count": 235,
   "id": "a7f57eb8",
   "metadata": {},
   "outputs": [],
   "source": [
    "#Lasso Regression Model"
   ]
  },
  {
   "cell_type": "code",
   "execution_count": 236,
   "id": "ba4bc770",
   "metadata": {},
   "outputs": [
    {
     "name": "stdout",
     "output_type": "stream",
     "text": [
      "r_2 score -0.0011025019173023232\n",
      "r_2 score on Training Data 0.0\n",
      "Mean Absolute Error: 4.3823090165661365e-05\n",
      "Mean Square Error: 3.062527715833623e-09\n",
      "Root Square Error: 5.534010946712721e-05\n"
     ]
    }
   ],
   "source": [
    "lasso=Lasso()\n",
    "lasso.fit(x_train, y_train)\n",
    "lasso.fit(x_train,y_train)\n",
    "pred_lasso=lasso.predict(x_test)\n",
    "pred_train=lasso.predict(x_train)\n",
    "print(\"r_2 score\", r2_score(y_test,pred_lasso ))\n",
    "print(\"r_2 score on Training Data\",r2_score(y_train,pred_train ))\n",
    "print(\"Mean Absolute Error:\", mean_absolute_error(y_test,pred_lasso ))\n",
    "print(\"Mean Square Error:\", mean_squared_error(y_test,pred_lasso))\n",
    "print(\"Root Square Error:\", np.sqrt(mean_squared_error(y_test,pred_lasso)))"
   ]
  },
  {
   "cell_type": "code",
   "execution_count": 237,
   "id": "ecee2578",
   "metadata": {},
   "outputs": [],
   "source": [
    "#Ridge Model"
   ]
  },
  {
   "cell_type": "code",
   "execution_count": 238,
   "id": "26768ca2",
   "metadata": {},
   "outputs": [
    {
     "name": "stdout",
     "output_type": "stream",
     "text": [
      "r_2 score 0.5783903614892907\n",
      "r_2 score on Training Data 0.5556388683985116\n",
      "Mean Absolute Error: 2.8256581554320744e-05\n",
      "Mean Square Error: 1.2897692301525216e-09\n",
      "Root Square Error: 3.591335726651745e-05\n"
     ]
    }
   ],
   "source": [
    "rd=Ridge()\n",
    "rd.fit(x_train, y_train)\n",
    "pred_rd=rd.predict(x_test)\n",
    "pred_train=rd.predict(x_train)\n",
    "print(\"r_2 score\", r2_score(y_test,pred_rd ))\n",
    "print(\"r_2 score on Training Data\",r2_score(y_train,pred_train ))\n",
    "print(\"Mean Absolute Error:\", mean_absolute_error(y_test,pred_rd ))\n",
    "print(\"Mean Square Error:\", mean_squared_error(y_test,pred_rd))\n",
    "print(\"Root Square Error:\", np.sqrt(mean_squared_error(y_test,pred_rd)))"
   ]
  },
  {
   "cell_type": "code",
   "execution_count": 239,
   "id": "8403ee14",
   "metadata": {},
   "outputs": [],
   "source": [
    "#Decision Tree Regressor"
   ]
  },
  {
   "cell_type": "code",
   "execution_count": 240,
   "id": "7167afa6",
   "metadata": {},
   "outputs": [
    {
     "name": "stdout",
     "output_type": "stream",
     "text": [
      "r_2 score 0.5921918055802455\n",
      "r_2 score on Training Data 0.9997791241359201\n",
      "Mean Absolute Error: 2.4879369934415607e-05\n",
      "Mean Square Error: 1.2475484735705256e-09\n",
      "Root Square Error: 3.532065222459129e-05\n"
     ]
    }
   ],
   "source": [
    "dtr= DecisionTreeRegressor()\n",
    "dtr.fit(x_train, y_train)\n",
    "dtr.fit(x_train,y_train)\n",
    "pred_dtr=dtr.predict(x_test)\n",
    "pred_train=dtr.predict(x_train)\n",
    "print(\"r_2 score\", r2_score(y_test,pred_dtr ))\n",
    "print(\"r_2 score on Training Data\",r2_score(y_train,pred_train ))\n",
    "print(\"Mean Absolute Error:\", mean_absolute_error(y_test,pred_dtr ))\n",
    "print(\"Mean Square Error:\", mean_squared_error(y_test,pred_dtr))\n",
    "print(\"Root Square Error:\", np.sqrt(mean_squared_error(y_test,pred_dtr)))"
   ]
  },
  {
   "cell_type": "code",
   "execution_count": 241,
   "id": "df22e53c",
   "metadata": {},
   "outputs": [],
   "source": [
    "# Difference Between R2 score of Linear Regression and CVS"
   ]
  },
  {
   "cell_type": "code",
   "execution_count": 242,
   "id": "89140367",
   "metadata": {},
   "outputs": [
    {
     "name": "stdout",
     "output_type": "stream",
     "text": [
      "[-9.51372756 -1.29184529  0.45113496 -0.41673974 -0.80520228]\n",
      "-2.3152759827428424\n",
      "Difference between r_2 score and Cross Validation score is 2.893652034961569\n"
     ]
    }
   ],
   "source": [
    "from sklearn.model_selection import cross_val_score\n",
    "\n",
    "score=cross_val_score(lr, x, y, cv=5, scoring='r2')\n",
    "print(score)\n",
    "print(score.mean())\n",
    "print(\"Difference between r_2 score and Cross Validation score is\", r2_score(y_test,pred_lr )- score.mean())"
   ]
  },
  {
   "cell_type": "code",
   "execution_count": 243,
   "id": "b5e92a76",
   "metadata": {},
   "outputs": [],
   "source": [
    "# Difference between R2 score of Random Forest Regression and CVS"
   ]
  },
  {
   "cell_type": "code",
   "execution_count": 244,
   "id": "4742555b",
   "metadata": {},
   "outputs": [
    {
     "name": "stdout",
     "output_type": "stream",
     "text": [
      "[-6.60581789 -0.97390809  0.36537328  0.10820342 -0.55261044]\n",
      "-1.531751942258076\n",
      "Difference between r_2 score and Cross Validation score is 2.288789568490024\n"
     ]
    }
   ],
   "source": [
    "score1=cross_val_score(RFR, x, y, cv=5, scoring='r2')\n",
    "print(score1)\n",
    "print(score1.mean())\n",
    "print(\"Difference between r_2 score and Cross Validation score is\", r2_score(y_test,pred_RFR )- score1.mean())"
   ]
  },
  {
   "cell_type": "code",
   "execution_count": 245,
   "id": "77fe7e48",
   "metadata": {},
   "outputs": [],
   "source": [
    "# Difference between R2 score of KNN and CVS"
   ]
  },
  {
   "cell_type": "code",
   "execution_count": 246,
   "id": "f9afd4ed",
   "metadata": {},
   "outputs": [
    {
     "name": "stdout",
     "output_type": "stream",
     "text": [
      "[-10.49023575  -1.72876136   0.33751125  -0.38817092  -0.76460996]\n",
      "-2.6068533483576357\n",
      "Difference between r_2 score and Cross Validation score is 3.232028611997971\n"
     ]
    }
   ],
   "source": [
    "score2=cross_val_score(knn, x, y, cv=5, scoring='r2')\n",
    "print(score2)\n",
    "print(score2.mean())\n",
    "print(\"Difference between r_2 score and Cross Validation score is\", r2_score(y_test,pred_knn )- score2.mean())"
   ]
  },
  {
   "cell_type": "code",
   "execution_count": 247,
   "id": "948ce169",
   "metadata": {},
   "outputs": [],
   "source": [
    "#Difference between R2 score of Gradient Boost and CVS"
   ]
  },
  {
   "cell_type": "code",
   "execution_count": 248,
   "id": "b6d99993",
   "metadata": {},
   "outputs": [
    {
     "name": "stdout",
     "output_type": "stream",
     "text": [
      "[-7.48687064 -0.58064226  0.3976034   0.32564861 -0.39354844]\n",
      "-1.5475618659129913\n",
      "Difference between r_2 score and Cross Validation score is 2.2827425080788517\n"
     ]
    }
   ],
   "source": [
    "score3=cross_val_score(gbb, x, y, cv=5, scoring='r2')\n",
    "print(score3)\n",
    "print(score3.mean())\n",
    "print(\"Difference between r_2 score and Cross Validation score is\", r2_score(y_test,pred_gbb )- score3.mean())"
   ]
  },
  {
   "cell_type": "code",
   "execution_count": 249,
   "id": "71a7d31c",
   "metadata": {},
   "outputs": [],
   "source": [
    "# Difference between R2 of Lasso and CVS"
   ]
  },
  {
   "cell_type": "code",
   "execution_count": 250,
   "id": "30683629",
   "metadata": {},
   "outputs": [
    {
     "name": "stdout",
     "output_type": "stream",
     "text": [
      "[-1.74810567e+01 -1.72765170e+00 -8.01379488e-01 -7.13509833e-01\n",
      " -4.81207140e-03]\n",
      "-4.145681956323504\n",
      "Difference between r_2 score and Cross Validation score is 4.144579454406202\n"
     ]
    }
   ],
   "source": [
    "score4=cross_val_score(lasso, x, y, cv=5, scoring='r2')\n",
    "print(score4)\n",
    "print(score4.mean())\n",
    "print(\"Difference between r_2 score and Cross Validation score is\", r2_score(y_test,pred_lasso )- score4.mean())"
   ]
  },
  {
   "cell_type": "code",
   "execution_count": 251,
   "id": "2c2db93d",
   "metadata": {},
   "outputs": [],
   "source": [
    "# Difference of R2 score of Ridge model and CVS"
   ]
  },
  {
   "cell_type": "code",
   "execution_count": 252,
   "id": "e040fd43",
   "metadata": {},
   "outputs": [
    {
     "name": "stdout",
     "output_type": "stream",
     "text": [
      "[-9.51606273 -1.29105384  0.45103965 -0.41653721 -0.8043965 ]\n",
      "-2.315402124054258\n",
      "Difference between r_2 score and Cross Validation score is 2.314299622136956\n"
     ]
    }
   ],
   "source": [
    "score5=cross_val_score(rd, x, y, cv=5, scoring='r2')\n",
    "print(score5)\n",
    "print(score5.mean())\n",
    "print(\"Difference between r_2 score and Cross Validation score is\", r2_score(y_test,pred_lasso )- score5.mean())"
   ]
  },
  {
   "cell_type": "code",
   "execution_count": 253,
   "id": "96032643",
   "metadata": {},
   "outputs": [],
   "source": [
    "# Difference of R2 score of Decession Tree Regressor and CVS"
   ]
  },
  {
   "cell_type": "code",
   "execution_count": 254,
   "id": "f0ee56ca",
   "metadata": {},
   "outputs": [
    {
     "name": "stdout",
     "output_type": "stream",
     "text": [
      "[-6.65466149 -2.56054856  0.09772962 -0.29921052 -1.40402951]\n",
      "-2.1641440920144865\n",
      "Difference between r_2 score and Cross Validation score is 2.756335897594732\n"
     ]
    }
   ],
   "source": [
    "score6=cross_val_score(dtr, x, y, cv=5, scoring='r2')\n",
    "print(score6)\n",
    "print(score6.mean())\n",
    "print(\"Difference between r_2 score and Cross Validation score is\", r2_score(y_test,pred_dtr )- score6.mean())"
   ]
  },
  {
   "cell_type": "code",
   "execution_count": 255,
   "id": "a002d2f3",
   "metadata": {},
   "outputs": [],
   "source": [
    "# So from above results we can see that Ridge Regression has difference of 2.31, which is very low in compare with \n",
    "# all other model so we will go with Ridge model"
   ]
  },
  {
   "cell_type": "code",
   "execution_count": 256,
   "id": "49c23fa2",
   "metadata": {},
   "outputs": [],
   "source": [
    "#Grid Search CV "
   ]
  },
  {
   "cell_type": "code",
   "execution_count": 257,
   "id": "c0bd7875",
   "metadata": {},
   "outputs": [],
   "source": [
    "from sklearn.linear_model import Ridge\n",
    "from sklearn.model_selection import GridSearchCV, train_test_split\n",
    "from sklearn.metrics import make_scorer, r2_score"
   ]
  },
  {
   "cell_type": "code",
   "execution_count": 258,
   "id": "46f9e501",
   "metadata": {},
   "outputs": [
    {
     "name": "stdout",
     "output_type": "stream",
     "text": [
      "Best alpha: 10.0\n",
      "R-squared score on test set: 0.5323525874411544\n"
     ]
    }
   ],
   "source": [
    "x_train, x_test, y_train, y_test = train_test_split(x, y, test_size=0.3, random_state=3)\n",
    "rd = Ridge()\n",
    "param_grid = {'alpha': [0.1, 1.0, 10.0, 100.0]}\n",
    "grid_search = GridSearchCV(rd, param_grid, scoring=make_scorer(r2_score), cv=5)\n",
    "grid_search.fit(x_train, y_train)\n",
    "best_alpha = grid_search.best_params_['alpha']\n",
    "best_ridge_model = Ridge(alpha=best_alpha)\n",
    "best_ridge_model.fit(x_train, y_train)\n",
    "pred_ridge = best_ridge_model.predict(x_test)\n",
    "print(\"Best alpha:\", best_alpha) # Evaluation of the model\n",
    "print(\"R-squared score on test set:\", r2_score(y_test, pred_ridge))"
   ]
  },
  {
   "cell_type": "code",
   "execution_count": 259,
   "id": "cbd9c4dc",
   "metadata": {},
   "outputs": [
    {
     "name": "stdout",
     "output_type": "stream",
     "text": [
      "r_2 score 0.5323525874411544\n",
      "Mean Absolute Error: 3.187542146190419e-05\n",
      "Mean Square Error: 1.5716754526054594e-09\n",
      "Root Square Error: 3.964436217932456e-05\n"
     ]
    }
   ],
   "source": [
    "rd=Ridge(alpha=best_alpha)\n",
    "final_model=rd.fit(x_train,y_train)\n",
    "pred_finally=final_model.predict(x_test)\n",
    "print(\"r_2 score\", r2_score(y_test,pred_finally ))\n",
    "print(\"Mean Absolute Error:\", mean_absolute_error(y_test,pred_finally ))\n",
    "print(\"Mean Square Error:\", mean_squared_error(y_test,pred_finally))\n",
    "print(\"Root Square Error:\", np.sqrt(mean_squared_error(y_test,pred_finally)))"
   ]
  },
  {
   "cell_type": "code",
   "execution_count": null,
   "id": "d45d9ea8",
   "metadata": {},
   "outputs": [],
   "source": []
  },
  {
   "cell_type": "code",
   "execution_count": null,
   "id": "bc749d6d",
   "metadata": {},
   "outputs": [],
   "source": []
  },
  {
   "cell_type": "code",
   "execution_count": 260,
   "id": "279d4a48",
   "metadata": {},
   "outputs": [],
   "source": [
    "# Saving model"
   ]
  },
  {
   "cell_type": "code",
   "execution_count": 261,
   "id": "74dd67da",
   "metadata": {},
   "outputs": [
    {
     "data": {
      "text/plain": [
       "['House_Price.pkl']"
      ]
     },
     "execution_count": 261,
     "metadata": {},
     "output_type": "execute_result"
    }
   ],
   "source": [
    "import joblib\n",
    "joblib.dump(final_model,'House_Price.pkl')"
   ]
  },
  {
   "cell_type": "code",
   "execution_count": 262,
   "id": "04807818",
   "metadata": {},
   "outputs": [
    {
     "data": {
      "text/html": [
       "<div>\n",
       "<style scoped>\n",
       "    .dataframe tbody tr th:only-of-type {\n",
       "        vertical-align: middle;\n",
       "    }\n",
       "\n",
       "    .dataframe tbody tr th {\n",
       "        vertical-align: top;\n",
       "    }\n",
       "\n",
       "    .dataframe thead th {\n",
       "        text-align: right;\n",
       "    }\n",
       "</style>\n",
       "<table border=\"1\" class=\"dataframe\">\n",
       "  <thead>\n",
       "    <tr style=\"text-align: right;\">\n",
       "      <th></th>\n",
       "      <th>Predicted_Values</th>\n",
       "      <th>Actual_Values</th>\n",
       "    </tr>\n",
       "  </thead>\n",
       "  <tbody>\n",
       "    <tr>\n",
       "      <th>0</th>\n",
       "      <td>1.912802</td>\n",
       "      <td>1.912848</td>\n",
       "    </tr>\n",
       "    <tr>\n",
       "      <th>1</th>\n",
       "      <td>1.912754</td>\n",
       "      <td>1.912736</td>\n",
       "    </tr>\n",
       "    <tr>\n",
       "      <th>2</th>\n",
       "      <td>1.912703</td>\n",
       "      <td>1.912748</td>\n",
       "    </tr>\n",
       "    <tr>\n",
       "      <th>3</th>\n",
       "      <td>1.912819</td>\n",
       "      <td>1.912855</td>\n",
       "    </tr>\n",
       "    <tr>\n",
       "      <th>4</th>\n",
       "      <td>1.912739</td>\n",
       "      <td>1.912751</td>\n",
       "    </tr>\n",
       "  </tbody>\n",
       "</table>\n",
       "</div>"
      ],
      "text/plain": [
       "   Predicted_Values  Actual_Values\n",
       "0          1.912802       1.912848\n",
       "1          1.912754       1.912736\n",
       "2          1.912703       1.912748\n",
       "3          1.912819       1.912855\n",
       "4          1.912739       1.912751"
      ]
     },
     "execution_count": 262,
     "metadata": {},
     "output_type": "execute_result"
    }
   ],
   "source": [
    "prediction = final_model.predict(x_test)\n",
    "Actual = np.array(y_test)\n",
    "df_Pred = pd.DataFrame()\n",
    "df_Pred[\"Predicted_Values\"] = prediction\n",
    "df_Pred[\"Actual_Values\"] = Actual\n",
    "df_Pred.head()"
   ]
  },
  {
   "cell_type": "code",
   "execution_count": 263,
   "id": "8aa3dcbf",
   "metadata": {},
   "outputs": [],
   "source": [
    "df4= df1.copy()"
   ]
  },
  {
   "cell_type": "code",
   "execution_count": 279,
   "id": "89c9b6a2",
   "metadata": {},
   "outputs": [
    {
     "data": {
      "text/html": [
       "<div>\n",
       "<style scoped>\n",
       "    .dataframe tbody tr th:only-of-type {\n",
       "        vertical-align: middle;\n",
       "    }\n",
       "\n",
       "    .dataframe tbody tr th {\n",
       "        vertical-align: top;\n",
       "    }\n",
       "\n",
       "    .dataframe thead th {\n",
       "        text-align: right;\n",
       "    }\n",
       "</style>\n",
       "<table border=\"1\" class=\"dataframe\">\n",
       "  <thead>\n",
       "    <tr style=\"text-align: right;\">\n",
       "      <th></th>\n",
       "      <th>Property_Name</th>\n",
       "      <th>Price_in_INR</th>\n",
       "      <th>No_of_Bedroom</th>\n",
       "      <th>No_of_Bathroom</th>\n",
       "      <th>Carpet_Area(Sq Ft)</th>\n",
       "      <th>Garden</th>\n",
       "      <th>Property_Status</th>\n",
       "      <th>Parking</th>\n",
       "    </tr>\n",
       "  </thead>\n",
       "  <tbody>\n",
       "    <tr>\n",
       "      <th>0</th>\n",
       "      <td>238</td>\n",
       "      <td>1.912753</td>\n",
       "      <td>1.146324</td>\n",
       "      <td>0.584010</td>\n",
       "      <td>0.000000</td>\n",
       "      <td>1</td>\n",
       "      <td>0</td>\n",
       "      <td>0</td>\n",
       "    </tr>\n",
       "    <tr>\n",
       "      <th>1</th>\n",
       "      <td>1672</td>\n",
       "      <td>1.912855</td>\n",
       "      <td>1.713206</td>\n",
       "      <td>1.098427</td>\n",
       "      <td>0.000000</td>\n",
       "      <td>1</td>\n",
       "      <td>1</td>\n",
       "      <td>1</td>\n",
       "    </tr>\n",
       "    <tr>\n",
       "      <th>2</th>\n",
       "      <td>403</td>\n",
       "      <td>1.912855</td>\n",
       "      <td>2.254814</td>\n",
       "      <td>1.322220</td>\n",
       "      <td>0.000000</td>\n",
       "      <td>1</td>\n",
       "      <td>0</td>\n",
       "      <td>1</td>\n",
       "    </tr>\n",
       "    <tr>\n",
       "      <th>3</th>\n",
       "      <td>398</td>\n",
       "      <td>1.912855</td>\n",
       "      <td>2.393635</td>\n",
       "      <td>1.322220</td>\n",
       "      <td>5.953506</td>\n",
       "      <td>1</td>\n",
       "      <td>0</td>\n",
       "      <td>1</td>\n",
       "    </tr>\n",
       "    <tr>\n",
       "      <th>4</th>\n",
       "      <td>2533</td>\n",
       "      <td>1.912855</td>\n",
       "      <td>2.254814</td>\n",
       "      <td>1.282577</td>\n",
       "      <td>5.769648</td>\n",
       "      <td>1</td>\n",
       "      <td>0</td>\n",
       "      <td>1</td>\n",
       "    </tr>\n",
       "    <tr>\n",
       "      <th>...</th>\n",
       "      <td>...</td>\n",
       "      <td>...</td>\n",
       "      <td>...</td>\n",
       "      <td>...</td>\n",
       "      <td>...</td>\n",
       "      <td>...</td>\n",
       "      <td>...</td>\n",
       "      <td>...</td>\n",
       "    </tr>\n",
       "    <tr>\n",
       "      <th>3068</th>\n",
       "      <td>2154</td>\n",
       "      <td>1.912727</td>\n",
       "      <td>1.146324</td>\n",
       "      <td>0.841386</td>\n",
       "      <td>4.850737</td>\n",
       "      <td>1</td>\n",
       "      <td>1</td>\n",
       "      <td>1</td>\n",
       "    </tr>\n",
       "    <tr>\n",
       "      <th>3069</th>\n",
       "      <td>1588</td>\n",
       "      <td>1.912727</td>\n",
       "      <td>1.146324</td>\n",
       "      <td>0.584010</td>\n",
       "      <td>4.850737</td>\n",
       "      <td>1</td>\n",
       "      <td>0</td>\n",
       "      <td>0</td>\n",
       "    </tr>\n",
       "    <tr>\n",
       "      <th>3070</th>\n",
       "      <td>28</td>\n",
       "      <td>1.912727</td>\n",
       "      <td>1.462836</td>\n",
       "      <td>0.584010</td>\n",
       "      <td>5.164749</td>\n",
       "      <td>1</td>\n",
       "      <td>0</td>\n",
       "      <td>1</td>\n",
       "    </tr>\n",
       "    <tr>\n",
       "      <th>3071</th>\n",
       "      <td>1029</td>\n",
       "      <td>1.912727</td>\n",
       "      <td>1.146324</td>\n",
       "      <td>0.584010</td>\n",
       "      <td>0.000000</td>\n",
       "      <td>1</td>\n",
       "      <td>0</td>\n",
       "      <td>1</td>\n",
       "    </tr>\n",
       "    <tr>\n",
       "      <th>3072</th>\n",
       "      <td>456</td>\n",
       "      <td>1.912727</td>\n",
       "      <td>0.711941</td>\n",
       "      <td>0.584010</td>\n",
       "      <td>0.000000</td>\n",
       "      <td>1</td>\n",
       "      <td>0</td>\n",
       "      <td>1</td>\n",
       "    </tr>\n",
       "  </tbody>\n",
       "</table>\n",
       "<p>2960 rows × 8 columns</p>\n",
       "</div>"
      ],
      "text/plain": [
       "      Property_Name  Price_in_INR  No_of_Bedroom  No_of_Bathroom  \\\n",
       "0               238      1.912753       1.146324        0.584010   \n",
       "1              1672      1.912855       1.713206        1.098427   \n",
       "2               403      1.912855       2.254814        1.322220   \n",
       "3               398      1.912855       2.393635        1.322220   \n",
       "4              2533      1.912855       2.254814        1.282577   \n",
       "...             ...           ...            ...             ...   \n",
       "3068           2154      1.912727       1.146324        0.841386   \n",
       "3069           1588      1.912727       1.146324        0.584010   \n",
       "3070             28      1.912727       1.462836        0.584010   \n",
       "3071           1029      1.912727       1.146324        0.584010   \n",
       "3072            456      1.912727       0.711941        0.584010   \n",
       "\n",
       "      Carpet_Area(Sq Ft)  Garden  Property_Status  Parking  \n",
       "0               0.000000       1                0        0  \n",
       "1               0.000000       1                1        1  \n",
       "2               0.000000       1                0        1  \n",
       "3               5.953506       1                0        1  \n",
       "4               5.769648       1                0        1  \n",
       "...                  ...     ...              ...      ...  \n",
       "3068            4.850737       1                1        1  \n",
       "3069            4.850737       1                0        0  \n",
       "3070            5.164749       1                0        1  \n",
       "3071            0.000000       1                0        1  \n",
       "3072            0.000000       1                0        1  \n",
       "\n",
       "[2960 rows x 8 columns]"
      ]
     },
     "execution_count": 279,
     "metadata": {},
     "output_type": "execute_result"
    }
   ],
   "source": [
    "X= df1.drop('Property_type', axis =1)\n",
    "Y= df1['Property_type']\n",
    "X"
   ]
  },
  {
   "cell_type": "code",
   "execution_count": 280,
   "id": "aa1b8f29",
   "metadata": {},
   "outputs": [
    {
     "data": {
      "text/plain": [
       "0       16\n",
       "1        1\n",
       "2       32\n",
       "3       32\n",
       "4       32\n",
       "        ..\n",
       "3068     1\n",
       "3069    32\n",
       "3070    19\n",
       "3071    30\n",
       "3072    27\n",
       "Name: Property_type, Length: 2960, dtype: int32"
      ]
     },
     "execution_count": 280,
     "metadata": {},
     "output_type": "execute_result"
    }
   ],
   "source": [
    "Y"
   ]
  },
  {
   "cell_type": "code",
   "execution_count": 281,
   "id": "24bccf8a",
   "metadata": {},
   "outputs": [],
   "source": [
    "#scaling of data - MINMAX SCALER"
   ]
  },
  {
   "cell_type": "code",
   "execution_count": 282,
   "id": "f56871c1",
   "metadata": {},
   "outputs": [],
   "source": [
    "from sklearn.preprocessing import StandardScaler"
   ]
  },
  {
   "cell_type": "code",
   "execution_count": 283,
   "id": "203738f4",
   "metadata": {},
   "outputs": [
    {
     "data": {
      "text/plain": [
       "array([[-1.42760187,  0.02450224, -0.67872099, ...,  0.        ,\n",
       "        -0.47398172, -1.91348303],\n",
       "       [ 0.484467  ,  1.81202095,  0.72608843, ...,  0.        ,\n",
       "         2.10978602,  0.52260719],\n",
       "       [-1.20759395,  1.81202095,  2.06826569, ...,  0.        ,\n",
       "        -0.47398172,  0.52260719],\n",
       "       ...,\n",
       "       [-1.70761196, -0.42761631,  0.10563757, ...,  0.        ,\n",
       "        -0.47398172,  0.52260719],\n",
       "       [-0.37289722, -0.42761631, -0.67872099, ...,  0.        ,\n",
       "        -0.47398172,  0.52260719],\n",
       "       [-1.13692474, -0.42761631, -1.75517808, ...,  0.        ,\n",
       "        -0.47398172,  0.52260719]])"
      ]
     },
     "execution_count": 283,
     "metadata": {},
     "output_type": "execute_result"
    }
   ],
   "source": [
    "scaler = StandardScaler()\n",
    "X= scaler.fit_transform(X)\n",
    "X"
   ]
  },
  {
   "cell_type": "code",
   "execution_count": 284,
   "id": "136cab15",
   "metadata": {},
   "outputs": [],
   "source": [
    "X_train,X_test,Y_train,Y_test = train_test_split(X,Y,test_size = 0.3)"
   ]
  },
  {
   "cell_type": "code",
   "execution_count": 285,
   "id": "ca639956",
   "metadata": {},
   "outputs": [
    {
     "data": {
      "text/plain": [
       "(2072, 8)"
      ]
     },
     "execution_count": 285,
     "metadata": {},
     "output_type": "execute_result"
    }
   ],
   "source": [
    "X_train.shape"
   ]
  },
  {
   "cell_type": "code",
   "execution_count": 286,
   "id": "34cd32bb",
   "metadata": {},
   "outputs": [
    {
     "data": {
      "text/plain": [
       "(888, 8)"
      ]
     },
     "execution_count": 286,
     "metadata": {},
     "output_type": "execute_result"
    }
   ],
   "source": [
    "X_test.shape"
   ]
  },
  {
   "cell_type": "code",
   "execution_count": 287,
   "id": "12fcf3c3",
   "metadata": {},
   "outputs": [
    {
     "data": {
      "text/plain": [
       "(2072,)"
      ]
     },
     "execution_count": 287,
     "metadata": {},
     "output_type": "execute_result"
    }
   ],
   "source": [
    "Y_train.shape"
   ]
  },
  {
   "cell_type": "code",
   "execution_count": 288,
   "id": "78330bdb",
   "metadata": {},
   "outputs": [
    {
     "data": {
      "text/plain": [
       "(888,)"
      ]
     },
     "execution_count": 288,
     "metadata": {},
     "output_type": "execute_result"
    }
   ],
   "source": [
    "Y_test.shape"
   ]
  },
  {
   "cell_type": "code",
   "execution_count": 289,
   "id": "84352324",
   "metadata": {},
   "outputs": [],
   "source": [
    "# performing ML model "
   ]
  },
  {
   "cell_type": "code",
   "execution_count": 290,
   "id": "ab490d3c",
   "metadata": {},
   "outputs": [],
   "source": [
    "from sklearn.linear_model import LinearRegression\n",
    "from sklearn.ensemble import RandomForestRegressor\n",
    "from sklearn.tree import DecisionTreeRegressor \n",
    "from sklearn.neighbors import KNeighborsRegressor as KNN\n",
    "from sklearn.linear_model import Lasso,Ridge\n",
    "from sklearn.svm import SVR\n",
    "from sklearn.ensemble import ExtraTreesRegressor\n",
    "from sklearn.metrics import mean_squared_error, mean_absolute_error\n",
    "from sklearn.metrics import r2_score\n",
    "from sklearn.ensemble import GradientBoostingRegressor\n",
    "from sklearn.model_selection import cross_val_score\n",
    "import warnings\n",
    "warnings.filterwarnings('ignore')"
   ]
  },
  {
   "cell_type": "code",
   "execution_count": 291,
   "id": "019572a6",
   "metadata": {},
   "outputs": [
    {
     "name": "stdout",
     "output_type": "stream",
     "text": [
      "Value of MSE is  105.75441928394338  at Random State  1\n",
      "Value of MSE is  105.20243982287755  at Random State  2\n",
      "Value of MSE is  105.20243982287755  at Random State  2\n",
      "Value of MSE is  104.0050938880303  at Random State  4\n",
      "Value of MSE is  104.0050938880303  at Random State  4\n",
      "Value of MSE is  104.0050938880303  at Random State  4\n",
      "Value of MSE is  102.49739101038956  at Random State  7\n",
      "Value of MSE is  102.49739101038956  at Random State  7\n",
      "Value of MSE is  102.49739101038956  at Random State  7\n",
      "Value of MSE is  102.49739101038956  at Random State  7\n",
      "Value of MSE is  102.49739101038956  at Random State  7\n",
      "Value of MSE is  101.96768464424207  at Random State  12\n",
      "Value of MSE is  101.96768464424207  at Random State  12\n",
      "Value of MSE is  101.96768464424207  at Random State  12\n",
      "Value of MSE is  101.96768464424207  at Random State  12\n",
      "Value of MSE is  101.96768464424207  at Random State  12\n",
      "Value of MSE is  101.96768464424207  at Random State  12\n",
      "Value of MSE is  101.96768464424207  at Random State  12\n",
      "Value of MSE is  101.96768464424207  at Random State  12\n",
      "Value of MSE is  101.96768464424207  at Random State  12\n",
      "Value of MSE is  101.96768464424207  at Random State  12\n",
      "Value of MSE is  101.96768464424207  at Random State  12\n",
      "Value of MSE is  101.96768464424207  at Random State  12\n",
      "Value of MSE is  101.60626571342515  at Random State  24\n",
      "Value of MSE is  101.60626571342515  at Random State  24\n",
      "Value of MSE is  101.60626571342515  at Random State  24\n",
      "Value of MSE is  101.60626571342515  at Random State  24\n",
      "Value of MSE is  101.60626571342515  at Random State  24\n",
      "Value of MSE is  101.60626571342515  at Random State  24\n",
      "Value of MSE is  101.60626571342515  at Random State  24\n",
      "Value of MSE is  101.60626571342515  at Random State  24\n",
      "Value of MSE is  101.60626571342515  at Random State  24\n",
      "Value of MSE is  101.60626571342515  at Random State  24\n",
      "Value of MSE is  101.60626571342515  at Random State  24\n",
      "Value of MSE is  101.60626571342515  at Random State  24\n",
      "Value of MSE is  101.60626571342515  at Random State  24\n",
      "Value of MSE is  101.60626571342515  at Random State  24\n",
      "Value of MSE is  101.60626571342515  at Random State  24\n",
      "Value of MSE is  101.60626571342515  at Random State  24\n",
      "Value of MSE is  101.60626571342515  at Random State  24\n",
      "Value of MSE is  101.60626571342515  at Random State  24\n",
      "Value of MSE is  101.60626571342515  at Random State  24\n",
      "Value of MSE is  101.60626571342515  at Random State  24\n",
      "Value of MSE is  101.60626571342515  at Random State  24\n",
      "Value of MSE is  101.60626571342515  at Random State  24\n",
      "Value of MSE is  101.60626571342515  at Random State  24\n",
      "Value of MSE is  101.60626571342515  at Random State  24\n",
      "Value of MSE is  101.60626571342515  at Random State  24\n",
      "Value of MSE is  101.60626571342515  at Random State  24\n",
      "Value of MSE is  101.60626571342515  at Random State  24\n",
      "Value of MSE is  101.60626571342515  at Random State  24\n",
      "Value of MSE is  101.60626571342515  at Random State  24\n",
      "Value of MSE is  101.60626571342515  at Random State  24\n",
      "Value of MSE is  101.60626571342515  at Random State  24\n",
      "Value of MSE is  101.60626571342515  at Random State  24\n",
      "Value of MSE is  101.60626571342515  at Random State  24\n",
      "Value of MSE is  101.60626571342515  at Random State  24\n",
      "Value of MSE is  100.76181402850642  at Random State  58\n",
      "Value of MSE is  100.76181402850642  at Random State  58\n",
      "Value of MSE is  100.76181402850642  at Random State  58\n",
      "Value of MSE is  100.76181402850642  at Random State  58\n",
      "Value of MSE is  100.76181402850642  at Random State  58\n",
      "Value of MSE is  100.76181402850642  at Random State  58\n",
      "Value of MSE is  100.76181402850642  at Random State  58\n",
      "Value of MSE is  99.68123551319815  at Random State  65\n",
      "Value of MSE is  99.68123551319815  at Random State  65\n",
      "Value of MSE is  99.68123551319815  at Random State  65\n",
      "Value of MSE is  99.68123551319815  at Random State  65\n",
      "Value of MSE is  99.68123551319815  at Random State  65\n",
      "Value of MSE is  99.68123551319815  at Random State  65\n",
      "Value of MSE is  99.68123551319815  at Random State  65\n",
      "Value of MSE is  99.68123551319815  at Random State  65\n",
      "Value of MSE is  99.68123551319815  at Random State  65\n",
      "Value of MSE is  99.68123551319815  at Random State  65\n",
      "Minimum MSE is  99.68123551319815  at Random State  65\n"
     ]
    }
   ],
   "source": [
    "minMSE = float('inf') # this will initializes a variable named minMSE and sets its value to +ve(float('inf'))\n",
    "bestRandomState = 0\n",
    "\n",
    "for i in range(1, 75):\n",
    "    X_train, X_test, Y_train, Y_test = train_test_split(X, Y, test_size=0.30, random_state=i)\n",
    "    lr = LinearRegression()\n",
    "    lr.fit(X_train, Y_train)\n",
    "    pred = lr.predict(X_test)\n",
    "    current_mse = mean_squared_error(Y_test, pred)\n",
    "    \n",
    "    if current_mse < minMSE:\n",
    "        minMSE = current_mse\n",
    "        bestRandomState = i\n",
    "\n",
    "    print(\"Value of MSE is \", minMSE, \" at Random State \", bestRandomState)\n",
    "\n",
    "print(\"Minimum MSE is \", minMSE, \" at Random State \", bestRandomState)"
   ]
  },
  {
   "cell_type": "code",
   "execution_count": 292,
   "id": "3a8a2361",
   "metadata": {},
   "outputs": [],
   "source": [
    "#\n",
    "# Minimum MSE is  99.68123551319815  at Random State  65\n",
    "#"
   ]
  },
  {
   "cell_type": "code",
   "execution_count": 293,
   "id": "13b5b56c",
   "metadata": {},
   "outputs": [],
   "source": [
    "# Linear Regression Model"
   ]
  },
  {
   "cell_type": "code",
   "execution_count": 294,
   "id": "f25244db",
   "metadata": {},
   "outputs": [
    {
     "name": "stdout",
     "output_type": "stream",
     "text": [
      "r_2 score 0.11314091718157948\n",
      "r_2 score on Training Data 0.12775391852123152\n",
      "Mean Absolute Error: 9.578223165374688\n",
      "Mean Square Error: 108.84984186968369\n",
      "Root Square Error: 10.43311276032631\n"
     ]
    }
   ],
   "source": [
    "X_train, X_test, Y_train, Y_test = train_test_split(X, Y, test_size=0.30, random_state=33)\n",
    "Lr=LinearRegression()\n",
    "Lr.fit(X_train,Y_train)\n",
    "pred_Lr=Lr.predict(X_test)\n",
    "pred_train=Lr.predict(X_train)\n",
    "\n",
    "print(\"r_2 score\", r2_score(Y_test,pred_Lr ))\n",
    "print(\"r_2 score on Training Data\",r2_score(Y_train,pred_train ))\n",
    "print(\"Mean Absolute Error:\", mean_absolute_error(Y_test,pred_Lr ))\n",
    "print(\"Mean Square Error:\", mean_squared_error(Y_test,pred_Lr))\n",
    "print(\"Root Square Error:\", np.sqrt(mean_squared_error(Y_test,pred_Lr)))"
   ]
  },
  {
   "cell_type": "code",
   "execution_count": 295,
   "id": "13a1dd21",
   "metadata": {},
   "outputs": [],
   "source": [
    "# Random Forest Regressor"
   ]
  },
  {
   "cell_type": "code",
   "execution_count": 296,
   "id": "dd8002e0",
   "metadata": {},
   "outputs": [
    {
     "name": "stdout",
     "output_type": "stream",
     "text": [
      "r_2 score 0.18299611336110866\n",
      "r_2 score on Training Data 0.8902632217792574\n",
      "Mean Absolute Error: 8.28153987022737\n",
      "Mean Square Error: 100.2760704495918\n",
      "Root Square Error: 10.013794008745727\n"
     ]
    }
   ],
   "source": [
    "RFR=RandomForestRegressor()\n",
    "RFR.fit(X_train, Y_train)\n",
    "RFR.fit(X_train,Y_train)\n",
    "pred_RFR=RFR.predict(X_test)\n",
    "pred_train=RFR.predict(X_train)\n",
    "\n",
    "print(\"r_2 score\", r2_score(Y_test,pred_RFR ))\n",
    "print(\"r_2 score on Training Data\",r2_score(Y_train,pred_train ))\n",
    "print(\"Mean Absolute Error:\", mean_absolute_error(Y_test,pred_RFR ))\n",
    "print(\"Mean Square Error:\", mean_squared_error(Y_test,pred_RFR))\n",
    "print(\"Root Square Error:\", np.sqrt(mean_squared_error(Y_test,pred_RFR)))"
   ]
  },
  {
   "cell_type": "code",
   "execution_count": 297,
   "id": "4b933854",
   "metadata": {},
   "outputs": [],
   "source": [
    "# KNN"
   ]
  },
  {
   "cell_type": "code",
   "execution_count": 298,
   "id": "eea6737a",
   "metadata": {},
   "outputs": [
    {
     "name": "stdout",
     "output_type": "stream",
     "text": [
      "r_2 score 0.046265526279158475\n",
      "r_2 score on Training Data 0.4200334238117087\n",
      "Mean Absolute Error: 8.98536036036036\n",
      "Mean Square Error: 117.05788288288288\n",
      "Root Square Error: 10.819329132755085\n"
     ]
    }
   ],
   "source": [
    "knn=KNN()\n",
    "\n",
    "knn.fit(X_train, Y_train)\n",
    "knn.fit(X_train,Y_train)\n",
    "pred_knn=knn.predict(X_test)\n",
    "pred_train=knn.predict(X_train)\n",
    "\n",
    "print(\"r_2 score\", r2_score(Y_test,pred_knn ))\n",
    "print(\"r_2 score on Training Data\",r2_score(Y_train,pred_train ))\n",
    "print(\"Mean Absolute Error:\", mean_absolute_error(Y_test,pred_knn ))\n",
    "print(\"Mean Square Error:\", mean_squared_error(Y_test,pred_knn))\n",
    "print(\"Root Square Error:\", np.sqrt(mean_squared_error(Y_test,pred_knn)))"
   ]
  },
  {
   "cell_type": "code",
   "execution_count": 299,
   "id": "ea2cd730",
   "metadata": {},
   "outputs": [],
   "source": [
    "#Gradient Boosting Regressor"
   ]
  },
  {
   "cell_type": "code",
   "execution_count": 302,
   "id": "aeb86b92",
   "metadata": {},
   "outputs": [
    {
     "name": "stdout",
     "output_type": "stream",
     "text": [
      "r_2 score 0.21436507803160054\n",
      "r_2 score on Training Data 0.34869810557295433\n",
      "Mean Absolute Error: 8.686749606162282\n",
      "Mean Square Error: 96.4259583966741\n",
      "Root Square Error: 9.81967201064649\n"
     ]
    }
   ],
   "source": [
    "gbb=GradientBoostingRegressor()\n",
    "gbb.fit(X_train, Y_train)\n",
    "pred_gbb=gbb.predict(X_test)\n",
    "pred_train=gbb.predict(X_train)\n",
    "print(\"r_2 score\", r2_score(Y_test,pred_gbb ))\n",
    "print(\"r_2 score on Training Data\",r2_score(Y_train,pred_train ))\n",
    "print(\"Mean Absolute Error:\", mean_absolute_error(Y_test,pred_gbb ))\n",
    "print(\"Mean Square Error:\", mean_squared_error(Y_test,pred_gbb))\n",
    "print(\"Root Square Error:\", np.sqrt(mean_squared_error(Y_test,pred_gbb)))\n"
   ]
  },
  {
   "cell_type": "code",
   "execution_count": 303,
   "id": "f70fd729",
   "metadata": {},
   "outputs": [],
   "source": [
    "# Lasso Model"
   ]
  },
  {
   "cell_type": "code",
   "execution_count": 304,
   "id": "c1f695ca",
   "metadata": {},
   "outputs": [
    {
     "name": "stdout",
     "output_type": "stream",
     "text": [
      "r_2 score 0.08341718599347547\n",
      "r_2 score on Training Data 0.09448462054556395\n",
      "Mean Absolute Error: 9.821917950261248\n",
      "Mean Square Error: 112.49802397920215\n",
      "Root Square Error: 10.606508566875442\n"
     ]
    }
   ],
   "source": [
    "lasso=Lasso()\n",
    "lasso.fit(X_train, Y_train)\n",
    "lasso.fit(X_train,Y_train)\n",
    "pred_lasso=lasso.predict(X_test)\n",
    "pred_train=lasso.predict(X_train)\n",
    "\n",
    "print(\"r_2 score\", r2_score(Y_test,pred_lasso ))\n",
    "print(\"r_2 score on Training Data\",r2_score(Y_train,pred_train ))\n",
    "print(\"Mean Absolute Error:\", mean_absolute_error(Y_test,pred_lasso ))\n",
    "print(\"Mean Square Error:\", mean_squared_error(Y_test,pred_lasso))\n",
    "print(\"Root Square Error:\", np.sqrt(mean_squared_error(Y_test,pred_lasso)))"
   ]
  },
  {
   "cell_type": "code",
   "execution_count": 305,
   "id": "df21dfeb",
   "metadata": {},
   "outputs": [],
   "source": [
    "#Ridge Model"
   ]
  },
  {
   "cell_type": "code",
   "execution_count": 306,
   "id": "2e4da8ef",
   "metadata": {},
   "outputs": [
    {
     "name": "stdout",
     "output_type": "stream",
     "text": [
      "r_2 score 0.11314196022345069\n",
      "r_2 score on Training Data 0.12775387998170307\n",
      "Mean Absolute Error: 9.578417191684435\n",
      "Mean Square Error: 108.84971385053731\n",
      "Root Square Error: 10.43310662509194\n"
     ]
    }
   ],
   "source": [
    "rd=Ridge()\n",
    "rd.fit(X_train, Y_train)\n",
    "rd.fit(X_train,Y_train)\n",
    "pred_rd=rd.predict(X_test)\n",
    "pred_train=rd.predict(X_train)\n",
    "\n",
    "print(\"r_2 score\", r2_score(Y_test,pred_rd ))\n",
    "print(\"r_2 score on Training Data\",r2_score(Y_train,pred_train ))\n",
    "print(\"Mean Absolute Error:\", mean_absolute_error(Y_test,pred_rd ))\n",
    "print(\"Mean Square Error:\", mean_squared_error(Y_test,pred_rd))\n",
    "print(\"Root Square Error:\", np.sqrt(mean_squared_error(Y_test,pred_rd)))"
   ]
  },
  {
   "cell_type": "code",
   "execution_count": 307,
   "id": "d8b968c0",
   "metadata": {},
   "outputs": [],
   "source": [
    "# Decision Tree Regressor"
   ]
  },
  {
   "cell_type": "code",
   "execution_count": 308,
   "id": "a5b977c9",
   "metadata": {},
   "outputs": [
    {
     "name": "stdout",
     "output_type": "stream",
     "text": [
      "r_2 score -0.32943084389358934\n",
      "r_2 score on Training Data 0.9997542759617234\n",
      "Mean Absolute Error: 8.652027027027026\n",
      "Mean Square Error: 163.169481981982\n",
      "Root Square Error: 12.773781037029796\n"
     ]
    }
   ],
   "source": [
    "dtr= DecisionTreeRegressor()\n",
    "dtr.fit(X_train, Y_train)\n",
    "dtr.fit(X_train,Y_train)\n",
    "pred_dtr=dtr.predict(X_test)\n",
    "pred_train=dtr.predict(X_train)\n",
    "\n",
    "print(\"r_2 score\", r2_score(Y_test,pred_dtr ))\n",
    "print(\"r_2 score on Training Data\",r2_score(Y_train,pred_train ))\n",
    "print(\"Mean Absolute Error:\", mean_absolute_error(Y_test,pred_dtr ))\n",
    "print(\"Mean Square Error:\", mean_squared_error(Y_test,pred_dtr))\n",
    "print(\"Root Square Error:\", np.sqrt(mean_squared_error(Y_test,pred_dtr)))"
   ]
  },
  {
   "cell_type": "code",
   "execution_count": 309,
   "id": "d90b664f",
   "metadata": {},
   "outputs": [],
   "source": [
    " # Extra Trees Regressor"
   ]
  },
  {
   "cell_type": "code",
   "execution_count": 310,
   "id": "76d0d8f3",
   "metadata": {},
   "outputs": [
    {
     "name": "stdout",
     "output_type": "stream",
     "text": [
      "r_2 score 0.07742425556560506\n",
      "r_2 score on Training Data 0.9997542735447656\n",
      "Mean Absolute Error: 8.481469594594595\n",
      "Mean Square Error: 113.23357435247749\n",
      "Root Square Error: 10.6411265546688\n"
     ]
    }
   ],
   "source": [
    "etr=ExtraTreesRegressor()\n",
    "\n",
    "etr.fit(X_train, Y_train)\n",
    "etr.fit(X_train,Y_train)\n",
    "pred_etr=etr.predict(X_test)\n",
    "pred_train=etr.predict(X_train)\n",
    "\n",
    "print(\"r_2 score\", r2_score(Y_test,pred_etr ))\n",
    "print(\"r_2 score on Training Data\",r2_score(Y_train,pred_train ))\n",
    "print(\"Mean Absolute Error:\", mean_absolute_error(Y_test,pred_etr ))\n",
    "print(\"Mean Square Error:\", mean_squared_error(Y_test,pred_etr))\n",
    "print(\"Root Square Error:\", np.sqrt(mean_squared_error(Y_test,pred_etr)))"
   ]
  },
  {
   "cell_type": "code",
   "execution_count": 311,
   "id": "9ef8dea2",
   "metadata": {},
   "outputs": [],
   "source": [
    "#difference between R2 score of Linear Regression and Cross Validation Score"
   ]
  },
  {
   "cell_type": "code",
   "execution_count": 312,
   "id": "07b8a8a9",
   "metadata": {},
   "outputs": [
    {
     "name": "stdout",
     "output_type": "stream",
     "text": [
      "[-0.58103664  0.06477777  0.02716064 -0.01024381  0.10874935]\n",
      "-0.07811854025115803\n",
      "Difference between r_2 score and Cross Validation score is 0.1912594574327375\n"
     ]
    }
   ],
   "source": [
    "score=cross_val_score(Lr, X, Y, cv=5, scoring='r2')\n",
    "print(score)\n",
    "print(score.mean())\n",
    "print(\"Difference between r_2 score and Cross Validation score is\", r2_score(Y_test,pred_Lr )- score.mean())"
   ]
  },
  {
   "cell_type": "code",
   "execution_count": 313,
   "id": "07e72a83",
   "metadata": {},
   "outputs": [],
   "source": [
    "# difference between R2 score of Random Fores and CVS"
   ]
  },
  {
   "cell_type": "code",
   "execution_count": 314,
   "id": "122d0b5a",
   "metadata": {},
   "outputs": [
    {
     "name": "stdout",
     "output_type": "stream",
     "text": [
      "[-0.3299799  -0.02309578 -0.01081596  0.18938548  0.10724903]\n",
      "-0.013451427257390769\n",
      "Difference between r_2 score and Cross Validation score is 0.19644754061849942\n"
     ]
    }
   ],
   "source": [
    "score1=cross_val_score(RFR, X, Y, cv=5, scoring='r2')\n",
    "print(score1)\n",
    "print(score1.mean())\n",
    "print(\"Difference between r_2 score and Cross Validation score is\", r2_score(Y_test,pred_RFR )- score1.mean())"
   ]
  },
  {
   "cell_type": "code",
   "execution_count": 315,
   "id": "3b380d0a",
   "metadata": {},
   "outputs": [],
   "source": [
    "# difference between R2 score of KNN and CVS"
   ]
  },
  {
   "cell_type": "code",
   "execution_count": 316,
   "id": "2262f5eb",
   "metadata": {},
   "outputs": [
    {
     "name": "stdout",
     "output_type": "stream",
     "text": [
      "[-0.39171218 -0.05409049  0.04161925  0.09097755  0.05026649]\n",
      "-0.052587875510652804\n",
      "Difference between r_2 score and Cross Validation score is 0.09885340178981128\n"
     ]
    }
   ],
   "source": [
    "score2=cross_val_score(knn, X, Y, cv=5, scoring='r2')\n",
    "print(score2)\n",
    "print(score2.mean())\n",
    "print(\"Difference between r_2 score and Cross Validation score is\", r2_score(Y_test,pred_knn )- score2.mean())"
   ]
  },
  {
   "cell_type": "code",
   "execution_count": 317,
   "id": "346efd6b",
   "metadata": {},
   "outputs": [],
   "source": [
    "# difference between Gradient Boost and CVS"
   ]
  },
  {
   "cell_type": "code",
   "execution_count": 319,
   "id": "9da6e511",
   "metadata": {},
   "outputs": [
    {
     "name": "stdout",
     "output_type": "stream",
     "text": [
      "[-0.36721634  0.04720626  0.13568389  0.18012534  0.17887072]\n",
      "0.0349339739658985\n",
      "Difference between r_2 score and Cross Validation score is 0.17943110406570204\n"
     ]
    }
   ],
   "source": [
    "score3=cross_val_score(gbb, X, Y, cv=5, scoring='r2')\n",
    "print(score3)\n",
    "print(score3.mean())\n",
    "print(\"Difference between r_2 score and Cross Validation score is\", r2_score(Y_test,pred_gbb )- score3.mean())"
   ]
  },
  {
   "cell_type": "code",
   "execution_count": 320,
   "id": "b0ab4402",
   "metadata": {},
   "outputs": [],
   "source": [
    "# difference between R2 score of Lasso and CVS"
   ]
  },
  {
   "cell_type": "code",
   "execution_count": 321,
   "id": "d5acd8c5",
   "metadata": {},
   "outputs": [
    {
     "name": "stdout",
     "output_type": "stream",
     "text": [
      "[-0.04836228 -0.00586209  0.03228397 -0.04924097  0.06380418]\n",
      "-0.0014754377839379495\n",
      "Difference between r_2 score and Cross Validation score is 0.08489262377741343\n"
     ]
    }
   ],
   "source": [
    "score4=cross_val_score(lasso, X, Y, cv=5, scoring='r2')\n",
    "print(score4)\n",
    "print(score4.mean())\n",
    "print(\"Difference between r_2 score and Cross Validation score is\", r2_score(Y_test,pred_lasso )- score4.mean())"
   ]
  },
  {
   "cell_type": "code",
   "execution_count": 322,
   "id": "e44b2099",
   "metadata": {},
   "outputs": [],
   "source": [
    "# difference between R2 score of Ridge and CVS"
   ]
  },
  {
   "cell_type": "code",
   "execution_count": 323,
   "id": "7451f7e2",
   "metadata": {},
   "outputs": [
    {
     "name": "stdout",
     "output_type": "stream",
     "text": [
      "[-0.57970304  0.0647844   0.02719868 -0.01025974  0.10875848]\n",
      "-0.07784424428801082\n",
      "Difference between r_2 score and Cross Validation score is 0.1612614302814863\n"
     ]
    }
   ],
   "source": [
    "score5=cross_val_score(rd, X, Y, cv=5, scoring='r2')\n",
    "print(score5)\n",
    "print(score5.mean())\n",
    "print(\"Difference between r_2 score and Cross Validation score is\", r2_score(Y_test,pred_lasso )- score5.mean())"
   ]
  },
  {
   "cell_type": "code",
   "execution_count": 324,
   "id": "c3b91d0c",
   "metadata": {},
   "outputs": [],
   "source": [
    "# difference between R2 score of Decession tree and CVS"
   ]
  },
  {
   "cell_type": "code",
   "execution_count": 325,
   "id": "4acb92d1",
   "metadata": {},
   "outputs": [
    {
     "name": "stdout",
     "output_type": "stream",
     "text": [
      "[-1.0329679  -0.76317319 -0.75614837 -0.46761329 -0.56082612]\n",
      "-0.7161457736118464\n",
      "Difference between r_2 score and Cross Validation score is 0.38671492971825705\n"
     ]
    }
   ],
   "source": [
    "score6=cross_val_score(dtr, X, Y, cv=5, scoring='r2')\n",
    "print(score6)\n",
    "print(score6.mean())\n",
    "print(\"Difference between r_2 score and Cross Validation score is\", r2_score(Y_test,pred_dtr )- score6.mean())"
   ]
  },
  {
   "cell_type": "code",
   "execution_count": 326,
   "id": "30a32754",
   "metadata": {},
   "outputs": [],
   "source": [
    "# difference between R2 score of Extra Tree regressor and CVS"
   ]
  },
  {
   "cell_type": "code",
   "execution_count": 327,
   "id": "df211034",
   "metadata": {},
   "outputs": [
    {
     "name": "stdout",
     "output_type": "stream",
     "text": [
      "[-0.41370651 -0.09160167 -0.05447286  0.1934403   0.05704147]\n",
      "-0.06185985448099827\n",
      "Difference between r_2 score and Cross Validation score is 0.13928411004660332\n"
     ]
    }
   ],
   "source": [
    "score8=cross_val_score(etr, X, Y, cv=5, scoring='r2')\n",
    "print(score8)\n",
    "print(score8.mean())\n",
    "print(\"Difference between r_2 score and Cross Validation score is\", r2_score(Y_test,pred_etr )- score8.mean())"
   ]
  },
  {
   "cell_type": "code",
   "execution_count": 328,
   "id": "36bc3470",
   "metadata": {},
   "outputs": [],
   "source": [
    "# So from above results we can see that Lasso Regression has difference of 0.08, which is very low in compare with \n",
    "# all other model so we will go with Lasso model"
   ]
  },
  {
   "cell_type": "code",
   "execution_count": 329,
   "id": "65ab1ac5",
   "metadata": {},
   "outputs": [],
   "source": [
    "from sklearn.linear_model import Lasso\n",
    "from sklearn.model_selection import GridSearchCV, train_test_split\n",
    "from sklearn.metrics import make_scorer, r2_score"
   ]
  },
  {
   "cell_type": "code",
   "execution_count": 330,
   "id": "40069e5c",
   "metadata": {},
   "outputs": [
    {
     "name": "stdout",
     "output_type": "stream",
     "text": [
      "Best alpha: 0.1\n",
      "R-squared score on test set: 0.1495307083287325\n"
     ]
    }
   ],
   "source": [
    "X_train, X_test, Y_train, Y_test = train_test_split(X, Y, test_size=0.3, random_state=65)\n",
    "ls = Lasso()\n",
    "param_grid = {'alpha': [0.1, 1.0, 10.0, 100.0]}\n",
    "grid_search = GridSearchCV(ls, param_grid, scoring=make_scorer(r2_score), cv=5)\n",
    "grid_search.fit(X_train, Y_train)\n",
    "best_alpha = grid_search.best_params_['alpha']\n",
    "best_lasso_model = Lasso(alpha=best_alpha)\n",
    "best_lasso_model.fit(X_train, Y_train)\n",
    "pred_lasso = best_lasso_model.predict(X_test)\n",
    "print(\"Best alpha:\", best_alpha) # Evaluation of the model\n",
    "print(\"R-squared score on test set:\", r2_score(Y_test, pred_lasso))"
   ]
  },
  {
   "cell_type": "code",
   "execution_count": 331,
   "id": "d8b2674e",
   "metadata": {},
   "outputs": [
    {
     "name": "stdout",
     "output_type": "stream",
     "text": [
      "r_2 score 0.1495307083287325\n",
      "Mean Absolute Error: 9.145425190517503\n",
      "Mean Square Error: 100.10931492089695\n",
      "Root Square Error: 10.005464253141728\n"
     ]
    }
   ],
   "source": [
    "ls=Lasso(alpha=best_alpha)\n",
    "final_model=ls.fit(X_train,Y_train)\n",
    "pred_finally=final_model.predict(X_test)\n",
    "print(\"r_2 score\", r2_score(Y_test,pred_finally ))\n",
    "print(\"Mean Absolute Error:\", mean_absolute_error(Y_test,pred_finally ))\n",
    "print(\"Mean Square Error:\", mean_squared_error(Y_test,pred_finally))\n",
    "print(\"Root Square Error:\", np.sqrt(mean_squared_error(Y_test,pred_finally)))"
   ]
  },
  {
   "cell_type": "code",
   "execution_count": 332,
   "id": "5cf4b472",
   "metadata": {},
   "outputs": [],
   "source": [
    "#Prediction"
   ]
  },
  {
   "cell_type": "code",
   "execution_count": 333,
   "id": "fcc61cc1",
   "metadata": {},
   "outputs": [
    {
     "data": {
      "text/html": [
       "<div>\n",
       "<style scoped>\n",
       "    .dataframe tbody tr th:only-of-type {\n",
       "        vertical-align: middle;\n",
       "    }\n",
       "\n",
       "    .dataframe tbody tr th {\n",
       "        vertical-align: top;\n",
       "    }\n",
       "\n",
       "    .dataframe thead th {\n",
       "        text-align: right;\n",
       "    }\n",
       "</style>\n",
       "<table border=\"1\" class=\"dataframe\">\n",
       "  <thead>\n",
       "    <tr style=\"text-align: right;\">\n",
       "      <th></th>\n",
       "      <th>Predicted_Values</th>\n",
       "      <th>Actual_Values</th>\n",
       "    </tr>\n",
       "  </thead>\n",
       "  <tbody>\n",
       "    <tr>\n",
       "      <th>0</th>\n",
       "      <td>18.708265</td>\n",
       "      <td>19</td>\n",
       "    </tr>\n",
       "    <tr>\n",
       "      <th>1</th>\n",
       "      <td>13.766233</td>\n",
       "      <td>1</td>\n",
       "    </tr>\n",
       "    <tr>\n",
       "      <th>2</th>\n",
       "      <td>10.108152</td>\n",
       "      <td>1</td>\n",
       "    </tr>\n",
       "    <tr>\n",
       "      <th>3</th>\n",
       "      <td>18.612293</td>\n",
       "      <td>10</td>\n",
       "    </tr>\n",
       "    <tr>\n",
       "      <th>4</th>\n",
       "      <td>22.538954</td>\n",
       "      <td>32</td>\n",
       "    </tr>\n",
       "  </tbody>\n",
       "</table>\n",
       "</div>"
      ],
      "text/plain": [
       "   Predicted_Values  Actual_Values\n",
       "0         18.708265             19\n",
       "1         13.766233              1\n",
       "2         10.108152              1\n",
       "3         18.612293             10\n",
       "4         22.538954             32"
      ]
     },
     "execution_count": 333,
     "metadata": {},
     "output_type": "execute_result"
    }
   ],
   "source": [
    "prediction = final_model.predict(X_test)\n",
    "Actual = np.array(Y_test)\n",
    "df_Pred = pd.DataFrame()\n",
    "df_Pred[\"Predicted_Values\"] = prediction\n",
    "df_Pred[\"Actual_Values\"] = Actual\n",
    "df_Pred.head()"
   ]
  },
  {
   "cell_type": "code",
   "execution_count": 334,
   "id": "156f3990",
   "metadata": {},
   "outputs": [],
   "source": [
    " #Saving model"
   ]
  },
  {
   "cell_type": "code",
   "execution_count": 335,
   "id": "7764e878",
   "metadata": {},
   "outputs": [
    {
     "data": {
      "text/plain": [
       "['Propert_type_prediction.pkl']"
      ]
     },
     "execution_count": 335,
     "metadata": {},
     "output_type": "execute_result"
    }
   ],
   "source": [
    "joblib.dump(final_model,'Propert_type_prediction.pkl')"
   ]
  },
  {
   "cell_type": "code",
   "execution_count": null,
   "id": "0d0fc2af",
   "metadata": {},
   "outputs": [],
   "source": []
  }
 ],
 "metadata": {
  "kernelspec": {
   "display_name": "Python 3 (ipykernel)",
   "language": "python",
   "name": "python3"
  },
  "language_info": {
   "codemirror_mode": {
    "name": "ipython",
    "version": 3
   },
   "file_extension": ".py",
   "mimetype": "text/x-python",
   "name": "python",
   "nbconvert_exporter": "python",
   "pygments_lexer": "ipython3",
   "version": "3.10.9"
  }
 },
 "nbformat": 4,
 "nbformat_minor": 5
}
